{
 "cells": [
  {
   "cell_type": "code",
   "execution_count": 1,
   "id": "26345ea3",
   "metadata": {},
   "outputs": [],
   "source": [
    "import pandas as pd\n",
    "import numpy as np\n",
    "import matplotlib.pyplot as plt\n",
    "import seaborn as sns"
   ]
  },
  {
   "cell_type": "code",
   "execution_count": 2,
   "id": "69f82c82",
   "metadata": {},
   "outputs": [],
   "source": [
    "data = pd.read_csv('kidney_disease.csv')"
   ]
  },
  {
   "cell_type": "code",
   "execution_count": 3,
   "id": "cf8e5d30",
   "metadata": {},
   "outputs": [
    {
     "data": {
      "text/html": [
       "<div>\n",
       "<style scoped>\n",
       "    .dataframe tbody tr th:only-of-type {\n",
       "        vertical-align: middle;\n",
       "    }\n",
       "\n",
       "    .dataframe tbody tr th {\n",
       "        vertical-align: top;\n",
       "    }\n",
       "\n",
       "    .dataframe thead th {\n",
       "        text-align: right;\n",
       "    }\n",
       "</style>\n",
       "<table border=\"1\" class=\"dataframe\">\n",
       "  <thead>\n",
       "    <tr style=\"text-align: right;\">\n",
       "      <th></th>\n",
       "      <th>id</th>\n",
       "      <th>age</th>\n",
       "      <th>bp</th>\n",
       "      <th>sg</th>\n",
       "      <th>al</th>\n",
       "      <th>su</th>\n",
       "      <th>rbc</th>\n",
       "      <th>pc</th>\n",
       "      <th>pcc</th>\n",
       "      <th>ba</th>\n",
       "      <th>...</th>\n",
       "      <th>pcv</th>\n",
       "      <th>wc</th>\n",
       "      <th>rc</th>\n",
       "      <th>htn</th>\n",
       "      <th>dm</th>\n",
       "      <th>cad</th>\n",
       "      <th>appet</th>\n",
       "      <th>pe</th>\n",
       "      <th>ane</th>\n",
       "      <th>classification</th>\n",
       "    </tr>\n",
       "  </thead>\n",
       "  <tbody>\n",
       "    <tr>\n",
       "      <th>0</th>\n",
       "      <td>0</td>\n",
       "      <td>48.0</td>\n",
       "      <td>80.0</td>\n",
       "      <td>1.020</td>\n",
       "      <td>1.0</td>\n",
       "      <td>0.0</td>\n",
       "      <td>NaN</td>\n",
       "      <td>normal</td>\n",
       "      <td>notpresent</td>\n",
       "      <td>notpresent</td>\n",
       "      <td>...</td>\n",
       "      <td>44</td>\n",
       "      <td>7800</td>\n",
       "      <td>5.2</td>\n",
       "      <td>yes</td>\n",
       "      <td>yes</td>\n",
       "      <td>no</td>\n",
       "      <td>good</td>\n",
       "      <td>no</td>\n",
       "      <td>no</td>\n",
       "      <td>ckd</td>\n",
       "    </tr>\n",
       "    <tr>\n",
       "      <th>1</th>\n",
       "      <td>1</td>\n",
       "      <td>7.0</td>\n",
       "      <td>50.0</td>\n",
       "      <td>1.020</td>\n",
       "      <td>4.0</td>\n",
       "      <td>0.0</td>\n",
       "      <td>NaN</td>\n",
       "      <td>normal</td>\n",
       "      <td>notpresent</td>\n",
       "      <td>notpresent</td>\n",
       "      <td>...</td>\n",
       "      <td>38</td>\n",
       "      <td>6000</td>\n",
       "      <td>NaN</td>\n",
       "      <td>no</td>\n",
       "      <td>no</td>\n",
       "      <td>no</td>\n",
       "      <td>good</td>\n",
       "      <td>no</td>\n",
       "      <td>no</td>\n",
       "      <td>ckd</td>\n",
       "    </tr>\n",
       "    <tr>\n",
       "      <th>2</th>\n",
       "      <td>2</td>\n",
       "      <td>62.0</td>\n",
       "      <td>80.0</td>\n",
       "      <td>1.010</td>\n",
       "      <td>2.0</td>\n",
       "      <td>3.0</td>\n",
       "      <td>normal</td>\n",
       "      <td>normal</td>\n",
       "      <td>notpresent</td>\n",
       "      <td>notpresent</td>\n",
       "      <td>...</td>\n",
       "      <td>31</td>\n",
       "      <td>7500</td>\n",
       "      <td>NaN</td>\n",
       "      <td>no</td>\n",
       "      <td>yes</td>\n",
       "      <td>no</td>\n",
       "      <td>poor</td>\n",
       "      <td>no</td>\n",
       "      <td>yes</td>\n",
       "      <td>ckd</td>\n",
       "    </tr>\n",
       "    <tr>\n",
       "      <th>3</th>\n",
       "      <td>3</td>\n",
       "      <td>48.0</td>\n",
       "      <td>70.0</td>\n",
       "      <td>1.005</td>\n",
       "      <td>4.0</td>\n",
       "      <td>0.0</td>\n",
       "      <td>normal</td>\n",
       "      <td>abnormal</td>\n",
       "      <td>present</td>\n",
       "      <td>notpresent</td>\n",
       "      <td>...</td>\n",
       "      <td>32</td>\n",
       "      <td>6700</td>\n",
       "      <td>3.9</td>\n",
       "      <td>yes</td>\n",
       "      <td>no</td>\n",
       "      <td>no</td>\n",
       "      <td>poor</td>\n",
       "      <td>yes</td>\n",
       "      <td>yes</td>\n",
       "      <td>ckd</td>\n",
       "    </tr>\n",
       "    <tr>\n",
       "      <th>4</th>\n",
       "      <td>4</td>\n",
       "      <td>51.0</td>\n",
       "      <td>80.0</td>\n",
       "      <td>1.010</td>\n",
       "      <td>2.0</td>\n",
       "      <td>0.0</td>\n",
       "      <td>normal</td>\n",
       "      <td>normal</td>\n",
       "      <td>notpresent</td>\n",
       "      <td>notpresent</td>\n",
       "      <td>...</td>\n",
       "      <td>35</td>\n",
       "      <td>7300</td>\n",
       "      <td>4.6</td>\n",
       "      <td>no</td>\n",
       "      <td>no</td>\n",
       "      <td>no</td>\n",
       "      <td>good</td>\n",
       "      <td>no</td>\n",
       "      <td>no</td>\n",
       "      <td>ckd</td>\n",
       "    </tr>\n",
       "  </tbody>\n",
       "</table>\n",
       "<p>5 rows × 26 columns</p>\n",
       "</div>"
      ],
      "text/plain": [
       "   id   age    bp     sg   al   su     rbc        pc         pcc          ba  \\\n",
       "0   0  48.0  80.0  1.020  1.0  0.0     NaN    normal  notpresent  notpresent   \n",
       "1   1   7.0  50.0  1.020  4.0  0.0     NaN    normal  notpresent  notpresent   \n",
       "2   2  62.0  80.0  1.010  2.0  3.0  normal    normal  notpresent  notpresent   \n",
       "3   3  48.0  70.0  1.005  4.0  0.0  normal  abnormal     present  notpresent   \n",
       "4   4  51.0  80.0  1.010  2.0  0.0  normal    normal  notpresent  notpresent   \n",
       "\n",
       "   ...  pcv    wc   rc  htn   dm  cad appet   pe  ane classification  \n",
       "0  ...   44  7800  5.2  yes  yes   no  good   no   no            ckd  \n",
       "1  ...   38  6000  NaN   no   no   no  good   no   no            ckd  \n",
       "2  ...   31  7500  NaN   no  yes   no  poor   no  yes            ckd  \n",
       "3  ...   32  6700  3.9  yes   no   no  poor  yes  yes            ckd  \n",
       "4  ...   35  7300  4.6   no   no   no  good   no   no            ckd  \n",
       "\n",
       "[5 rows x 26 columns]"
      ]
     },
     "execution_count": 3,
     "metadata": {},
     "output_type": "execute_result"
    }
   ],
   "source": [
    "data.head()"
   ]
  },
  {
   "cell_type": "code",
   "execution_count": 4,
   "id": "3430ea86",
   "metadata": {},
   "outputs": [
    {
     "data": {
      "text/plain": [
       "(400, 26)"
      ]
     },
     "execution_count": 4,
     "metadata": {},
     "output_type": "execute_result"
    }
   ],
   "source": [
    "data.shape"
   ]
  },
  {
   "cell_type": "code",
   "execution_count": 5,
   "id": "c97025f1",
   "metadata": {},
   "outputs": [
    {
     "name": "stdout",
     "output_type": "stream",
     "text": [
      "<class 'pandas.core.frame.DataFrame'>\n",
      "RangeIndex: 400 entries, 0 to 399\n",
      "Data columns (total 26 columns):\n",
      " #   Column          Non-Null Count  Dtype  \n",
      "---  ------          --------------  -----  \n",
      " 0   id              400 non-null    int64  \n",
      " 1   age             391 non-null    float64\n",
      " 2   bp              388 non-null    float64\n",
      " 3   sg              353 non-null    float64\n",
      " 4   al              354 non-null    float64\n",
      " 5   su              351 non-null    float64\n",
      " 6   rbc             248 non-null    object \n",
      " 7   pc              335 non-null    object \n",
      " 8   pcc             396 non-null    object \n",
      " 9   ba              396 non-null    object \n",
      " 10  bgr             356 non-null    float64\n",
      " 11  bu              381 non-null    float64\n",
      " 12  sc              383 non-null    float64\n",
      " 13  sod             313 non-null    float64\n",
      " 14  pot             312 non-null    float64\n",
      " 15  hemo            348 non-null    float64\n",
      " 16  pcv             330 non-null    object \n",
      " 17  wc              295 non-null    object \n",
      " 18  rc              270 non-null    object \n",
      " 19  htn             398 non-null    object \n",
      " 20  dm              398 non-null    object \n",
      " 21  cad             398 non-null    object \n",
      " 22  appet           399 non-null    object \n",
      " 23  pe              399 non-null    object \n",
      " 24  ane             399 non-null    object \n",
      " 25  classification  400 non-null    object \n",
      "dtypes: float64(11), int64(1), object(14)\n",
      "memory usage: 81.4+ KB\n"
     ]
    }
   ],
   "source": [
    "data.info()"
   ]
  },
  {
   "cell_type": "code",
   "execution_count": 6,
   "id": "f6397303",
   "metadata": {},
   "outputs": [
    {
     "data": {
      "text/plain": [
       "0"
      ]
     },
     "execution_count": 6,
     "metadata": {},
     "output_type": "execute_result"
    }
   ],
   "source": [
    "data['id'].duplicated().sum()"
   ]
  },
  {
   "cell_type": "code",
   "execution_count": 7,
   "id": "ca334333",
   "metadata": {},
   "outputs": [
    {
     "data": {
      "text/plain": [
       "0"
      ]
     },
     "execution_count": 7,
     "metadata": {},
     "output_type": "execute_result"
    }
   ],
   "source": [
    "data.drop('id', axis=1).duplicated().sum()"
   ]
  },
  {
   "cell_type": "code",
   "execution_count": 8,
   "id": "b9db3a33",
   "metadata": {},
   "outputs": [
    {
     "name": "stdout",
     "output_type": "stream",
     "text": [
      " Total Missing values in age : 9\n",
      "------\n",
      " Total Missing values in bp : 12\n",
      "------\n",
      " Total Missing values in sg : 47\n",
      "------\n",
      " Total Missing values in al : 46\n",
      "------\n",
      " Total Missing values in su : 49\n",
      "------\n",
      " Total Missing values in rbc : 152\n",
      "------\n",
      " Total Missing values in pc : 65\n",
      "------\n",
      " Total Missing values in pcc : 4\n",
      "------\n",
      " Total Missing values in ba : 4\n",
      "------\n",
      " Total Missing values in bgr : 44\n",
      "------\n",
      " Total Missing values in bu : 19\n",
      "------\n",
      " Total Missing values in sc : 17\n",
      "------\n",
      " Total Missing values in sod : 87\n",
      "------\n",
      " Total Missing values in pot : 88\n",
      "------\n",
      " Total Missing values in hemo : 52\n",
      "------\n",
      " Total Missing values in pcv : 70\n",
      "------\n",
      " Total Missing values in wc : 105\n",
      "------\n",
      " Total Missing values in rc : 130\n",
      "------\n",
      " Total Missing values in htn : 2\n",
      "------\n",
      " Total Missing values in dm : 2\n",
      "------\n",
      " Total Missing values in cad : 2\n",
      "------\n",
      " Total Missing values in appet : 1\n",
      "------\n",
      " Total Missing values in pe : 1\n",
      "------\n",
      " Total Missing values in ane : 1\n",
      "------\n",
      " Total Missing values in classification : 0\n",
      "------\n"
     ]
    }
   ],
   "source": [
    "for i in data.columns[1:]:\n",
    "    a = 1\n",
    "    \n",
    "    print(f\" Total Missing values in { i } : {data[i].isnull().sum()}\")\n",
    "    a+=1\n",
    "    print('------')"
   ]
  },
  {
   "cell_type": "code",
   "execution_count": 9,
   "id": "65507140",
   "metadata": {},
   "outputs": [
    {
     "data": {
      "text/plain": [
       "id                  0\n",
       "age                 9\n",
       "bp                 12\n",
       "sg                 47\n",
       "al                 46\n",
       "su                 49\n",
       "rbc               152\n",
       "pc                 65\n",
       "pcc                 4\n",
       "ba                  4\n",
       "bgr                44\n",
       "bu                 19\n",
       "sc                 17\n",
       "sod                87\n",
       "pot                88\n",
       "hemo               52\n",
       "pcv                70\n",
       "wc                105\n",
       "rc                130\n",
       "htn                 2\n",
       "dm                  2\n",
       "cad                 2\n",
       "appet               1\n",
       "pe                  1\n",
       "ane                 1\n",
       "classification      0\n",
       "dtype: int64"
      ]
     },
     "execution_count": 9,
     "metadata": {},
     "output_type": "execute_result"
    }
   ],
   "source": [
    "data.isnull().sum()"
   ]
  },
  {
   "cell_type": "code",
   "execution_count": 10,
   "id": "61b3e043",
   "metadata": {},
   "outputs": [
    {
     "name": "stdout",
     "output_type": "stream",
     "text": [
      "<class 'pandas.core.frame.DataFrame'>\n",
      "RangeIndex: 400 entries, 0 to 399\n",
      "Data columns (total 26 columns):\n",
      " #   Column          Non-Null Count  Dtype  \n",
      "---  ------          --------------  -----  \n",
      " 0   id              400 non-null    int64  \n",
      " 1   age             391 non-null    float64\n",
      " 2   bp              388 non-null    float64\n",
      " 3   sg              353 non-null    float64\n",
      " 4   al              354 non-null    float64\n",
      " 5   su              351 non-null    float64\n",
      " 6   rbc             248 non-null    object \n",
      " 7   pc              335 non-null    object \n",
      " 8   pcc             396 non-null    object \n",
      " 9   ba              396 non-null    object \n",
      " 10  bgr             356 non-null    float64\n",
      " 11  bu              381 non-null    float64\n",
      " 12  sc              383 non-null    float64\n",
      " 13  sod             313 non-null    float64\n",
      " 14  pot             312 non-null    float64\n",
      " 15  hemo            348 non-null    float64\n",
      " 16  pcv             330 non-null    object \n",
      " 17  wc              295 non-null    object \n",
      " 18  rc              270 non-null    object \n",
      " 19  htn             398 non-null    object \n",
      " 20  dm              398 non-null    object \n",
      " 21  cad             398 non-null    object \n",
      " 22  appet           399 non-null    object \n",
      " 23  pe              399 non-null    object \n",
      " 24  ane             399 non-null    object \n",
      " 25  classification  400 non-null    object \n",
      "dtypes: float64(11), int64(1), object(14)\n",
      "memory usage: 81.4+ KB\n"
     ]
    }
   ],
   "source": [
    "data.info()"
   ]
  },
  {
   "cell_type": "code",
   "execution_count": 11,
   "id": "dbbc0d6a",
   "metadata": {},
   "outputs": [
    {
     "data": {
      "text/plain": [
       "51.48337595907928"
      ]
     },
     "execution_count": 11,
     "metadata": {},
     "output_type": "execute_result"
    }
   ],
   "source": [
    "data['age'].mean()"
   ]
  },
  {
   "cell_type": "code",
   "execution_count": 12,
   "id": "f7b3f6e1",
   "metadata": {},
   "outputs": [
    {
     "data": {
      "text/plain": [
       "55.0"
      ]
     },
     "execution_count": 12,
     "metadata": {},
     "output_type": "execute_result"
    }
   ],
   "source": [
    "data['age'].median()"
   ]
  },
  {
   "cell_type": "code",
   "execution_count": 13,
   "id": "286edbd9",
   "metadata": {},
   "outputs": [
    {
     "data": {
      "text/plain": [
       "(12, 26)"
      ]
     },
     "execution_count": 13,
     "metadata": {},
     "output_type": "execute_result"
    }
   ],
   "source": [
    "data[data['age']==55].shape"
   ]
  },
  {
   "cell_type": "code",
   "execution_count": 14,
   "id": "a3828ee5",
   "metadata": {},
   "outputs": [
    {
     "data": {
      "text/plain": [
       "0"
      ]
     },
     "execution_count": 14,
     "metadata": {},
     "output_type": "execute_result"
    }
   ],
   "source": [
    "data['age'].fillna(data['age'].mean(), inplace=True)\n",
    "data['age'].isnull().sum()"
   ]
  },
  {
   "cell_type": "code",
   "execution_count": 15,
   "id": "7285f690",
   "metadata": {},
   "outputs": [
    {
     "data": {
      "text/plain": [
       "76.46907216494846"
      ]
     },
     "execution_count": 15,
     "metadata": {},
     "output_type": "execute_result"
    }
   ],
   "source": [
    "data['bp'].mean()"
   ]
  },
  {
   "cell_type": "code",
   "execution_count": 16,
   "id": "5aee9a25",
   "metadata": {},
   "outputs": [
    {
     "data": {
      "text/plain": [
       "116"
      ]
     },
     "execution_count": 16,
     "metadata": {},
     "output_type": "execute_result"
    }
   ],
   "source": [
    "len(data[data['bp']==80])"
   ]
  },
  {
   "cell_type": "code",
   "execution_count": 17,
   "id": "e64ef28f",
   "metadata": {},
   "outputs": [
    {
     "data": {
      "text/plain": [
       "0"
      ]
     },
     "execution_count": 17,
     "metadata": {},
     "output_type": "execute_result"
    }
   ],
   "source": [
    "# we know 'bp' has 12 missing values.\n",
    "# we fill them by median\n",
    "data['bp'].fillna(data['bp'].median(), inplace=True)\n",
    "data['bp'].isnull().sum()"
   ]
  },
  {
   "cell_type": "code",
   "execution_count": 18,
   "id": "9b7a21d8",
   "metadata": {},
   "outputs": [
    {
     "name": "stdout",
     "output_type": "stream",
     "text": [
      "mean of sg :  1.0174079320113314\n",
      "median of sg :  1.02\n"
     ]
    }
   ],
   "source": [
    "print('mean of sg : ',data['sg'].mean())\n",
    "print('median of sg : ', data['sg'].median())"
   ]
  },
  {
   "cell_type": "code",
   "execution_count": 19,
   "id": "2b650753",
   "metadata": {},
   "outputs": [
    {
     "data": {
      "text/plain": [
       "106"
      ]
     },
     "execution_count": 19,
     "metadata": {},
     "output_type": "execute_result"
    }
   ],
   "source": [
    "len(data[data['sg']==1.02])"
   ]
  },
  {
   "cell_type": "code",
   "execution_count": 20,
   "id": "d499de0c",
   "metadata": {},
   "outputs": [
    {
     "data": {
      "text/plain": [
       "0"
      ]
     },
     "execution_count": 20,
     "metadata": {},
     "output_type": "execute_result"
    }
   ],
   "source": [
    "# we fill missing values by mean\n",
    "data['sg'].fillna(data['sg'].mean(), inplace=True)\n",
    "data['sg'].isnull().sum()"
   ]
  },
  {
   "cell_type": "code",
   "execution_count": 21,
   "id": "2d6b9a29",
   "metadata": {},
   "outputs": [
    {
     "data": {
      "text/plain": [
       "46"
      ]
     },
     "execution_count": 21,
     "metadata": {},
     "output_type": "execute_result"
    }
   ],
   "source": [
    "data['al'].isnull().sum()"
   ]
  },
  {
   "cell_type": "code",
   "execution_count": 22,
   "id": "fc0968cb",
   "metadata": {},
   "outputs": [
    {
     "name": "stdout",
     "output_type": "stream",
     "text": [
      "mean of al :  1.0169491525423728\n",
      "median of al :  0.0\n"
     ]
    }
   ],
   "source": [
    "print('mean of al : ',data['al'].mean())\n",
    "print('median of al : ',data['al'].median())"
   ]
  },
  {
   "cell_type": "code",
   "execution_count": 23,
   "id": "27318d30",
   "metadata": {},
   "outputs": [
    {
     "data": {
      "text/plain": [
       "0.0    199\n",
       "1.0     44\n",
       "2.0     43\n",
       "3.0     43\n",
       "4.0     24\n",
       "5.0      1\n",
       "Name: al, dtype: int64"
      ]
     },
     "execution_count": 23,
     "metadata": {},
     "output_type": "execute_result"
    }
   ],
   "source": [
    "data['al'].value_counts()"
   ]
  },
  {
   "cell_type": "code",
   "execution_count": 24,
   "id": "f6573101",
   "metadata": {},
   "outputs": [
    {
     "data": {
      "text/plain": [
       "0"
      ]
     },
     "execution_count": 24,
     "metadata": {},
     "output_type": "execute_result"
    }
   ],
   "source": [
    "# fill null values by median\n",
    "data['al'].fillna(data['al'].median(), inplace=True)\n",
    "\n",
    "# check null values in 'al'\n",
    "data['al'].isnull().sum()"
   ]
  },
  {
   "cell_type": "code",
   "execution_count": 25,
   "id": "bf094247",
   "metadata": {},
   "outputs": [
    {
     "data": {
      "text/plain": [
       "0.0    290\n",
       "2.0     18\n",
       "3.0     14\n",
       "4.0     13\n",
       "1.0     13\n",
       "5.0      3\n",
       "Name: su, dtype: int64"
      ]
     },
     "execution_count": 25,
     "metadata": {},
     "output_type": "execute_result"
    }
   ],
   "source": [
    "data['su'].value_counts()"
   ]
  },
  {
   "cell_type": "code",
   "execution_count": 26,
   "id": "8ba11c3c",
   "metadata": {},
   "outputs": [
    {
     "data": {
      "text/plain": [
       "49"
      ]
     },
     "execution_count": 26,
     "metadata": {},
     "output_type": "execute_result"
    }
   ],
   "source": [
    "data['su'].isnull().sum()"
   ]
  },
  {
   "cell_type": "code",
   "execution_count": 27,
   "id": "c00edacf",
   "metadata": {},
   "outputs": [
    {
     "data": {
      "text/plain": [
       "0"
      ]
     },
     "execution_count": 27,
     "metadata": {},
     "output_type": "execute_result"
    }
   ],
   "source": [
    "# filling missing values in 'su' by median\n",
    "data['su'].fillna(data['su'].median(), inplace=True)\n",
    "\n",
    "# check\n",
    "data['su'].isnull().sum()"
   ]
  },
  {
   "cell_type": "code",
   "execution_count": 28,
   "id": "b873a102",
   "metadata": {},
   "outputs": [
    {
     "data": {
      "text/plain": [
       "152"
      ]
     },
     "execution_count": 28,
     "metadata": {},
     "output_type": "execute_result"
    }
   ],
   "source": [
    "data['rbc'].isnull().sum()"
   ]
  },
  {
   "cell_type": "code",
   "execution_count": 29,
   "id": "2a611ed6",
   "metadata": {},
   "outputs": [
    {
     "data": {
      "text/plain": [
       "normal      201\n",
       "abnormal     47\n",
       "Name: rbc, dtype: int64"
      ]
     },
     "execution_count": 29,
     "metadata": {},
     "output_type": "execute_result"
    }
   ],
   "source": [
    "data['rbc'].value_counts()"
   ]
  },
  {
   "cell_type": "code",
   "execution_count": 30,
   "id": "bd976b84",
   "metadata": {},
   "outputs": [
    {
     "data": {
      "text/plain": [
       "'normal'"
      ]
     },
     "execution_count": 30,
     "metadata": {},
     "output_type": "execute_result"
    }
   ],
   "source": [
    "data['rbc'].mode()[0]"
   ]
  },
  {
   "cell_type": "code",
   "execution_count": 31,
   "id": "2aa5bae2",
   "metadata": {},
   "outputs": [
    {
     "data": {
      "text/plain": [
       "0"
      ]
     },
     "execution_count": 31,
     "metadata": {},
     "output_type": "execute_result"
    }
   ],
   "source": [
    "# replace na values by 'normal' which  mode of rbc\n",
    "data['rbc'].fillna(data['rbc'].mode()[0], inplace=True)\n",
    "\n",
    "# check \n",
    "data['rbc'].isnull().sum()"
   ]
  },
  {
   "cell_type": "code",
   "execution_count": 32,
   "id": "1c0d91ea",
   "metadata": {},
   "outputs": [
    {
     "data": {
      "text/plain": [
       "65"
      ]
     },
     "execution_count": 32,
     "metadata": {},
     "output_type": "execute_result"
    }
   ],
   "source": [
    "data['pc'].isnull().sum()"
   ]
  },
  {
   "cell_type": "code",
   "execution_count": 33,
   "id": "072590e1",
   "metadata": {},
   "outputs": [
    {
     "data": {
      "text/plain": [
       "normal      259\n",
       "abnormal     76\n",
       "Name: pc, dtype: int64"
      ]
     },
     "execution_count": 33,
     "metadata": {},
     "output_type": "execute_result"
    }
   ],
   "source": [
    "data['pc'].value_counts()"
   ]
  },
  {
   "cell_type": "code",
   "execution_count": 34,
   "id": "31628873",
   "metadata": {},
   "outputs": [
    {
     "data": {
      "text/plain": [
       "'normal'"
      ]
     },
     "execution_count": 34,
     "metadata": {},
     "output_type": "execute_result"
    }
   ],
   "source": [
    "data['pc'].mode()[0]"
   ]
  },
  {
   "cell_type": "code",
   "execution_count": 35,
   "id": "a30404f1",
   "metadata": {},
   "outputs": [
    {
     "data": {
      "text/plain": [
       "0"
      ]
     },
     "execution_count": 35,
     "metadata": {},
     "output_type": "execute_result"
    }
   ],
   "source": [
    "# null values replaced by mode \n",
    "data['pc'].fillna(data['pc'].mode()[0] , inplace=True)\n",
    "\n",
    "# check \n",
    "data['pc'].isnull().sum()"
   ]
  },
  {
   "cell_type": "code",
   "execution_count": 36,
   "id": "05137f17",
   "metadata": {},
   "outputs": [
    {
     "data": {
      "text/plain": [
       "4"
      ]
     },
     "execution_count": 36,
     "metadata": {},
     "output_type": "execute_result"
    }
   ],
   "source": [
    "data['pcc'].isnull().sum()"
   ]
  },
  {
   "cell_type": "code",
   "execution_count": 37,
   "id": "fa15c1b1",
   "metadata": {},
   "outputs": [
    {
     "data": {
      "text/plain": [
       "notpresent    354\n",
       "present        42\n",
       "Name: pcc, dtype: int64"
      ]
     },
     "execution_count": 37,
     "metadata": {},
     "output_type": "execute_result"
    }
   ],
   "source": [
    "data['pcc'].value_counts()"
   ]
  },
  {
   "cell_type": "code",
   "execution_count": 38,
   "id": "217638b6",
   "metadata": {},
   "outputs": [
    {
     "data": {
      "text/plain": [
       "'notpresent'"
      ]
     },
     "execution_count": 38,
     "metadata": {},
     "output_type": "execute_result"
    }
   ],
   "source": [
    "data['pcc'].mode()[0]"
   ]
  },
  {
   "cell_type": "code",
   "execution_count": 39,
   "id": "911040b4",
   "metadata": {},
   "outputs": [
    {
     "data": {
      "text/plain": [
       "0"
      ]
     },
     "execution_count": 39,
     "metadata": {},
     "output_type": "execute_result"
    }
   ],
   "source": [
    "# filling missing values in column 'pcc' by 'notpresent' which is mode \n",
    "data['pcc'].fillna(data['pcc'].mode()[0] ,inplace = True)\n",
    "\n",
    "#check\n",
    "data['pcc'].isnull().sum()"
   ]
  },
  {
   "cell_type": "code",
   "execution_count": 40,
   "id": "bc84e32f",
   "metadata": {},
   "outputs": [
    {
     "data": {
      "text/plain": [
       "4"
      ]
     },
     "execution_count": 40,
     "metadata": {},
     "output_type": "execute_result"
    }
   ],
   "source": [
    "data['ba'].isnull().sum()"
   ]
  },
  {
   "cell_type": "code",
   "execution_count": 41,
   "id": "8f592f2e",
   "metadata": {},
   "outputs": [
    {
     "data": {
      "text/plain": [
       "notpresent    374\n",
       "present        22\n",
       "Name: ba, dtype: int64"
      ]
     },
     "execution_count": 41,
     "metadata": {},
     "output_type": "execute_result"
    }
   ],
   "source": [
    "data['ba'].value_counts()"
   ]
  },
  {
   "cell_type": "code",
   "execution_count": 42,
   "id": "7ece6aed",
   "metadata": {},
   "outputs": [
    {
     "data": {
      "text/plain": [
       "'notpresent'"
      ]
     },
     "execution_count": 42,
     "metadata": {},
     "output_type": "execute_result"
    }
   ],
   "source": [
    "data['ba'].mode()[0]"
   ]
  },
  {
   "cell_type": "code",
   "execution_count": 43,
   "id": "39d9574d",
   "metadata": {},
   "outputs": [
    {
     "data": {
      "text/plain": [
       "0"
      ]
     },
     "execution_count": 43,
     "metadata": {},
     "output_type": "execute_result"
    }
   ],
   "source": [
    "# filling missing values in column 'ba' by 'notpresent' which mode of ba\n",
    "data['ba'].fillna(data['ba'].mode()[0],inplace = True)\n",
    "\n",
    "#check\n",
    "data['ba'].isnull().sum()"
   ]
  },
  {
   "cell_type": "code",
   "execution_count": 44,
   "id": "90e5150f",
   "metadata": {},
   "outputs": [
    {
     "data": {
      "text/plain": [
       "44"
      ]
     },
     "execution_count": 44,
     "metadata": {},
     "output_type": "execute_result"
    }
   ],
   "source": [
    "data['bgr'].isnull().sum()"
   ]
  },
  {
   "cell_type": "code",
   "execution_count": 45,
   "id": "9c36da4f",
   "metadata": {},
   "outputs": [
    {
     "data": {
      "text/plain": [
       "148.0365168539326"
      ]
     },
     "execution_count": 45,
     "metadata": {},
     "output_type": "execute_result"
    }
   ],
   "source": [
    "data['bgr'].mean()"
   ]
  },
  {
   "cell_type": "code",
   "execution_count": 46,
   "id": "b605944d",
   "metadata": {},
   "outputs": [
    {
     "data": {
      "text/plain": [
       "121.0"
      ]
     },
     "execution_count": 46,
     "metadata": {},
     "output_type": "execute_result"
    }
   ],
   "source": [
    "data['bgr'].median()"
   ]
  },
  {
   "cell_type": "code",
   "execution_count": 47,
   "id": "373d4811",
   "metadata": {},
   "outputs": [
    {
     "data": {
      "text/html": [
       "<div>\n",
       "<style scoped>\n",
       "    .dataframe tbody tr th:only-of-type {\n",
       "        vertical-align: middle;\n",
       "    }\n",
       "\n",
       "    .dataframe tbody tr th {\n",
       "        vertical-align: top;\n",
       "    }\n",
       "\n",
       "    .dataframe thead th {\n",
       "        text-align: right;\n",
       "    }\n",
       "</style>\n",
       "<table border=\"1\" class=\"dataframe\">\n",
       "  <thead>\n",
       "    <tr style=\"text-align: right;\">\n",
       "      <th></th>\n",
       "      <th>id</th>\n",
       "      <th>age</th>\n",
       "      <th>bp</th>\n",
       "      <th>sg</th>\n",
       "      <th>al</th>\n",
       "      <th>su</th>\n",
       "      <th>bgr</th>\n",
       "      <th>bu</th>\n",
       "      <th>sc</th>\n",
       "      <th>sod</th>\n",
       "      <th>pot</th>\n",
       "      <th>hemo</th>\n",
       "    </tr>\n",
       "  </thead>\n",
       "  <tbody>\n",
       "    <tr>\n",
       "      <th>count</th>\n",
       "      <td>400.000000</td>\n",
       "      <td>400.000000</td>\n",
       "      <td>400.000000</td>\n",
       "      <td>400.000000</td>\n",
       "      <td>400.00000</td>\n",
       "      <td>400.000000</td>\n",
       "      <td>356.000000</td>\n",
       "      <td>381.000000</td>\n",
       "      <td>383.000000</td>\n",
       "      <td>313.000000</td>\n",
       "      <td>312.000000</td>\n",
       "      <td>348.000000</td>\n",
       "    </tr>\n",
       "    <tr>\n",
       "      <th>mean</th>\n",
       "      <td>199.500000</td>\n",
       "      <td>51.483376</td>\n",
       "      <td>76.575000</td>\n",
       "      <td>1.017408</td>\n",
       "      <td>0.90000</td>\n",
       "      <td>0.395000</td>\n",
       "      <td>148.036517</td>\n",
       "      <td>57.425722</td>\n",
       "      <td>3.072454</td>\n",
       "      <td>137.528754</td>\n",
       "      <td>4.627244</td>\n",
       "      <td>12.526437</td>\n",
       "    </tr>\n",
       "    <tr>\n",
       "      <th>std</th>\n",
       "      <td>115.614301</td>\n",
       "      <td>16.974966</td>\n",
       "      <td>13.489785</td>\n",
       "      <td>0.005369</td>\n",
       "      <td>1.31313</td>\n",
       "      <td>1.040038</td>\n",
       "      <td>79.281714</td>\n",
       "      <td>50.503006</td>\n",
       "      <td>5.741126</td>\n",
       "      <td>10.408752</td>\n",
       "      <td>3.193904</td>\n",
       "      <td>2.912587</td>\n",
       "    </tr>\n",
       "    <tr>\n",
       "      <th>min</th>\n",
       "      <td>0.000000</td>\n",
       "      <td>2.000000</td>\n",
       "      <td>50.000000</td>\n",
       "      <td>1.005000</td>\n",
       "      <td>0.00000</td>\n",
       "      <td>0.000000</td>\n",
       "      <td>22.000000</td>\n",
       "      <td>1.500000</td>\n",
       "      <td>0.400000</td>\n",
       "      <td>4.500000</td>\n",
       "      <td>2.500000</td>\n",
       "      <td>3.100000</td>\n",
       "    </tr>\n",
       "    <tr>\n",
       "      <th>25%</th>\n",
       "      <td>99.750000</td>\n",
       "      <td>42.000000</td>\n",
       "      <td>70.000000</td>\n",
       "      <td>1.015000</td>\n",
       "      <td>0.00000</td>\n",
       "      <td>0.000000</td>\n",
       "      <td>99.000000</td>\n",
       "      <td>27.000000</td>\n",
       "      <td>0.900000</td>\n",
       "      <td>135.000000</td>\n",
       "      <td>3.800000</td>\n",
       "      <td>10.300000</td>\n",
       "    </tr>\n",
       "    <tr>\n",
       "      <th>50%</th>\n",
       "      <td>199.500000</td>\n",
       "      <td>54.000000</td>\n",
       "      <td>80.000000</td>\n",
       "      <td>1.017408</td>\n",
       "      <td>0.00000</td>\n",
       "      <td>0.000000</td>\n",
       "      <td>121.000000</td>\n",
       "      <td>42.000000</td>\n",
       "      <td>1.300000</td>\n",
       "      <td>138.000000</td>\n",
       "      <td>4.400000</td>\n",
       "      <td>12.650000</td>\n",
       "    </tr>\n",
       "    <tr>\n",
       "      <th>75%</th>\n",
       "      <td>299.250000</td>\n",
       "      <td>64.000000</td>\n",
       "      <td>80.000000</td>\n",
       "      <td>1.020000</td>\n",
       "      <td>2.00000</td>\n",
       "      <td>0.000000</td>\n",
       "      <td>163.000000</td>\n",
       "      <td>66.000000</td>\n",
       "      <td>2.800000</td>\n",
       "      <td>142.000000</td>\n",
       "      <td>4.900000</td>\n",
       "      <td>15.000000</td>\n",
       "    </tr>\n",
       "    <tr>\n",
       "      <th>max</th>\n",
       "      <td>399.000000</td>\n",
       "      <td>90.000000</td>\n",
       "      <td>180.000000</td>\n",
       "      <td>1.025000</td>\n",
       "      <td>5.00000</td>\n",
       "      <td>5.000000</td>\n",
       "      <td>490.000000</td>\n",
       "      <td>391.000000</td>\n",
       "      <td>76.000000</td>\n",
       "      <td>163.000000</td>\n",
       "      <td>47.000000</td>\n",
       "      <td>17.800000</td>\n",
       "    </tr>\n",
       "  </tbody>\n",
       "</table>\n",
       "</div>"
      ],
      "text/plain": [
       "               id         age          bp          sg         al          su  \\\n",
       "count  400.000000  400.000000  400.000000  400.000000  400.00000  400.000000   \n",
       "mean   199.500000   51.483376   76.575000    1.017408    0.90000    0.395000   \n",
       "std    115.614301   16.974966   13.489785    0.005369    1.31313    1.040038   \n",
       "min      0.000000    2.000000   50.000000    1.005000    0.00000    0.000000   \n",
       "25%     99.750000   42.000000   70.000000    1.015000    0.00000    0.000000   \n",
       "50%    199.500000   54.000000   80.000000    1.017408    0.00000    0.000000   \n",
       "75%    299.250000   64.000000   80.000000    1.020000    2.00000    0.000000   \n",
       "max    399.000000   90.000000  180.000000    1.025000    5.00000    5.000000   \n",
       "\n",
       "              bgr          bu          sc         sod         pot        hemo  \n",
       "count  356.000000  381.000000  383.000000  313.000000  312.000000  348.000000  \n",
       "mean   148.036517   57.425722    3.072454  137.528754    4.627244   12.526437  \n",
       "std     79.281714   50.503006    5.741126   10.408752    3.193904    2.912587  \n",
       "min     22.000000    1.500000    0.400000    4.500000    2.500000    3.100000  \n",
       "25%     99.000000   27.000000    0.900000  135.000000    3.800000   10.300000  \n",
       "50%    121.000000   42.000000    1.300000  138.000000    4.400000   12.650000  \n",
       "75%    163.000000   66.000000    2.800000  142.000000    4.900000   15.000000  \n",
       "max    490.000000  391.000000   76.000000  163.000000   47.000000   17.800000  "
      ]
     },
     "execution_count": 47,
     "metadata": {},
     "output_type": "execute_result"
    }
   ],
   "source": [
    "data.describe()"
   ]
  },
  {
   "cell_type": "code",
   "execution_count": 48,
   "id": "ce585951",
   "metadata": {},
   "outputs": [
    {
     "data": {
      "text/plain": [
       "4"
      ]
     },
     "execution_count": 48,
     "metadata": {},
     "output_type": "execute_result"
    }
   ],
   "source": [
    "len(data[data['bgr']==data['bgr'].median()])"
   ]
  },
  {
   "cell_type": "code",
   "execution_count": 49,
   "id": "bcc3c877",
   "metadata": {},
   "outputs": [
    {
     "data": {
      "text/plain": [
       "0"
      ]
     },
     "execution_count": 49,
     "metadata": {},
     "output_type": "execute_result"
    }
   ],
   "source": [
    "# replace missing values in bgr by median\n",
    "data['bgr'].fillna(data['bgr'].median(), inplace=True)\n",
    "\n",
    "# check\n",
    "data['bgr'].isnull().sum()"
   ]
  },
  {
   "cell_type": "code",
   "execution_count": 50,
   "id": "bab7a861",
   "metadata": {},
   "outputs": [
    {
     "data": {
      "text/plain": [
       "19"
      ]
     },
     "execution_count": 50,
     "metadata": {},
     "output_type": "execute_result"
    }
   ],
   "source": [
    "data['bu'].isnull().sum()"
   ]
  },
  {
   "cell_type": "code",
   "execution_count": 51,
   "id": "37d52913",
   "metadata": {},
   "outputs": [
    {
     "data": {
      "text/plain": [
       "0"
      ]
     },
     "execution_count": 51,
     "metadata": {},
     "output_type": "execute_result"
    }
   ],
   "source": [
    "# fillin missing values by mean\n",
    "data['bu'].fillna(data['bu'].mean(), inplace=True)\n",
    "\n",
    "#check\n",
    "data['bu'].isnull().sum()"
   ]
  },
  {
   "cell_type": "code",
   "execution_count": 52,
   "id": "c4755e38",
   "metadata": {},
   "outputs": [
    {
     "data": {
      "text/plain": [
       "17"
      ]
     },
     "execution_count": 52,
     "metadata": {},
     "output_type": "execute_result"
    }
   ],
   "source": [
    "data['sc'].isnull().sum()"
   ]
  },
  {
   "cell_type": "code",
   "execution_count": 53,
   "id": "816d4de3",
   "metadata": {},
   "outputs": [
    {
     "data": {
      "text/plain": [
       "0"
      ]
     },
     "execution_count": 53,
     "metadata": {},
     "output_type": "execute_result"
    }
   ],
   "source": [
    "# fill null values by mean\n",
    "data['sc'].fillna(data['sc'].mean(),inplace=True)\n",
    "\n",
    "# check\n",
    "data['su'].isnull().sum()"
   ]
  },
  {
   "cell_type": "code",
   "execution_count": 54,
   "id": "bfad5b90",
   "metadata": {},
   "outputs": [
    {
     "data": {
      "text/plain": [
       "87"
      ]
     },
     "execution_count": 54,
     "metadata": {},
     "output_type": "execute_result"
    }
   ],
   "source": [
    "data['sod'].isnull().sum()"
   ]
  },
  {
   "cell_type": "code",
   "execution_count": 55,
   "id": "55bb6215",
   "metadata": {},
   "outputs": [
    {
     "data": {
      "text/plain": [
       "count    313.000000\n",
       "mean     137.528754\n",
       "std       10.408752\n",
       "min        4.500000\n",
       "25%      135.000000\n",
       "50%      138.000000\n",
       "75%      142.000000\n",
       "max      163.000000\n",
       "Name: sod, dtype: float64"
      ]
     },
     "execution_count": 55,
     "metadata": {},
     "output_type": "execute_result"
    }
   ],
   "source": [
    "data['sod'].describe()"
   ]
  },
  {
   "cell_type": "code",
   "execution_count": 56,
   "id": "fe74b095",
   "metadata": {},
   "outputs": [
    {
     "data": {
      "text/plain": [
       "0"
      ]
     },
     "execution_count": 56,
     "metadata": {},
     "output_type": "execute_result"
    }
   ],
   "source": [
    "# fill na by mean\n",
    "data['sod'].fillna(data['sod'].mean(), inplace=True)\n",
    "# check\n",
    "data['sod'].isnull().sum()"
   ]
  },
  {
   "cell_type": "code",
   "execution_count": 57,
   "id": "7e805fe0",
   "metadata": {},
   "outputs": [
    {
     "data": {
      "text/plain": [
       "count    312.000000\n",
       "mean       4.627244\n",
       "std        3.193904\n",
       "min        2.500000\n",
       "25%        3.800000\n",
       "50%        4.400000\n",
       "75%        4.900000\n",
       "max       47.000000\n",
       "Name: pot, dtype: float64"
      ]
     },
     "execution_count": 57,
     "metadata": {},
     "output_type": "execute_result"
    }
   ],
   "source": [
    "data['pot'].describe()"
   ]
  },
  {
   "cell_type": "code",
   "execution_count": 58,
   "id": "f112a8d3",
   "metadata": {},
   "outputs": [
    {
     "data": {
      "text/plain": [
       "0"
      ]
     },
     "execution_count": 58,
     "metadata": {},
     "output_type": "execute_result"
    }
   ],
   "source": [
    "# fill null values by mean\n",
    "data['pot'].fillna(data['pot'].mean(), inplace=True)\n",
    "\n",
    "# check\n",
    "data['pot'].isnull().sum()"
   ]
  },
  {
   "cell_type": "code",
   "execution_count": 59,
   "id": "8d8fe563",
   "metadata": {},
   "outputs": [
    {
     "data": {
      "text/plain": [
       "0"
      ]
     },
     "execution_count": 59,
     "metadata": {},
     "output_type": "execute_result"
    }
   ],
   "source": [
    "# fill na by mean\n",
    "data['hemo'].fillna(data['hemo'].mean(), inplace=True)\n",
    "\n",
    "# check\n",
    "data['hemo'].isnull().sum()"
   ]
  },
  {
   "cell_type": "code",
   "execution_count": 60,
   "id": "f9c59de9",
   "metadata": {},
   "outputs": [
    {
     "data": {
      "text/plain": [
       "dtype('O')"
      ]
     },
     "execution_count": 60,
     "metadata": {},
     "output_type": "execute_result"
    }
   ],
   "source": [
    "data['pcv'].dtype"
   ]
  },
  {
   "cell_type": "code",
   "execution_count": 61,
   "id": "3a2c8a98",
   "metadata": {},
   "outputs": [
    {
     "data": {
      "text/plain": [
       "dtype('float64')"
      ]
     },
     "execution_count": 61,
     "metadata": {},
     "output_type": "execute_result"
    }
   ],
   "source": [
    "# Convert 'pcv' column to numeric data type\n",
    "data['pcv'] = pd.to_numeric(data['pcv'], errors='coerce')\n",
    "\n",
    "#check\n",
    "data['pcv'].dtype"
   ]
  },
  {
   "cell_type": "code",
   "execution_count": 62,
   "id": "3f9e2254",
   "metadata": {},
   "outputs": [
    {
     "data": {
      "text/plain": [
       "71"
      ]
     },
     "execution_count": 62,
     "metadata": {},
     "output_type": "execute_result"
    }
   ],
   "source": [
    "data['pcv'].isnull().sum()"
   ]
  },
  {
   "cell_type": "code",
   "execution_count": 63,
   "id": "1a467ba2",
   "metadata": {},
   "outputs": [
    {
     "data": {
      "text/plain": [
       "count    329.000000\n",
       "mean      38.884498\n",
       "std        8.990105\n",
       "min        9.000000\n",
       "25%       32.000000\n",
       "50%       40.000000\n",
       "75%       45.000000\n",
       "max       54.000000\n",
       "Name: pcv, dtype: float64"
      ]
     },
     "execution_count": 63,
     "metadata": {},
     "output_type": "execute_result"
    }
   ],
   "source": [
    "data['pcv'].describe()"
   ]
  },
  {
   "cell_type": "code",
   "execution_count": 64,
   "id": "511d58ce",
   "metadata": {},
   "outputs": [
    {
     "data": {
      "text/plain": [
       "0"
      ]
     },
     "execution_count": 64,
     "metadata": {},
     "output_type": "execute_result"
    }
   ],
   "source": [
    "# fillling null values in 'pcv' by mean\n",
    "data['pcv'].fillna(data['pcv'].mean(), inplace=True)\n",
    "\n",
    "# check\n",
    "data['pcv'].isnull().sum()"
   ]
  },
  {
   "cell_type": "code",
   "execution_count": 65,
   "id": "fca333f3",
   "metadata": {},
   "outputs": [
    {
     "data": {
      "text/plain": [
       "dtype('O')"
      ]
     },
     "execution_count": 65,
     "metadata": {},
     "output_type": "execute_result"
    }
   ],
   "source": [
    "data['wc'].dtype"
   ]
  },
  {
   "cell_type": "code",
   "execution_count": 66,
   "id": "050b931f",
   "metadata": {},
   "outputs": [
    {
     "data": {
      "text/plain": [
       "dtype('float64')"
      ]
     },
     "execution_count": 66,
     "metadata": {},
     "output_type": "execute_result"
    }
   ],
   "source": [
    "# convert 'wc' column datatype to numeric data type\n",
    "data['wc'] = pd.to_numeric(data['wc'], errors='coerce')\n",
    "\n",
    "# check datatype of 'wc'\n",
    "data['wc'].dtype"
   ]
  },
  {
   "cell_type": "code",
   "execution_count": 67,
   "id": "394ce261",
   "metadata": {},
   "outputs": [
    {
     "data": {
      "text/plain": [
       "count      294.000000\n",
       "mean      8406.122449\n",
       "std       2944.474190\n",
       "min       2200.000000\n",
       "25%       6500.000000\n",
       "50%       8000.000000\n",
       "75%       9800.000000\n",
       "max      26400.000000\n",
       "Name: wc, dtype: float64"
      ]
     },
     "execution_count": 67,
     "metadata": {},
     "output_type": "execute_result"
    }
   ],
   "source": [
    "data['wc'].describe()"
   ]
  },
  {
   "cell_type": "code",
   "execution_count": 68,
   "id": "34e69ad1",
   "metadata": {},
   "outputs": [
    {
     "data": {
      "text/plain": [
       "0"
      ]
     },
     "execution_count": 68,
     "metadata": {},
     "output_type": "execute_result"
    }
   ],
   "source": [
    "data['wc'].fillna(data['wc'].mean(), inplace=True)\n",
    "\n",
    "# check null value count\n",
    "data['wc'].isnull().sum()"
   ]
  },
  {
   "cell_type": "code",
   "execution_count": 69,
   "id": "b19b77f7",
   "metadata": {},
   "outputs": [
    {
     "data": {
      "text/plain": [
       "dtype('O')"
      ]
     },
     "execution_count": 69,
     "metadata": {},
     "output_type": "execute_result"
    }
   ],
   "source": [
    "data['rc'].dtype"
   ]
  },
  {
   "cell_type": "code",
   "execution_count": 70,
   "id": "290848e9",
   "metadata": {},
   "outputs": [
    {
     "data": {
      "text/plain": [
       "dtype('float64')"
      ]
     },
     "execution_count": 70,
     "metadata": {},
     "output_type": "execute_result"
    }
   ],
   "source": [
    "data['rc'] = pd.to_numeric(data['rc'], errors= 'coerce')\n",
    "\n",
    "# check datatype of rc\n",
    "data['rc'].dtype"
   ]
  },
  {
   "cell_type": "code",
   "execution_count": 71,
   "id": "061cc477",
   "metadata": {},
   "outputs": [
    {
     "data": {
      "text/plain": [
       "count    269.000000\n",
       "mean       4.707435\n",
       "std        1.025323\n",
       "min        2.100000\n",
       "25%        3.900000\n",
       "50%        4.800000\n",
       "75%        5.400000\n",
       "max        8.000000\n",
       "Name: rc, dtype: float64"
      ]
     },
     "execution_count": 71,
     "metadata": {},
     "output_type": "execute_result"
    }
   ],
   "source": [
    "data['rc'].describe()"
   ]
  },
  {
   "cell_type": "code",
   "execution_count": 72,
   "id": "54e11f71",
   "metadata": {},
   "outputs": [
    {
     "data": {
      "text/plain": [
       "0"
      ]
     },
     "execution_count": 72,
     "metadata": {},
     "output_type": "execute_result"
    }
   ],
   "source": [
    "# fill na by mean\n",
    "data['rc'].fillna(data['rc'].mean(), inplace=True)\n",
    "\n",
    "# check for null values\n",
    "data['rc'].isnull().sum()"
   ]
  },
  {
   "cell_type": "code",
   "execution_count": 73,
   "id": "3e34d073",
   "metadata": {},
   "outputs": [
    {
     "data": {
      "text/plain": [
       "htn    2\n",
       "dm     2\n",
       "cad    2\n",
       "dtype: int64"
      ]
     },
     "execution_count": 73,
     "metadata": {},
     "output_type": "execute_result"
    }
   ],
   "source": [
    "data[['htn','dm','cad']].isnull().sum()    "
   ]
  },
  {
   "cell_type": "code",
   "execution_count": 74,
   "id": "891bf48f",
   "metadata": {},
   "outputs": [
    {
     "data": {
      "text/plain": [
       "'no'"
      ]
     },
     "execution_count": 74,
     "metadata": {},
     "output_type": "execute_result"
    }
   ],
   "source": [
    "# column 'htn' , missing value filled by mode of 'htn'\n",
    "data['htn'].mode()[0]"
   ]
  },
  {
   "cell_type": "code",
   "execution_count": 75,
   "id": "ffbcb7a7",
   "metadata": {},
   "outputs": [
    {
     "data": {
      "text/plain": [
       "0"
      ]
     },
     "execution_count": 75,
     "metadata": {},
     "output_type": "execute_result"
    }
   ],
   "source": [
    "data['htn'].fillna(data['htn'].mode()[0] ,inplace=True)\n",
    "# check for null values in htn\n",
    "data['htn'].isnull().sum()"
   ]
  },
  {
   "cell_type": "code",
   "execution_count": 76,
   "id": "a135b688",
   "metadata": {},
   "outputs": [
    {
     "data": {
      "text/plain": [
       "no       258\n",
       "yes      134\n",
       "\\tno       3\n",
       "\\tyes      2\n",
       " yes       1\n",
       "Name: dm, dtype: int64"
      ]
     },
     "execution_count": 76,
     "metadata": {},
     "output_type": "execute_result"
    }
   ],
   "source": [
    "data['dm'].value_counts()"
   ]
  },
  {
   "cell_type": "code",
   "execution_count": 77,
   "id": "74d923c3",
   "metadata": {},
   "outputs": [
    {
     "data": {
      "text/plain": [
       "no     261\n",
       "yes    137\n",
       "Name: dm, dtype: int64"
      ]
     },
     "execution_count": 77,
     "metadata": {},
     "output_type": "execute_result"
    }
   ],
   "source": [
    "data['dm'] = data['dm'].replace('\\tno' , 'no')\n",
    "data['dm'] = data['dm'].replace(['\\tyes',' yes'] , 'yes')\n",
    "\n",
    "data['dm'].value_counts()"
   ]
  },
  {
   "cell_type": "code",
   "execution_count": 78,
   "id": "a151ee15",
   "metadata": {},
   "outputs": [
    {
     "data": {
      "text/plain": [
       "0"
      ]
     },
     "execution_count": 78,
     "metadata": {},
     "output_type": "execute_result"
    }
   ],
   "source": [
    "# fill null values in 'dm' by mode value of 'dm'\n",
    "data['dm'].fillna(data['dm'].mode()[0], inplace=True)\n",
    "\n",
    "# check\n",
    "data['dm'].isnull().sum()"
   ]
  },
  {
   "cell_type": "code",
   "execution_count": 79,
   "id": "d31dce14",
   "metadata": {},
   "outputs": [
    {
     "data": {
      "text/plain": [
       "no      362\n",
       "yes      34\n",
       "\\tno      2\n",
       "Name: cad, dtype: int64"
      ]
     },
     "execution_count": 79,
     "metadata": {},
     "output_type": "execute_result"
    }
   ],
   "source": [
    "data['cad'].value_counts()"
   ]
  },
  {
   "cell_type": "code",
   "execution_count": 80,
   "id": "7aa3fe7b",
   "metadata": {},
   "outputs": [
    {
     "data": {
      "text/plain": [
       "no     364\n",
       "yes     34\n",
       "Name: cad, dtype: int64"
      ]
     },
     "execution_count": 80,
     "metadata": {},
     "output_type": "execute_result"
    }
   ],
   "source": [
    "# we replace '\\tno' by 'no'\n",
    "data['cad'] = data['cad'].replace('\\tno', 'no')\n",
    "# check\n",
    "data['cad'].value_counts()"
   ]
  },
  {
   "cell_type": "code",
   "execution_count": 81,
   "id": "8cd61322",
   "metadata": {},
   "outputs": [
    {
     "data": {
      "text/plain": [
       "0"
      ]
     },
     "execution_count": 81,
     "metadata": {},
     "output_type": "execute_result"
    }
   ],
   "source": [
    "## nul values replace by mode of 'cad'\n",
    "data['cad'].fillna(data['cad'].mode()[0], inplace=True)\n",
    "# check null values in cad\n",
    "data['cad'].isnull().sum()"
   ]
  },
  {
   "cell_type": "code",
   "execution_count": 82,
   "id": "f9f7b69f",
   "metadata": {},
   "outputs": [
    {
     "data": {
      "text/plain": [
       "1"
      ]
     },
     "execution_count": 82,
     "metadata": {},
     "output_type": "execute_result"
    }
   ],
   "source": [
    "data['appet'].isnull().sum()"
   ]
  },
  {
   "cell_type": "code",
   "execution_count": 83,
   "id": "c865aed6",
   "metadata": {},
   "outputs": [
    {
     "data": {
      "text/plain": [
       "0"
      ]
     },
     "execution_count": 83,
     "metadata": {},
     "output_type": "execute_result"
    }
   ],
   "source": [
    "# fill na value in 'appet' bu mode of 'appet'\n",
    "\n",
    "data['appet'].fillna(data['appet'].mode()[0], inplace=True)\n",
    "#check\n",
    "data['appet'].isnull().sum()"
   ]
  },
  {
   "cell_type": "code",
   "execution_count": 84,
   "id": "28d180c4",
   "metadata": {},
   "outputs": [
    {
     "data": {
      "text/plain": [
       "0"
      ]
     },
     "execution_count": 84,
     "metadata": {},
     "output_type": "execute_result"
    }
   ],
   "source": [
    "    # fill null value by mode\n",
    "data['pe'].fillna(data['pe'].mode()[0], inplace=True)\n",
    "\n",
    "# check\n",
    "data['pe'].isnull().sum()"
   ]
  },
  {
   "cell_type": "code",
   "execution_count": 85,
   "id": "1da90a63",
   "metadata": {},
   "outputs": [
    {
     "data": {
      "text/plain": [
       "1"
      ]
     },
     "execution_count": 85,
     "metadata": {},
     "output_type": "execute_result"
    }
   ],
   "source": [
    "data['ane'].isnull().sum()"
   ]
  },
  {
   "cell_type": "code",
   "execution_count": 86,
   "id": "64ebc3e0",
   "metadata": {},
   "outputs": [
    {
     "data": {
      "text/plain": [
       "0"
      ]
     },
     "execution_count": 86,
     "metadata": {},
     "output_type": "execute_result"
    }
   ],
   "source": [
    "# fill missing values by mode\n",
    "data['ane'].fillna(data['ane'].mode()[0], inplace=True)\n",
    "# check\n",
    "data['ane'].isnull().sum()"
   ]
  },
  {
   "cell_type": "code",
   "execution_count": 87,
   "id": "5702d8fa",
   "metadata": {},
   "outputs": [
    {
     "data": {
      "text/plain": [
       "ckd       248\n",
       "notckd    150\n",
       "ckd\\t       2\n",
       "Name: classification, dtype: int64"
      ]
     },
     "execution_count": 87,
     "metadata": {},
     "output_type": "execute_result"
    }
   ],
   "source": [
    "data['classification'].value_counts()"
   ]
  },
  {
   "cell_type": "code",
   "execution_count": 88,
   "id": "8920519c",
   "metadata": {},
   "outputs": [
    {
     "data": {
      "text/plain": [
       "ckd       250\n",
       "notckd    150\n",
       "Name: classification, dtype: int64"
      ]
     },
     "execution_count": 88,
     "metadata": {},
     "output_type": "execute_result"
    }
   ],
   "source": [
    "# replace 'ckd\\t' by 'ckd'\n",
    "data['classification'] = data['classification'].replace('ckd\\t', 'ckd')\n",
    "# check\n",
    "data['classification'].value_counts()"
   ]
  },
  {
   "cell_type": "code",
   "execution_count": 89,
   "id": "4cf3a6eb",
   "metadata": {},
   "outputs": [
    {
     "data": {
      "text/plain": [
       "id                0\n",
       "age               0\n",
       "bp                0\n",
       "sg                0\n",
       "al                0\n",
       "su                0\n",
       "rbc               0\n",
       "pc                0\n",
       "pcc               0\n",
       "ba                0\n",
       "bgr               0\n",
       "bu                0\n",
       "sc                0\n",
       "sod               0\n",
       "pot               0\n",
       "hemo              0\n",
       "pcv               0\n",
       "wc                0\n",
       "rc                0\n",
       "htn               0\n",
       "dm                0\n",
       "cad               0\n",
       "appet             0\n",
       "pe                0\n",
       "ane               0\n",
       "classification    0\n",
       "dtype: int64"
      ]
     },
     "execution_count": 89,
     "metadata": {},
     "output_type": "execute_result"
    }
   ],
   "source": [
    "data.isnull().sum()"
   ]
  },
  {
   "cell_type": "code",
   "execution_count": 90,
   "id": "e015d448",
   "metadata": {},
   "outputs": [
    {
     "name": "stdout",
     "output_type": "stream",
     "text": [
      "<class 'pandas.core.frame.DataFrame'>\n",
      "RangeIndex: 400 entries, 0 to 399\n",
      "Data columns (total 26 columns):\n",
      " #   Column          Non-Null Count  Dtype  \n",
      "---  ------          --------------  -----  \n",
      " 0   id              400 non-null    int64  \n",
      " 1   age             400 non-null    float64\n",
      " 2   bp              400 non-null    float64\n",
      " 3   sg              400 non-null    float64\n",
      " 4   al              400 non-null    float64\n",
      " 5   su              400 non-null    float64\n",
      " 6   rbc             400 non-null    object \n",
      " 7   pc              400 non-null    object \n",
      " 8   pcc             400 non-null    object \n",
      " 9   ba              400 non-null    object \n",
      " 10  bgr             400 non-null    float64\n",
      " 11  bu              400 non-null    float64\n",
      " 12  sc              400 non-null    float64\n",
      " 13  sod             400 non-null    float64\n",
      " 14  pot             400 non-null    float64\n",
      " 15  hemo            400 non-null    float64\n",
      " 16  pcv             400 non-null    float64\n",
      " 17  wc              400 non-null    float64\n",
      " 18  rc              400 non-null    float64\n",
      " 19  htn             400 non-null    object \n",
      " 20  dm              400 non-null    object \n",
      " 21  cad             400 non-null    object \n",
      " 22  appet           400 non-null    object \n",
      " 23  pe              400 non-null    object \n",
      " 24  ane             400 non-null    object \n",
      " 25  classification  400 non-null    object \n",
      "dtypes: float64(14), int64(1), object(11)\n",
      "memory usage: 81.4+ KB\n"
     ]
    }
   ],
   "source": [
    "data.info()"
   ]
  },
  {
   "cell_type": "code",
   "execution_count": 91,
   "id": "68c5286f",
   "metadata": {},
   "outputs": [],
   "source": [
    "data.to_csv('cleaned_data.csv')"
   ]
  },
  {
   "cell_type": "code",
   "execution_count": 92,
   "id": "939febce",
   "metadata": {},
   "outputs": [
    {
     "name": "stderr",
     "output_type": "stream",
     "text": [
      "C:\\Users\\Saesh\\AppData\\Local\\Temp\\ipykernel_4256\\2778595096.py:4: FutureWarning: The default value of numeric_only in DataFrame.corr is deprecated. In a future version, it will default to False. Select only valid columns or specify the value of numeric_only to silence this warning.\n",
      "  sns.heatmap(data.corr(),annot=True,cmap='coolwarm')\n"
     ]
    },
    {
     "data": {
      "text/plain": [
       "<Axes: >"
      ]
     },
     "execution_count": 92,
     "metadata": {},
     "output_type": "execute_result"
    },
    {
     "data": {
      "image/png": "[encoded data removed]",
      "text/plain": [
       "<Figure size 2000x2000 with 2 Axes>"
      ]
     },
     "metadata": {},
     "output_type": "display_data"
    }
   ],
   "source": [
    "import seaborn as sns\n",
    "import matplotlib.pyplot as plt\n",
    "plt.figure(figsize=(20,20))\n",
    "sns.heatmap(data.corr(),annot=True,cmap='coolwarm')"
   ]
  },
  {
   "cell_type": "code",
   "execution_count": 93,
   "id": "dd3e4fc9",
   "metadata": {},
   "outputs": [
    {
     "data": {
      "text/plain": [
       "Index(['id', 'age', 'bp', 'sg', 'al', 'su', 'bgr', 'bu', 'sc', 'sod', 'pot',\n",
       "       'hemo', 'pcv', 'wc', 'rc'],\n",
       "      dtype='object')"
      ]
     },
     "execution_count": 93,
     "metadata": {},
     "output_type": "execute_result"
    }
   ],
   "source": [
    "data.describe().columns"
   ]
  },
  {
   "cell_type": "code",
   "execution_count": 94,
   "id": "12df4dda",
   "metadata": {},
   "outputs": [
    {
     "data": {
      "text/html": [
       "<div>\n",
       "<style scoped>\n",
       "    .dataframe tbody tr th:only-of-type {\n",
       "        vertical-align: middle;\n",
       "    }\n",
       "\n",
       "    .dataframe tbody tr th {\n",
       "        vertical-align: top;\n",
       "    }\n",
       "\n",
       "    .dataframe thead th {\n",
       "        text-align: right;\n",
       "    }\n",
       "</style>\n",
       "<table border=\"1\" class=\"dataframe\">\n",
       "  <thead>\n",
       "    <tr style=\"text-align: right;\">\n",
       "      <th></th>\n",
       "      <th>rbc</th>\n",
       "      <th>pc</th>\n",
       "      <th>pcc</th>\n",
       "      <th>ba</th>\n",
       "      <th>htn</th>\n",
       "      <th>dm</th>\n",
       "      <th>cad</th>\n",
       "      <th>appet</th>\n",
       "      <th>pe</th>\n",
       "      <th>ane</th>\n",
       "      <th>classification</th>\n",
       "    </tr>\n",
       "  </thead>\n",
       "  <tbody>\n",
       "    <tr>\n",
       "      <th>0</th>\n",
       "      <td>normal</td>\n",
       "      <td>normal</td>\n",
       "      <td>notpresent</td>\n",
       "      <td>notpresent</td>\n",
       "      <td>yes</td>\n",
       "      <td>yes</td>\n",
       "      <td>no</td>\n",
       "      <td>good</td>\n",
       "      <td>no</td>\n",
       "      <td>no</td>\n",
       "      <td>ckd</td>\n",
       "    </tr>\n",
       "    <tr>\n",
       "      <th>1</th>\n",
       "      <td>normal</td>\n",
       "      <td>normal</td>\n",
       "      <td>notpresent</td>\n",
       "      <td>notpresent</td>\n",
       "      <td>no</td>\n",
       "      <td>no</td>\n",
       "      <td>no</td>\n",
       "      <td>good</td>\n",
       "      <td>no</td>\n",
       "      <td>no</td>\n",
       "      <td>ckd</td>\n",
       "    </tr>\n",
       "    <tr>\n",
       "      <th>2</th>\n",
       "      <td>normal</td>\n",
       "      <td>normal</td>\n",
       "      <td>notpresent</td>\n",
       "      <td>notpresent</td>\n",
       "      <td>no</td>\n",
       "      <td>yes</td>\n",
       "      <td>no</td>\n",
       "      <td>poor</td>\n",
       "      <td>no</td>\n",
       "      <td>yes</td>\n",
       "      <td>ckd</td>\n",
       "    </tr>\n",
       "    <tr>\n",
       "      <th>3</th>\n",
       "      <td>normal</td>\n",
       "      <td>abnormal</td>\n",
       "      <td>present</td>\n",
       "      <td>notpresent</td>\n",
       "      <td>yes</td>\n",
       "      <td>no</td>\n",
       "      <td>no</td>\n",
       "      <td>poor</td>\n",
       "      <td>yes</td>\n",
       "      <td>yes</td>\n",
       "      <td>ckd</td>\n",
       "    </tr>\n",
       "    <tr>\n",
       "      <th>4</th>\n",
       "      <td>normal</td>\n",
       "      <td>normal</td>\n",
       "      <td>notpresent</td>\n",
       "      <td>notpresent</td>\n",
       "      <td>no</td>\n",
       "      <td>no</td>\n",
       "      <td>no</td>\n",
       "      <td>good</td>\n",
       "      <td>no</td>\n",
       "      <td>no</td>\n",
       "      <td>ckd</td>\n",
       "    </tr>\n",
       "  </tbody>\n",
       "</table>\n",
       "</div>"
      ],
      "text/plain": [
       "      rbc        pc         pcc          ba  htn   dm cad appet   pe  ane  \\\n",
       "0  normal    normal  notpresent  notpresent  yes  yes  no  good   no   no   \n",
       "1  normal    normal  notpresent  notpresent   no   no  no  good   no   no   \n",
       "2  normal    normal  notpresent  notpresent   no  yes  no  poor   no  yes   \n",
       "3  normal  abnormal     present  notpresent  yes   no  no  poor  yes  yes   \n",
       "4  normal    normal  notpresent  notpresent   no   no  no  good   no   no   \n",
       "\n",
       "  classification  \n",
       "0            ckd  \n",
       "1            ckd  \n",
       "2            ckd  \n",
       "3            ckd  \n",
       "4            ckd  "
      ]
     },
     "execution_count": 94,
     "metadata": {},
     "output_type": "execute_result"
    }
   ],
   "source": [
    "data1= data.drop(data.describe().columns, axis=1)\n",
    "data1.head()"
   ]
  },
  {
   "cell_type": "code",
   "execution_count": 95,
   "id": "a10657b6",
   "metadata": {},
   "outputs": [
    {
     "data": {
      "text/plain": [
       "Index(['rbc', 'pc', 'pcc', 'ba', 'htn', 'dm', 'cad', 'appet', 'pe', 'ane',\n",
       "       'classification'],\n",
       "      dtype='object')"
      ]
     },
     "execution_count": 95,
     "metadata": {},
     "output_type": "execute_result"
    }
   ],
   "source": [
    "data1.columns"
   ]
  },
  {
   "cell_type": "code",
   "execution_count": 96,
   "id": "8b35be9f",
   "metadata": {},
   "outputs": [],
   "source": [
    "# First we split data into dependent and independent data\n",
    "X = data.drop(['id','age','classification'],axis=1)\n",
    "y = data['classification']"
   ]
  },
  {
   "cell_type": "code",
   "execution_count": 97,
   "id": "32ea6822",
   "metadata": {},
   "outputs": [
    {
     "data": {
      "text/html": [
       "<div>\n",
       "<style scoped>\n",
       "    .dataframe tbody tr th:only-of-type {\n",
       "        vertical-align: middle;\n",
       "    }\n",
       "\n",
       "    .dataframe tbody tr th {\n",
       "        vertical-align: top;\n",
       "    }\n",
       "\n",
       "    .dataframe thead th {\n",
       "        text-align: right;\n",
       "    }\n",
       "</style>\n",
       "<table border=\"1\" class=\"dataframe\">\n",
       "  <thead>\n",
       "    <tr style=\"text-align: right;\">\n",
       "      <th></th>\n",
       "      <th>bp</th>\n",
       "      <th>sg</th>\n",
       "      <th>al</th>\n",
       "      <th>su</th>\n",
       "      <th>rbc</th>\n",
       "      <th>pc</th>\n",
       "      <th>pcc</th>\n",
       "      <th>ba</th>\n",
       "      <th>bgr</th>\n",
       "      <th>bu</th>\n",
       "      <th>...</th>\n",
       "      <th>hemo</th>\n",
       "      <th>pcv</th>\n",
       "      <th>wc</th>\n",
       "      <th>rc</th>\n",
       "      <th>htn</th>\n",
       "      <th>dm</th>\n",
       "      <th>cad</th>\n",
       "      <th>appet</th>\n",
       "      <th>pe</th>\n",
       "      <th>ane</th>\n",
       "    </tr>\n",
       "  </thead>\n",
       "  <tbody>\n",
       "    <tr>\n",
       "      <th>0</th>\n",
       "      <td>80.0</td>\n",
       "      <td>1.020</td>\n",
       "      <td>1.0</td>\n",
       "      <td>0.0</td>\n",
       "      <td>normal</td>\n",
       "      <td>normal</td>\n",
       "      <td>notpresent</td>\n",
       "      <td>notpresent</td>\n",
       "      <td>121.0</td>\n",
       "      <td>36.0</td>\n",
       "      <td>...</td>\n",
       "      <td>15.4</td>\n",
       "      <td>44.0</td>\n",
       "      <td>7800.0</td>\n",
       "      <td>5.200000</td>\n",
       "      <td>yes</td>\n",
       "      <td>yes</td>\n",
       "      <td>no</td>\n",
       "      <td>good</td>\n",
       "      <td>no</td>\n",
       "      <td>no</td>\n",
       "    </tr>\n",
       "    <tr>\n",
       "      <th>1</th>\n",
       "      <td>50.0</td>\n",
       "      <td>1.020</td>\n",
       "      <td>4.0</td>\n",
       "      <td>0.0</td>\n",
       "      <td>normal</td>\n",
       "      <td>normal</td>\n",
       "      <td>notpresent</td>\n",
       "      <td>notpresent</td>\n",
       "      <td>121.0</td>\n",
       "      <td>18.0</td>\n",
       "      <td>...</td>\n",
       "      <td>11.3</td>\n",
       "      <td>38.0</td>\n",
       "      <td>6000.0</td>\n",
       "      <td>4.707435</td>\n",
       "      <td>no</td>\n",
       "      <td>no</td>\n",
       "      <td>no</td>\n",
       "      <td>good</td>\n",
       "      <td>no</td>\n",
       "      <td>no</td>\n",
       "    </tr>\n",
       "    <tr>\n",
       "      <th>2</th>\n",
       "      <td>80.0</td>\n",
       "      <td>1.010</td>\n",
       "      <td>2.0</td>\n",
       "      <td>3.0</td>\n",
       "      <td>normal</td>\n",
       "      <td>normal</td>\n",
       "      <td>notpresent</td>\n",
       "      <td>notpresent</td>\n",
       "      <td>423.0</td>\n",
       "      <td>53.0</td>\n",
       "      <td>...</td>\n",
       "      <td>9.6</td>\n",
       "      <td>31.0</td>\n",
       "      <td>7500.0</td>\n",
       "      <td>4.707435</td>\n",
       "      <td>no</td>\n",
       "      <td>yes</td>\n",
       "      <td>no</td>\n",
       "      <td>poor</td>\n",
       "      <td>no</td>\n",
       "      <td>yes</td>\n",
       "    </tr>\n",
       "    <tr>\n",
       "      <th>3</th>\n",
       "      <td>70.0</td>\n",
       "      <td>1.005</td>\n",
       "      <td>4.0</td>\n",
       "      <td>0.0</td>\n",
       "      <td>normal</td>\n",
       "      <td>abnormal</td>\n",
       "      <td>present</td>\n",
       "      <td>notpresent</td>\n",
       "      <td>117.0</td>\n",
       "      <td>56.0</td>\n",
       "      <td>...</td>\n",
       "      <td>11.2</td>\n",
       "      <td>32.0</td>\n",
       "      <td>6700.0</td>\n",
       "      <td>3.900000</td>\n",
       "      <td>yes</td>\n",
       "      <td>no</td>\n",
       "      <td>no</td>\n",
       "      <td>poor</td>\n",
       "      <td>yes</td>\n",
       "      <td>yes</td>\n",
       "    </tr>\n",
       "    <tr>\n",
       "      <th>4</th>\n",
       "      <td>80.0</td>\n",
       "      <td>1.010</td>\n",
       "      <td>2.0</td>\n",
       "      <td>0.0</td>\n",
       "      <td>normal</td>\n",
       "      <td>normal</td>\n",
       "      <td>notpresent</td>\n",
       "      <td>notpresent</td>\n",
       "      <td>106.0</td>\n",
       "      <td>26.0</td>\n",
       "      <td>...</td>\n",
       "      <td>11.6</td>\n",
       "      <td>35.0</td>\n",
       "      <td>7300.0</td>\n",
       "      <td>4.600000</td>\n",
       "      <td>no</td>\n",
       "      <td>no</td>\n",
       "      <td>no</td>\n",
       "      <td>good</td>\n",
       "      <td>no</td>\n",
       "      <td>no</td>\n",
       "    </tr>\n",
       "  </tbody>\n",
       "</table>\n",
       "<p>5 rows × 23 columns</p>\n",
       "</div>"
      ],
      "text/plain": [
       "     bp     sg   al   su     rbc        pc         pcc          ba    bgr  \\\n",
       "0  80.0  1.020  1.0  0.0  normal    normal  notpresent  notpresent  121.0   \n",
       "1  50.0  1.020  4.0  0.0  normal    normal  notpresent  notpresent  121.0   \n",
       "2  80.0  1.010  2.0  3.0  normal    normal  notpresent  notpresent  423.0   \n",
       "3  70.0  1.005  4.0  0.0  normal  abnormal     present  notpresent  117.0   \n",
       "4  80.0  1.010  2.0  0.0  normal    normal  notpresent  notpresent  106.0   \n",
       "\n",
       "     bu  ...  hemo   pcv      wc        rc  htn   dm  cad appet   pe  ane  \n",
       "0  36.0  ...  15.4  44.0  7800.0  5.200000  yes  yes   no  good   no   no  \n",
       "1  18.0  ...  11.3  38.0  6000.0  4.707435   no   no   no  good   no   no  \n",
       "2  53.0  ...   9.6  31.0  7500.0  4.707435   no  yes   no  poor   no  yes  \n",
       "3  56.0  ...  11.2  32.0  6700.0  3.900000  yes   no   no  poor  yes  yes  \n",
       "4  26.0  ...  11.6  35.0  7300.0  4.600000   no   no   no  good   no   no  \n",
       "\n",
       "[5 rows x 23 columns]"
      ]
     },
     "execution_count": 97,
     "metadata": {},
     "output_type": "execute_result"
    }
   ],
   "source": [
    "X.head()"
   ]
  },
  {
   "cell_type": "code",
   "execution_count": 98,
   "id": "557258bd",
   "metadata": {},
   "outputs": [
    {
     "data": {
      "text/plain": [
       "Index(['bp', 'sg', 'al', 'su', 'rbc', 'pc', 'pcc', 'ba', 'bgr', 'bu', 'sc',\n",
       "       'sod', 'pot', 'hemo', 'pcv', 'wc', 'rc', 'htn', 'dm', 'cad', 'appet',\n",
       "       'pe', 'ane'],\n",
       "      dtype='object')"
      ]
     },
     "execution_count": 98,
     "metadata": {},
     "output_type": "execute_result"
    }
   ],
   "source": [
    "X.columns"
   ]
  },
  {
   "cell_type": "code",
   "execution_count": 99,
   "id": "0184e345",
   "metadata": {},
   "outputs": [],
   "source": [
    "from sklearn.model_selection import train_test_split\n",
    "X_train, X_test, y_train, y_test= train_test_split(X,y, test_size=0.2)"
   ]
  },
  {
   "cell_type": "code",
   "execution_count": 100,
   "id": "1f1191e5",
   "metadata": {},
   "outputs": [
    {
     "name": "stdout",
     "output_type": "stream",
     "text": [
      "Shape of X_train:  (320, 23)\n",
      "Shape of X_test:  (80, 23)\n",
      "Shape of y_train:  (320,)\n",
      "Shape of y_test :  (80,)\n"
     ]
    }
   ],
   "source": [
    "print('Shape of X_train: ', X_train.shape)\n",
    "print('Shape of X_test: ', X_test.shape)\n",
    "print('Shape of y_train: ',y_train.shape)\n",
    "print('Shape of y_test : ', y_test.shape)"
   ]
  },
  {
   "cell_type": "code",
   "execution_count": 101,
   "id": "f8f926ea",
   "metadata": {},
   "outputs": [
    {
     "name": "stderr",
     "output_type": "stream",
     "text": [
      "C:\\Users\\Saesh\\anaconda3\\lib\\site-packages\\sklearn\\preprocessing\\_encoders.py:975: FutureWarning: `sparse` was renamed to `sparse_output` in version 1.2 and will be removed in 1.4. `sparse_output` is ignored unless you leave `sparse` to its default value.\n",
      "  warnings.warn(\n"
     ]
    }
   ],
   "source": [
    "# Encode the categorical features using OneHotEncoder\n",
    "categorical_cols = ['rbc', 'pc', 'pcc', 'ba', 'htn', 'dm', 'cad', 'pe', 'ane']\n",
    "\n",
    "from sklearn.preprocessing import OneHotEncoder\n",
    "onehot_encoder = OneHotEncoder(drop='first', sparse=False)\n",
    "\n",
    "# fit_transform on X_train only\n",
    "onehot_encoder.fit(X_train[categorical_cols])\n",
    "\n",
    "# column names after one hot encoding\n",
    "cols = onehot_encoder.get_feature_names_out(categorical_cols)\n",
    "\n",
    "# transform on X_train\n",
    "X_train_cat_encoded = pd.DataFrame(onehot_encoder.transform(X_train[categorical_cols]),columns=cols)\n",
    "\n",
    "# transform on X_test\n",
    "X_test_cat_encoded = pd.DataFrame(onehot_encoder.transform(X_test[categorical_cols]), columns=cols)"
   ]
  },
  {
   "cell_type": "code",
   "execution_count": 102,
   "id": "0cae4a45",
   "metadata": {},
   "outputs": [
    {
     "data": {
      "text/html": [
       "<div>\n",
       "<style scoped>\n",
       "    .dataframe tbody tr th:only-of-type {\n",
       "        vertical-align: middle;\n",
       "    }\n",
       "\n",
       "    .dataframe tbody tr th {\n",
       "        vertical-align: top;\n",
       "    }\n",
       "\n",
       "    .dataframe thead th {\n",
       "        text-align: right;\n",
       "    }\n",
       "</style>\n",
       "<table border=\"1\" class=\"dataframe\">\n",
       "  <thead>\n",
       "    <tr style=\"text-align: right;\">\n",
       "      <th></th>\n",
       "      <th>rbc_normal</th>\n",
       "      <th>pc_normal</th>\n",
       "      <th>pcc_present</th>\n",
       "      <th>ba_present</th>\n",
       "      <th>htn_yes</th>\n",
       "      <th>dm_yes</th>\n",
       "      <th>cad_yes</th>\n",
       "      <th>pe_yes</th>\n",
       "      <th>ane_yes</th>\n",
       "    </tr>\n",
       "  </thead>\n",
       "  <tbody>\n",
       "    <tr>\n",
       "      <th>0</th>\n",
       "      <td>1.0</td>\n",
       "      <td>1.0</td>\n",
       "      <td>0.0</td>\n",
       "      <td>0.0</td>\n",
       "      <td>0.0</td>\n",
       "      <td>0.0</td>\n",
       "      <td>0.0</td>\n",
       "      <td>0.0</td>\n",
       "      <td>0.0</td>\n",
       "    </tr>\n",
       "    <tr>\n",
       "      <th>1</th>\n",
       "      <td>1.0</td>\n",
       "      <td>1.0</td>\n",
       "      <td>0.0</td>\n",
       "      <td>0.0</td>\n",
       "      <td>0.0</td>\n",
       "      <td>0.0</td>\n",
       "      <td>0.0</td>\n",
       "      <td>1.0</td>\n",
       "      <td>0.0</td>\n",
       "    </tr>\n",
       "    <tr>\n",
       "      <th>2</th>\n",
       "      <td>1.0</td>\n",
       "      <td>1.0</td>\n",
       "      <td>0.0</td>\n",
       "      <td>0.0</td>\n",
       "      <td>0.0</td>\n",
       "      <td>1.0</td>\n",
       "      <td>0.0</td>\n",
       "      <td>0.0</td>\n",
       "      <td>0.0</td>\n",
       "    </tr>\n",
       "    <tr>\n",
       "      <th>3</th>\n",
       "      <td>1.0</td>\n",
       "      <td>1.0</td>\n",
       "      <td>0.0</td>\n",
       "      <td>0.0</td>\n",
       "      <td>0.0</td>\n",
       "      <td>0.0</td>\n",
       "      <td>0.0</td>\n",
       "      <td>0.0</td>\n",
       "      <td>0.0</td>\n",
       "    </tr>\n",
       "    <tr>\n",
       "      <th>4</th>\n",
       "      <td>1.0</td>\n",
       "      <td>0.0</td>\n",
       "      <td>0.0</td>\n",
       "      <td>0.0</td>\n",
       "      <td>0.0</td>\n",
       "      <td>0.0</td>\n",
       "      <td>0.0</td>\n",
       "      <td>0.0</td>\n",
       "      <td>0.0</td>\n",
       "    </tr>\n",
       "    <tr>\n",
       "      <th>...</th>\n",
       "      <td>...</td>\n",
       "      <td>...</td>\n",
       "      <td>...</td>\n",
       "      <td>...</td>\n",
       "      <td>...</td>\n",
       "      <td>...</td>\n",
       "      <td>...</td>\n",
       "      <td>...</td>\n",
       "      <td>...</td>\n",
       "    </tr>\n",
       "    <tr>\n",
       "      <th>315</th>\n",
       "      <td>0.0</td>\n",
       "      <td>1.0</td>\n",
       "      <td>1.0</td>\n",
       "      <td>0.0</td>\n",
       "      <td>1.0</td>\n",
       "      <td>0.0</td>\n",
       "      <td>1.0</td>\n",
       "      <td>0.0</td>\n",
       "      <td>1.0</td>\n",
       "    </tr>\n",
       "    <tr>\n",
       "      <th>316</th>\n",
       "      <td>1.0</td>\n",
       "      <td>1.0</td>\n",
       "      <td>0.0</td>\n",
       "      <td>0.0</td>\n",
       "      <td>0.0</td>\n",
       "      <td>0.0</td>\n",
       "      <td>0.0</td>\n",
       "      <td>0.0</td>\n",
       "      <td>0.0</td>\n",
       "    </tr>\n",
       "    <tr>\n",
       "      <th>317</th>\n",
       "      <td>1.0</td>\n",
       "      <td>0.0</td>\n",
       "      <td>1.0</td>\n",
       "      <td>1.0</td>\n",
       "      <td>0.0</td>\n",
       "      <td>0.0</td>\n",
       "      <td>0.0</td>\n",
       "      <td>0.0</td>\n",
       "      <td>1.0</td>\n",
       "    </tr>\n",
       "    <tr>\n",
       "      <th>318</th>\n",
       "      <td>1.0</td>\n",
       "      <td>1.0</td>\n",
       "      <td>0.0</td>\n",
       "      <td>0.0</td>\n",
       "      <td>0.0</td>\n",
       "      <td>1.0</td>\n",
       "      <td>0.0</td>\n",
       "      <td>0.0</td>\n",
       "      <td>0.0</td>\n",
       "    </tr>\n",
       "    <tr>\n",
       "      <th>319</th>\n",
       "      <td>1.0</td>\n",
       "      <td>1.0</td>\n",
       "      <td>1.0</td>\n",
       "      <td>1.0</td>\n",
       "      <td>0.0</td>\n",
       "      <td>1.0</td>\n",
       "      <td>0.0</td>\n",
       "      <td>0.0</td>\n",
       "      <td>0.0</td>\n",
       "    </tr>\n",
       "  </tbody>\n",
       "</table>\n",
       "<p>320 rows × 9 columns</p>\n",
       "</div>"
      ],
      "text/plain": [
       "     rbc_normal  pc_normal  pcc_present  ba_present  htn_yes  dm_yes  cad_yes  \\\n",
       "0           1.0        1.0          0.0         0.0      0.0     0.0      0.0   \n",
       "1           1.0        1.0          0.0         0.0      0.0     0.0      0.0   \n",
       "2           1.0        1.0          0.0         0.0      0.0     1.0      0.0   \n",
       "3           1.0        1.0          0.0         0.0      0.0     0.0      0.0   \n",
       "4           1.0        0.0          0.0         0.0      0.0     0.0      0.0   \n",
       "..          ...        ...          ...         ...      ...     ...      ...   \n",
       "315         0.0        1.0          1.0         0.0      1.0     0.0      1.0   \n",
       "316         1.0        1.0          0.0         0.0      0.0     0.0      0.0   \n",
       "317         1.0        0.0          1.0         1.0      0.0     0.0      0.0   \n",
       "318         1.0        1.0          0.0         0.0      0.0     1.0      0.0   \n",
       "319         1.0        1.0          1.0         1.0      0.0     1.0      0.0   \n",
       "\n",
       "     pe_yes  ane_yes  \n",
       "0       0.0      0.0  \n",
       "1       1.0      0.0  \n",
       "2       0.0      0.0  \n",
       "3       0.0      0.0  \n",
       "4       0.0      0.0  \n",
       "..      ...      ...  \n",
       "315     0.0      1.0  \n",
       "316     0.0      0.0  \n",
       "317     0.0      1.0  \n",
       "318     0.0      0.0  \n",
       "319     0.0      0.0  \n",
       "\n",
       "[320 rows x 9 columns]"
      ]
     },
     "execution_count": 102,
     "metadata": {},
     "output_type": "execute_result"
    }
   ],
   "source": [
    "X_train_cat_encoded"
   ]
  },
  {
   "cell_type": "code",
   "execution_count": 103,
   "id": "5e85c5cd",
   "metadata": {},
   "outputs": [
    {
     "data": {
      "text/html": [
       "<div>\n",
       "<style scoped>\n",
       "    .dataframe tbody tr th:only-of-type {\n",
       "        vertical-align: middle;\n",
       "    }\n",
       "\n",
       "    .dataframe tbody tr th {\n",
       "        vertical-align: top;\n",
       "    }\n",
       "\n",
       "    .dataframe thead th {\n",
       "        text-align: right;\n",
       "    }\n",
       "</style>\n",
       "<table border=\"1\" class=\"dataframe\">\n",
       "  <thead>\n",
       "    <tr style=\"text-align: right;\">\n",
       "      <th></th>\n",
       "      <th>rbc_normal</th>\n",
       "      <th>pc_normal</th>\n",
       "      <th>pcc_present</th>\n",
       "      <th>ba_present</th>\n",
       "      <th>htn_yes</th>\n",
       "      <th>dm_yes</th>\n",
       "      <th>cad_yes</th>\n",
       "      <th>pe_yes</th>\n",
       "      <th>ane_yes</th>\n",
       "    </tr>\n",
       "  </thead>\n",
       "  <tbody>\n",
       "    <tr>\n",
       "      <th>0</th>\n",
       "      <td>1.0</td>\n",
       "      <td>1.0</td>\n",
       "      <td>0.0</td>\n",
       "      <td>0.0</td>\n",
       "      <td>0.0</td>\n",
       "      <td>1.0</td>\n",
       "      <td>0.0</td>\n",
       "      <td>0.0</td>\n",
       "      <td>0.0</td>\n",
       "    </tr>\n",
       "    <tr>\n",
       "      <th>1</th>\n",
       "      <td>1.0</td>\n",
       "      <td>1.0</td>\n",
       "      <td>0.0</td>\n",
       "      <td>0.0</td>\n",
       "      <td>0.0</td>\n",
       "      <td>0.0</td>\n",
       "      <td>0.0</td>\n",
       "      <td>0.0</td>\n",
       "      <td>1.0</td>\n",
       "    </tr>\n",
       "    <tr>\n",
       "      <th>2</th>\n",
       "      <td>1.0</td>\n",
       "      <td>1.0</td>\n",
       "      <td>0.0</td>\n",
       "      <td>0.0</td>\n",
       "      <td>0.0</td>\n",
       "      <td>0.0</td>\n",
       "      <td>0.0</td>\n",
       "      <td>0.0</td>\n",
       "      <td>0.0</td>\n",
       "    </tr>\n",
       "    <tr>\n",
       "      <th>3</th>\n",
       "      <td>1.0</td>\n",
       "      <td>1.0</td>\n",
       "      <td>0.0</td>\n",
       "      <td>0.0</td>\n",
       "      <td>0.0</td>\n",
       "      <td>0.0</td>\n",
       "      <td>0.0</td>\n",
       "      <td>0.0</td>\n",
       "      <td>0.0</td>\n",
       "    </tr>\n",
       "    <tr>\n",
       "      <th>4</th>\n",
       "      <td>1.0</td>\n",
       "      <td>1.0</td>\n",
       "      <td>0.0</td>\n",
       "      <td>0.0</td>\n",
       "      <td>1.0</td>\n",
       "      <td>1.0</td>\n",
       "      <td>0.0</td>\n",
       "      <td>1.0</td>\n",
       "      <td>0.0</td>\n",
       "    </tr>\n",
       "    <tr>\n",
       "      <th>...</th>\n",
       "      <td>...</td>\n",
       "      <td>...</td>\n",
       "      <td>...</td>\n",
       "      <td>...</td>\n",
       "      <td>...</td>\n",
       "      <td>...</td>\n",
       "      <td>...</td>\n",
       "      <td>...</td>\n",
       "      <td>...</td>\n",
       "    </tr>\n",
       "    <tr>\n",
       "      <th>75</th>\n",
       "      <td>0.0</td>\n",
       "      <td>1.0</td>\n",
       "      <td>1.0</td>\n",
       "      <td>1.0</td>\n",
       "      <td>0.0</td>\n",
       "      <td>0.0</td>\n",
       "      <td>0.0</td>\n",
       "      <td>0.0</td>\n",
       "      <td>0.0</td>\n",
       "    </tr>\n",
       "    <tr>\n",
       "      <th>76</th>\n",
       "      <td>1.0</td>\n",
       "      <td>0.0</td>\n",
       "      <td>1.0</td>\n",
       "      <td>0.0</td>\n",
       "      <td>1.0</td>\n",
       "      <td>1.0</td>\n",
       "      <td>0.0</td>\n",
       "      <td>0.0</td>\n",
       "      <td>0.0</td>\n",
       "    </tr>\n",
       "    <tr>\n",
       "      <th>77</th>\n",
       "      <td>1.0</td>\n",
       "      <td>1.0</td>\n",
       "      <td>0.0</td>\n",
       "      <td>0.0</td>\n",
       "      <td>0.0</td>\n",
       "      <td>0.0</td>\n",
       "      <td>0.0</td>\n",
       "      <td>0.0</td>\n",
       "      <td>0.0</td>\n",
       "    </tr>\n",
       "    <tr>\n",
       "      <th>78</th>\n",
       "      <td>0.0</td>\n",
       "      <td>0.0</td>\n",
       "      <td>0.0</td>\n",
       "      <td>1.0</td>\n",
       "      <td>1.0</td>\n",
       "      <td>1.0</td>\n",
       "      <td>0.0</td>\n",
       "      <td>1.0</td>\n",
       "      <td>0.0</td>\n",
       "    </tr>\n",
       "    <tr>\n",
       "      <th>79</th>\n",
       "      <td>1.0</td>\n",
       "      <td>0.0</td>\n",
       "      <td>1.0</td>\n",
       "      <td>0.0</td>\n",
       "      <td>1.0</td>\n",
       "      <td>0.0</td>\n",
       "      <td>0.0</td>\n",
       "      <td>1.0</td>\n",
       "      <td>1.0</td>\n",
       "    </tr>\n",
       "  </tbody>\n",
       "</table>\n",
       "<p>80 rows × 9 columns</p>\n",
       "</div>"
      ],
      "text/plain": [
       "    rbc_normal  pc_normal  pcc_present  ba_present  htn_yes  dm_yes  cad_yes  \\\n",
       "0          1.0        1.0          0.0         0.0      0.0     1.0      0.0   \n",
       "1          1.0        1.0          0.0         0.0      0.0     0.0      0.0   \n",
       "2          1.0        1.0          0.0         0.0      0.0     0.0      0.0   \n",
       "3          1.0        1.0          0.0         0.0      0.0     0.0      0.0   \n",
       "4          1.0        1.0          0.0         0.0      1.0     1.0      0.0   \n",
       "..         ...        ...          ...         ...      ...     ...      ...   \n",
       "75         0.0        1.0          1.0         1.0      0.0     0.0      0.0   \n",
       "76         1.0        0.0          1.0         0.0      1.0     1.0      0.0   \n",
       "77         1.0        1.0          0.0         0.0      0.0     0.0      0.0   \n",
       "78         0.0        0.0          0.0         1.0      1.0     1.0      0.0   \n",
       "79         1.0        0.0          1.0         0.0      1.0     0.0      0.0   \n",
       "\n",
       "    pe_yes  ane_yes  \n",
       "0      0.0      0.0  \n",
       "1      0.0      1.0  \n",
       "2      0.0      0.0  \n",
       "3      0.0      0.0  \n",
       "4      1.0      0.0  \n",
       "..     ...      ...  \n",
       "75     0.0      0.0  \n",
       "76     0.0      0.0  \n",
       "77     0.0      0.0  \n",
       "78     1.0      0.0  \n",
       "79     1.0      1.0  \n",
       "\n",
       "[80 rows x 9 columns]"
      ]
     },
     "execution_count": 103,
     "metadata": {},
     "output_type": "execute_result"
    }
   ],
   "source": [
    "X_test_cat_encoded"
   ]
  },
  {
   "cell_type": "code",
   "execution_count": 104,
   "id": "be25a31f",
   "metadata": {},
   "outputs": [],
   "source": [
    "# Encode the ordinal feature using OrdinalEncoder\n",
    "ordinal_cols = ['appet']\n",
    "ordinal_categories = [['poor', 'good']]\n",
    "\n",
    "from sklearn.preprocessing import OrdinalEncoder \n",
    "\n",
    "ordinal_encoder = OrdinalEncoder(categories=ordinal_categories)\n",
    "\n",
    "# fit on X_train only\n",
    "ordinal_encoder.fit(X_train[ordinal_cols])\n",
    "\n",
    "# column names after ordinal encoding\n",
    "#colss = onehot_encoder.get_feature_names(ordinal_cols)\n",
    "\n",
    "# transform on X_train\n",
    "X_train_ord_encoded = pd.DataFrame(ordinal_encoder.fit_transform(X_train[ordinal_cols]), columns=ordinal_cols)\n",
    "\n",
    "# only transform on X_test\n",
    "X_test_ord_encoded = pd.DataFrame(ordinal_encoder.transform(X_test[ordinal_cols]), columns=ordinal_cols)"
   ]
  },
  {
   "cell_type": "code",
   "execution_count": 105,
   "id": "19b6a856",
   "metadata": {},
   "outputs": [
    {
     "data": {
      "text/html": [
       "<div>\n",
       "<style scoped>\n",
       "    .dataframe tbody tr th:only-of-type {\n",
       "        vertical-align: middle;\n",
       "    }\n",
       "\n",
       "    .dataframe tbody tr th {\n",
       "        vertical-align: top;\n",
       "    }\n",
       "\n",
       "    .dataframe thead th {\n",
       "        text-align: right;\n",
       "    }\n",
       "</style>\n",
       "<table border=\"1\" class=\"dataframe\">\n",
       "  <thead>\n",
       "    <tr style=\"text-align: right;\">\n",
       "      <th></th>\n",
       "      <th>appet</th>\n",
       "    </tr>\n",
       "  </thead>\n",
       "  <tbody>\n",
       "    <tr>\n",
       "      <th>0</th>\n",
       "      <td>1.0</td>\n",
       "    </tr>\n",
       "    <tr>\n",
       "      <th>1</th>\n",
       "      <td>1.0</td>\n",
       "    </tr>\n",
       "    <tr>\n",
       "      <th>2</th>\n",
       "      <td>1.0</td>\n",
       "    </tr>\n",
       "    <tr>\n",
       "      <th>3</th>\n",
       "      <td>1.0</td>\n",
       "    </tr>\n",
       "    <tr>\n",
       "      <th>4</th>\n",
       "      <td>0.0</td>\n",
       "    </tr>\n",
       "    <tr>\n",
       "      <th>...</th>\n",
       "      <td>...</td>\n",
       "    </tr>\n",
       "    <tr>\n",
       "      <th>315</th>\n",
       "      <td>1.0</td>\n",
       "    </tr>\n",
       "    <tr>\n",
       "      <th>316</th>\n",
       "      <td>1.0</td>\n",
       "    </tr>\n",
       "    <tr>\n",
       "      <th>317</th>\n",
       "      <td>1.0</td>\n",
       "    </tr>\n",
       "    <tr>\n",
       "      <th>318</th>\n",
       "      <td>1.0</td>\n",
       "    </tr>\n",
       "    <tr>\n",
       "      <th>319</th>\n",
       "      <td>0.0</td>\n",
       "    </tr>\n",
       "  </tbody>\n",
       "</table>\n",
       "<p>320 rows × 1 columns</p>\n",
       "</div>"
      ],
      "text/plain": [
       "     appet\n",
       "0      1.0\n",
       "1      1.0\n",
       "2      1.0\n",
       "3      1.0\n",
       "4      0.0\n",
       "..     ...\n",
       "315    1.0\n",
       "316    1.0\n",
       "317    1.0\n",
       "318    1.0\n",
       "319    0.0\n",
       "\n",
       "[320 rows x 1 columns]"
      ]
     },
     "execution_count": 105,
     "metadata": {},
     "output_type": "execute_result"
    }
   ],
   "source": [
    "X_train_ord_encoded"
   ]
  },
  {
   "cell_type": "code",
   "execution_count": 106,
   "id": "cdd4d8aa",
   "metadata": {},
   "outputs": [
    {
     "data": {
      "text/html": [
       "<div>\n",
       "<style scoped>\n",
       "    .dataframe tbody tr th:only-of-type {\n",
       "        vertical-align: middle;\n",
       "    }\n",
       "\n",
       "    .dataframe tbody tr th {\n",
       "        vertical-align: top;\n",
       "    }\n",
       "\n",
       "    .dataframe thead th {\n",
       "        text-align: right;\n",
       "    }\n",
       "</style>\n",
       "<table border=\"1\" class=\"dataframe\">\n",
       "  <thead>\n",
       "    <tr style=\"text-align: right;\">\n",
       "      <th></th>\n",
       "      <th>appet</th>\n",
       "    </tr>\n",
       "  </thead>\n",
       "  <tbody>\n",
       "    <tr>\n",
       "      <th>0</th>\n",
       "      <td>1.0</td>\n",
       "    </tr>\n",
       "    <tr>\n",
       "      <th>1</th>\n",
       "      <td>0.0</td>\n",
       "    </tr>\n",
       "    <tr>\n",
       "      <th>2</th>\n",
       "      <td>1.0</td>\n",
       "    </tr>\n",
       "    <tr>\n",
       "      <th>3</th>\n",
       "      <td>1.0</td>\n",
       "    </tr>\n",
       "    <tr>\n",
       "      <th>4</th>\n",
       "      <td>1.0</td>\n",
       "    </tr>\n",
       "    <tr>\n",
       "      <th>...</th>\n",
       "      <td>...</td>\n",
       "    </tr>\n",
       "    <tr>\n",
       "      <th>75</th>\n",
       "      <td>1.0</td>\n",
       "    </tr>\n",
       "    <tr>\n",
       "      <th>76</th>\n",
       "      <td>0.0</td>\n",
       "    </tr>\n",
       "    <tr>\n",
       "      <th>77</th>\n",
       "      <td>1.0</td>\n",
       "    </tr>\n",
       "    <tr>\n",
       "      <th>78</th>\n",
       "      <td>1.0</td>\n",
       "    </tr>\n",
       "    <tr>\n",
       "      <th>79</th>\n",
       "      <td>0.0</td>\n",
       "    </tr>\n",
       "  </tbody>\n",
       "</table>\n",
       "<p>80 rows × 1 columns</p>\n",
       "</div>"
      ],
      "text/plain": [
       "    appet\n",
       "0     1.0\n",
       "1     0.0\n",
       "2     1.0\n",
       "3     1.0\n",
       "4     1.0\n",
       "..    ...\n",
       "75    1.0\n",
       "76    0.0\n",
       "77    1.0\n",
       "78    1.0\n",
       "79    0.0\n",
       "\n",
       "[80 rows x 1 columns]"
      ]
     },
     "execution_count": 106,
     "metadata": {},
     "output_type": "execute_result"
    }
   ],
   "source": [
    "X_test_ord_encoded"
   ]
  },
  {
   "cell_type": "code",
   "execution_count": 107,
   "id": "199e2421",
   "metadata": {},
   "outputs": [],
   "source": [
    "# Combine the encoded features into a single DataFrame\n",
    "\n",
    "# X_train\n",
    "X_train_encoded = pd.concat([X_train.drop(columns=categorical_cols+ordinal_cols).reset_index(),\n",
    "                             X_train_cat_encoded,X_train_ord_encoded],axis=1).drop('index',axis=1)\n",
    "\n",
    "# X_test\n",
    "X_test_encoded = pd.concat([X_test.drop(columns=categorical_cols+ordinal_cols).reset_index(),\n",
    "                            X_test_cat_encoded, X_test_ord_encoded], axis=1).drop('index',axis=1)"
   ]
  },
  {
   "cell_type": "code",
   "execution_count": 108,
   "id": "2bdcf5ca",
   "metadata": {},
   "outputs": [
    {
     "data": {
      "text/html": [
       "<div>\n",
       "<style scoped>\n",
       "    .dataframe tbody tr th:only-of-type {\n",
       "        vertical-align: middle;\n",
       "    }\n",
       "\n",
       "    .dataframe tbody tr th {\n",
       "        vertical-align: top;\n",
       "    }\n",
       "\n",
       "    .dataframe thead th {\n",
       "        text-align: right;\n",
       "    }\n",
       "</style>\n",
       "<table border=\"1\" class=\"dataframe\">\n",
       "  <thead>\n",
       "    <tr style=\"text-align: right;\">\n",
       "      <th></th>\n",
       "      <th>bp</th>\n",
       "      <th>sg</th>\n",
       "      <th>al</th>\n",
       "      <th>su</th>\n",
       "      <th>bgr</th>\n",
       "      <th>bu</th>\n",
       "      <th>sc</th>\n",
       "      <th>sod</th>\n",
       "      <th>pot</th>\n",
       "      <th>hemo</th>\n",
       "      <th>...</th>\n",
       "      <th>rbc_normal</th>\n",
       "      <th>pc_normal</th>\n",
       "      <th>pcc_present</th>\n",
       "      <th>ba_present</th>\n",
       "      <th>htn_yes</th>\n",
       "      <th>dm_yes</th>\n",
       "      <th>cad_yes</th>\n",
       "      <th>pe_yes</th>\n",
       "      <th>ane_yes</th>\n",
       "      <th>appet</th>\n",
       "    </tr>\n",
       "  </thead>\n",
       "  <tbody>\n",
       "    <tr>\n",
       "      <th>0</th>\n",
       "      <td>70.0</td>\n",
       "      <td>1.020000</td>\n",
       "      <td>0.0</td>\n",
       "      <td>0.0</td>\n",
       "      <td>83.0</td>\n",
       "      <td>42.000000</td>\n",
       "      <td>1.200000</td>\n",
       "      <td>139.000000</td>\n",
       "      <td>3.700000</td>\n",
       "      <td>16.200000</td>\n",
       "      <td>...</td>\n",
       "      <td>1.0</td>\n",
       "      <td>1.0</td>\n",
       "      <td>0.0</td>\n",
       "      <td>0.0</td>\n",
       "      <td>0.0</td>\n",
       "      <td>0.0</td>\n",
       "      <td>0.0</td>\n",
       "      <td>0.0</td>\n",
       "      <td>0.0</td>\n",
       "      <td>1.0</td>\n",
       "    </tr>\n",
       "    <tr>\n",
       "      <th>1</th>\n",
       "      <td>60.0</td>\n",
       "      <td>1.020000</td>\n",
       "      <td>0.0</td>\n",
       "      <td>0.0</td>\n",
       "      <td>117.0</td>\n",
       "      <td>28.000000</td>\n",
       "      <td>2.200000</td>\n",
       "      <td>138.000000</td>\n",
       "      <td>3.800000</td>\n",
       "      <td>12.526437</td>\n",
       "      <td>...</td>\n",
       "      <td>1.0</td>\n",
       "      <td>1.0</td>\n",
       "      <td>0.0</td>\n",
       "      <td>0.0</td>\n",
       "      <td>0.0</td>\n",
       "      <td>0.0</td>\n",
       "      <td>0.0</td>\n",
       "      <td>1.0</td>\n",
       "      <td>0.0</td>\n",
       "      <td>1.0</td>\n",
       "    </tr>\n",
       "    <tr>\n",
       "      <th>2</th>\n",
       "      <td>80.0</td>\n",
       "      <td>1.017408</td>\n",
       "      <td>0.0</td>\n",
       "      <td>0.0</td>\n",
       "      <td>415.0</td>\n",
       "      <td>37.000000</td>\n",
       "      <td>1.900000</td>\n",
       "      <td>137.528754</td>\n",
       "      <td>4.627244</td>\n",
       "      <td>12.526437</td>\n",
       "      <td>...</td>\n",
       "      <td>1.0</td>\n",
       "      <td>1.0</td>\n",
       "      <td>0.0</td>\n",
       "      <td>0.0</td>\n",
       "      <td>0.0</td>\n",
       "      <td>1.0</td>\n",
       "      <td>0.0</td>\n",
       "      <td>0.0</td>\n",
       "      <td>0.0</td>\n",
       "      <td>1.0</td>\n",
       "    </tr>\n",
       "    <tr>\n",
       "      <th>3</th>\n",
       "      <td>60.0</td>\n",
       "      <td>1.020000</td>\n",
       "      <td>0.0</td>\n",
       "      <td>0.0</td>\n",
       "      <td>95.0</td>\n",
       "      <td>24.000000</td>\n",
       "      <td>0.800000</td>\n",
       "      <td>145.000000</td>\n",
       "      <td>5.000000</td>\n",
       "      <td>15.000000</td>\n",
       "      <td>...</td>\n",
       "      <td>1.0</td>\n",
       "      <td>1.0</td>\n",
       "      <td>0.0</td>\n",
       "      <td>0.0</td>\n",
       "      <td>0.0</td>\n",
       "      <td>0.0</td>\n",
       "      <td>0.0</td>\n",
       "      <td>0.0</td>\n",
       "      <td>0.0</td>\n",
       "      <td>1.0</td>\n",
       "    </tr>\n",
       "    <tr>\n",
       "      <th>4</th>\n",
       "      <td>80.0</td>\n",
       "      <td>1.020000</td>\n",
       "      <td>3.0</td>\n",
       "      <td>0.0</td>\n",
       "      <td>425.0</td>\n",
       "      <td>57.425722</td>\n",
       "      <td>3.072454</td>\n",
       "      <td>137.528754</td>\n",
       "      <td>4.627244</td>\n",
       "      <td>12.526437</td>\n",
       "      <td>...</td>\n",
       "      <td>1.0</td>\n",
       "      <td>0.0</td>\n",
       "      <td>0.0</td>\n",
       "      <td>0.0</td>\n",
       "      <td>0.0</td>\n",
       "      <td>0.0</td>\n",
       "      <td>0.0</td>\n",
       "      <td>0.0</td>\n",
       "      <td>0.0</td>\n",
       "      <td>0.0</td>\n",
       "    </tr>\n",
       "    <tr>\n",
       "      <th>...</th>\n",
       "      <td>...</td>\n",
       "      <td>...</td>\n",
       "      <td>...</td>\n",
       "      <td>...</td>\n",
       "      <td>...</td>\n",
       "      <td>...</td>\n",
       "      <td>...</td>\n",
       "      <td>...</td>\n",
       "      <td>...</td>\n",
       "      <td>...</td>\n",
       "      <td>...</td>\n",
       "      <td>...</td>\n",
       "      <td>...</td>\n",
       "      <td>...</td>\n",
       "      <td>...</td>\n",
       "      <td>...</td>\n",
       "      <td>...</td>\n",
       "      <td>...</td>\n",
       "      <td>...</td>\n",
       "      <td>...</td>\n",
       "      <td>...</td>\n",
       "    </tr>\n",
       "    <tr>\n",
       "      <th>315</th>\n",
       "      <td>110.0</td>\n",
       "      <td>1.015000</td>\n",
       "      <td>3.0</td>\n",
       "      <td>0.0</td>\n",
       "      <td>106.0</td>\n",
       "      <td>215.000000</td>\n",
       "      <td>15.200000</td>\n",
       "      <td>120.000000</td>\n",
       "      <td>5.700000</td>\n",
       "      <td>8.600000</td>\n",
       "      <td>...</td>\n",
       "      <td>0.0</td>\n",
       "      <td>1.0</td>\n",
       "      <td>1.0</td>\n",
       "      <td>0.0</td>\n",
       "      <td>1.0</td>\n",
       "      <td>0.0</td>\n",
       "      <td>1.0</td>\n",
       "      <td>0.0</td>\n",
       "      <td>1.0</td>\n",
       "      <td>1.0</td>\n",
       "    </tr>\n",
       "    <tr>\n",
       "      <th>316</th>\n",
       "      <td>60.0</td>\n",
       "      <td>1.025000</td>\n",
       "      <td>0.0</td>\n",
       "      <td>0.0</td>\n",
       "      <td>80.0</td>\n",
       "      <td>25.000000</td>\n",
       "      <td>0.900000</td>\n",
       "      <td>146.000000</td>\n",
       "      <td>3.500000</td>\n",
       "      <td>14.100000</td>\n",
       "      <td>...</td>\n",
       "      <td>1.0</td>\n",
       "      <td>1.0</td>\n",
       "      <td>0.0</td>\n",
       "      <td>0.0</td>\n",
       "      <td>0.0</td>\n",
       "      <td>0.0</td>\n",
       "      <td>0.0</td>\n",
       "      <td>0.0</td>\n",
       "      <td>0.0</td>\n",
       "      <td>1.0</td>\n",
       "    </tr>\n",
       "    <tr>\n",
       "      <th>317</th>\n",
       "      <td>90.0</td>\n",
       "      <td>1.010000</td>\n",
       "      <td>4.0</td>\n",
       "      <td>0.0</td>\n",
       "      <td>107.0</td>\n",
       "      <td>40.000000</td>\n",
       "      <td>1.700000</td>\n",
       "      <td>125.000000</td>\n",
       "      <td>3.500000</td>\n",
       "      <td>8.300000</td>\n",
       "      <td>...</td>\n",
       "      <td>1.0</td>\n",
       "      <td>0.0</td>\n",
       "      <td>1.0</td>\n",
       "      <td>1.0</td>\n",
       "      <td>0.0</td>\n",
       "      <td>0.0</td>\n",
       "      <td>0.0</td>\n",
       "      <td>0.0</td>\n",
       "      <td>1.0</td>\n",
       "      <td>1.0</td>\n",
       "    </tr>\n",
       "    <tr>\n",
       "      <th>318</th>\n",
       "      <td>70.0</td>\n",
       "      <td>1.015000</td>\n",
       "      <td>0.0</td>\n",
       "      <td>0.0</td>\n",
       "      <td>124.0</td>\n",
       "      <td>24.000000</td>\n",
       "      <td>1.200000</td>\n",
       "      <td>142.000000</td>\n",
       "      <td>4.200000</td>\n",
       "      <td>12.400000</td>\n",
       "      <td>...</td>\n",
       "      <td>1.0</td>\n",
       "      <td>1.0</td>\n",
       "      <td>0.0</td>\n",
       "      <td>0.0</td>\n",
       "      <td>0.0</td>\n",
       "      <td>1.0</td>\n",
       "      <td>0.0</td>\n",
       "      <td>0.0</td>\n",
       "      <td>0.0</td>\n",
       "      <td>1.0</td>\n",
       "    </tr>\n",
       "    <tr>\n",
       "      <th>319</th>\n",
       "      <td>70.0</td>\n",
       "      <td>1.010000</td>\n",
       "      <td>1.0</td>\n",
       "      <td>0.0</td>\n",
       "      <td>171.0</td>\n",
       "      <td>153.000000</td>\n",
       "      <td>5.200000</td>\n",
       "      <td>137.528754</td>\n",
       "      <td>4.627244</td>\n",
       "      <td>12.526437</td>\n",
       "      <td>...</td>\n",
       "      <td>1.0</td>\n",
       "      <td>1.0</td>\n",
       "      <td>1.0</td>\n",
       "      <td>1.0</td>\n",
       "      <td>0.0</td>\n",
       "      <td>1.0</td>\n",
       "      <td>0.0</td>\n",
       "      <td>0.0</td>\n",
       "      <td>0.0</td>\n",
       "      <td>0.0</td>\n",
       "    </tr>\n",
       "  </tbody>\n",
       "</table>\n",
       "<p>320 rows × 23 columns</p>\n",
       "</div>"
      ],
      "text/plain": [
       "        bp        sg   al   su    bgr          bu         sc         sod  \\\n",
       "0     70.0  1.020000  0.0  0.0   83.0   42.000000   1.200000  139.000000   \n",
       "1     60.0  1.020000  0.0  0.0  117.0   28.000000   2.200000  138.000000   \n",
       "2     80.0  1.017408  0.0  0.0  415.0   37.000000   1.900000  137.528754   \n",
       "3     60.0  1.020000  0.0  0.0   95.0   24.000000   0.800000  145.000000   \n",
       "4     80.0  1.020000  3.0  0.0  425.0   57.425722   3.072454  137.528754   \n",
       "..     ...       ...  ...  ...    ...         ...        ...         ...   \n",
       "315  110.0  1.015000  3.0  0.0  106.0  215.000000  15.200000  120.000000   \n",
       "316   60.0  1.025000  0.0  0.0   80.0   25.000000   0.900000  146.000000   \n",
       "317   90.0  1.010000  4.0  0.0  107.0   40.000000   1.700000  125.000000   \n",
       "318   70.0  1.015000  0.0  0.0  124.0   24.000000   1.200000  142.000000   \n",
       "319   70.0  1.010000  1.0  0.0  171.0  153.000000   5.200000  137.528754   \n",
       "\n",
       "          pot       hemo  ...  rbc_normal  pc_normal  pcc_present  ba_present  \\\n",
       "0    3.700000  16.200000  ...         1.0        1.0          0.0         0.0   \n",
       "1    3.800000  12.526437  ...         1.0        1.0          0.0         0.0   \n",
       "2    4.627244  12.526437  ...         1.0        1.0          0.0         0.0   \n",
       "3    5.000000  15.000000  ...         1.0        1.0          0.0         0.0   \n",
       "4    4.627244  12.526437  ...         1.0        0.0          0.0         0.0   \n",
       "..        ...        ...  ...         ...        ...          ...         ...   \n",
       "315  5.700000   8.600000  ...         0.0        1.0          1.0         0.0   \n",
       "316  3.500000  14.100000  ...         1.0        1.0          0.0         0.0   \n",
       "317  3.500000   8.300000  ...         1.0        0.0          1.0         1.0   \n",
       "318  4.200000  12.400000  ...         1.0        1.0          0.0         0.0   \n",
       "319  4.627244  12.526437  ...         1.0        1.0          1.0         1.0   \n",
       "\n",
       "     htn_yes  dm_yes  cad_yes  pe_yes  ane_yes  appet  \n",
       "0        0.0     0.0      0.0     0.0      0.0    1.0  \n",
       "1        0.0     0.0      0.0     1.0      0.0    1.0  \n",
       "2        0.0     1.0      0.0     0.0      0.0    1.0  \n",
       "3        0.0     0.0      0.0     0.0      0.0    1.0  \n",
       "4        0.0     0.0      0.0     0.0      0.0    0.0  \n",
       "..       ...     ...      ...     ...      ...    ...  \n",
       "315      1.0     0.0      1.0     0.0      1.0    1.0  \n",
       "316      0.0     0.0      0.0     0.0      0.0    1.0  \n",
       "317      0.0     0.0      0.0     0.0      1.0    1.0  \n",
       "318      0.0     1.0      0.0     0.0      0.0    1.0  \n",
       "319      0.0     1.0      0.0     0.0      0.0    0.0  \n",
       "\n",
       "[320 rows x 23 columns]"
      ]
     },
     "execution_count": 108,
     "metadata": {},
     "output_type": "execute_result"
    }
   ],
   "source": [
    "X_train_encoded"
   ]
  },
  {
   "cell_type": "code",
   "execution_count": 109,
   "id": "0d895426",
   "metadata": {},
   "outputs": [
    {
     "data": {
      "text/html": [
       "<div>\n",
       "<style scoped>\n",
       "    .dataframe tbody tr th:only-of-type {\n",
       "        vertical-align: middle;\n",
       "    }\n",
       "\n",
       "    .dataframe tbody tr th {\n",
       "        vertical-align: top;\n",
       "    }\n",
       "\n",
       "    .dataframe thead th {\n",
       "        text-align: right;\n",
       "    }\n",
       "</style>\n",
       "<table border=\"1\" class=\"dataframe\">\n",
       "  <thead>\n",
       "    <tr style=\"text-align: right;\">\n",
       "      <th></th>\n",
       "      <th>bp</th>\n",
       "      <th>sg</th>\n",
       "      <th>al</th>\n",
       "      <th>su</th>\n",
       "      <th>bgr</th>\n",
       "      <th>bu</th>\n",
       "      <th>sc</th>\n",
       "      <th>sod</th>\n",
       "      <th>pot</th>\n",
       "      <th>hemo</th>\n",
       "      <th>...</th>\n",
       "      <th>rbc_normal</th>\n",
       "      <th>pc_normal</th>\n",
       "      <th>pcc_present</th>\n",
       "      <th>ba_present</th>\n",
       "      <th>htn_yes</th>\n",
       "      <th>dm_yes</th>\n",
       "      <th>cad_yes</th>\n",
       "      <th>pe_yes</th>\n",
       "      <th>ane_yes</th>\n",
       "      <th>appet</th>\n",
       "    </tr>\n",
       "  </thead>\n",
       "  <tbody>\n",
       "    <tr>\n",
       "      <th>0</th>\n",
       "      <td>90.0</td>\n",
       "      <td>1.017408</td>\n",
       "      <td>0.0</td>\n",
       "      <td>0.0</td>\n",
       "      <td>84.0</td>\n",
       "      <td>145.000000</td>\n",
       "      <td>7.100000</td>\n",
       "      <td>135.000000</td>\n",
       "      <td>5.300000</td>\n",
       "      <td>12.526437</td>\n",
       "      <td>...</td>\n",
       "      <td>1.0</td>\n",
       "      <td>1.0</td>\n",
       "      <td>0.0</td>\n",
       "      <td>0.0</td>\n",
       "      <td>0.0</td>\n",
       "      <td>1.0</td>\n",
       "      <td>0.0</td>\n",
       "      <td>0.0</td>\n",
       "      <td>0.0</td>\n",
       "      <td>1.0</td>\n",
       "    </tr>\n",
       "    <tr>\n",
       "      <th>1</th>\n",
       "      <td>70.0</td>\n",
       "      <td>1.010000</td>\n",
       "      <td>0.0</td>\n",
       "      <td>0.0</td>\n",
       "      <td>121.0</td>\n",
       "      <td>57.425722</td>\n",
       "      <td>3.072454</td>\n",
       "      <td>137.528754</td>\n",
       "      <td>4.627244</td>\n",
       "      <td>12.526437</td>\n",
       "      <td>...</td>\n",
       "      <td>1.0</td>\n",
       "      <td>1.0</td>\n",
       "      <td>0.0</td>\n",
       "      <td>0.0</td>\n",
       "      <td>0.0</td>\n",
       "      <td>0.0</td>\n",
       "      <td>0.0</td>\n",
       "      <td>0.0</td>\n",
       "      <td>1.0</td>\n",
       "      <td>0.0</td>\n",
       "    </tr>\n",
       "    <tr>\n",
       "      <th>2</th>\n",
       "      <td>60.0</td>\n",
       "      <td>1.020000</td>\n",
       "      <td>0.0</td>\n",
       "      <td>0.0</td>\n",
       "      <td>113.0</td>\n",
       "      <td>23.000000</td>\n",
       "      <td>1.100000</td>\n",
       "      <td>139.000000</td>\n",
       "      <td>3.500000</td>\n",
       "      <td>15.300000</td>\n",
       "      <td>...</td>\n",
       "      <td>1.0</td>\n",
       "      <td>1.0</td>\n",
       "      <td>0.0</td>\n",
       "      <td>0.0</td>\n",
       "      <td>0.0</td>\n",
       "      <td>0.0</td>\n",
       "      <td>0.0</td>\n",
       "      <td>0.0</td>\n",
       "      <td>0.0</td>\n",
       "      <td>1.0</td>\n",
       "    </tr>\n",
       "    <tr>\n",
       "      <th>3</th>\n",
       "      <td>60.0</td>\n",
       "      <td>1.025000</td>\n",
       "      <td>0.0</td>\n",
       "      <td>0.0</td>\n",
       "      <td>96.0</td>\n",
       "      <td>33.000000</td>\n",
       "      <td>0.900000</td>\n",
       "      <td>147.000000</td>\n",
       "      <td>4.500000</td>\n",
       "      <td>16.900000</td>\n",
       "      <td>...</td>\n",
       "      <td>1.0</td>\n",
       "      <td>1.0</td>\n",
       "      <td>0.0</td>\n",
       "      <td>0.0</td>\n",
       "      <td>0.0</td>\n",
       "      <td>0.0</td>\n",
       "      <td>0.0</td>\n",
       "      <td>0.0</td>\n",
       "      <td>0.0</td>\n",
       "      <td>1.0</td>\n",
       "    </tr>\n",
       "    <tr>\n",
       "      <th>4</th>\n",
       "      <td>60.0</td>\n",
       "      <td>1.017408</td>\n",
       "      <td>3.0</td>\n",
       "      <td>0.0</td>\n",
       "      <td>125.0</td>\n",
       "      <td>21.000000</td>\n",
       "      <td>1.300000</td>\n",
       "      <td>137.000000</td>\n",
       "      <td>3.400000</td>\n",
       "      <td>15.000000</td>\n",
       "      <td>...</td>\n",
       "      <td>1.0</td>\n",
       "      <td>1.0</td>\n",
       "      <td>0.0</td>\n",
       "      <td>0.0</td>\n",
       "      <td>1.0</td>\n",
       "      <td>1.0</td>\n",
       "      <td>0.0</td>\n",
       "      <td>1.0</td>\n",
       "      <td>0.0</td>\n",
       "      <td>1.0</td>\n",
       "    </tr>\n",
       "    <tr>\n",
       "      <th>...</th>\n",
       "      <td>...</td>\n",
       "      <td>...</td>\n",
       "      <td>...</td>\n",
       "      <td>...</td>\n",
       "      <td>...</td>\n",
       "      <td>...</td>\n",
       "      <td>...</td>\n",
       "      <td>...</td>\n",
       "      <td>...</td>\n",
       "      <td>...</td>\n",
       "      <td>...</td>\n",
       "      <td>...</td>\n",
       "      <td>...</td>\n",
       "      <td>...</td>\n",
       "      <td>...</td>\n",
       "      <td>...</td>\n",
       "      <td>...</td>\n",
       "      <td>...</td>\n",
       "      <td>...</td>\n",
       "      <td>...</td>\n",
       "      <td>...</td>\n",
       "    </tr>\n",
       "    <tr>\n",
       "      <th>75</th>\n",
       "      <td>70.0</td>\n",
       "      <td>1.020000</td>\n",
       "      <td>3.0</td>\n",
       "      <td>0.0</td>\n",
       "      <td>123.0</td>\n",
       "      <td>40.000000</td>\n",
       "      <td>1.800000</td>\n",
       "      <td>137.528754</td>\n",
       "      <td>4.627244</td>\n",
       "      <td>11.100000</td>\n",
       "      <td>...</td>\n",
       "      <td>0.0</td>\n",
       "      <td>1.0</td>\n",
       "      <td>1.0</td>\n",
       "      <td>1.0</td>\n",
       "      <td>0.0</td>\n",
       "      <td>0.0</td>\n",
       "      <td>0.0</td>\n",
       "      <td>0.0</td>\n",
       "      <td>0.0</td>\n",
       "      <td>1.0</td>\n",
       "    </tr>\n",
       "    <tr>\n",
       "      <th>76</th>\n",
       "      <td>60.0</td>\n",
       "      <td>1.010000</td>\n",
       "      <td>2.0</td>\n",
       "      <td>0.0</td>\n",
       "      <td>192.0</td>\n",
       "      <td>17.000000</td>\n",
       "      <td>1.700000</td>\n",
       "      <td>130.000000</td>\n",
       "      <td>4.300000</td>\n",
       "      <td>12.526437</td>\n",
       "      <td>...</td>\n",
       "      <td>1.0</td>\n",
       "      <td>0.0</td>\n",
       "      <td>1.0</td>\n",
       "      <td>0.0</td>\n",
       "      <td>1.0</td>\n",
       "      <td>1.0</td>\n",
       "      <td>0.0</td>\n",
       "      <td>0.0</td>\n",
       "      <td>0.0</td>\n",
       "      <td>0.0</td>\n",
       "    </tr>\n",
       "    <tr>\n",
       "      <th>77</th>\n",
       "      <td>80.0</td>\n",
       "      <td>1.025000</td>\n",
       "      <td>0.0</td>\n",
       "      <td>0.0</td>\n",
       "      <td>89.0</td>\n",
       "      <td>19.000000</td>\n",
       "      <td>1.100000</td>\n",
       "      <td>144.000000</td>\n",
       "      <td>5.000000</td>\n",
       "      <td>15.000000</td>\n",
       "      <td>...</td>\n",
       "      <td>1.0</td>\n",
       "      <td>1.0</td>\n",
       "      <td>0.0</td>\n",
       "      <td>0.0</td>\n",
       "      <td>0.0</td>\n",
       "      <td>0.0</td>\n",
       "      <td>0.0</td>\n",
       "      <td>0.0</td>\n",
       "      <td>0.0</td>\n",
       "      <td>1.0</td>\n",
       "    </tr>\n",
       "    <tr>\n",
       "      <th>78</th>\n",
       "      <td>100.0</td>\n",
       "      <td>1.015000</td>\n",
       "      <td>4.0</td>\n",
       "      <td>2.0</td>\n",
       "      <td>163.0</td>\n",
       "      <td>54.000000</td>\n",
       "      <td>7.200000</td>\n",
       "      <td>140.000000</td>\n",
       "      <td>4.600000</td>\n",
       "      <td>7.900000</td>\n",
       "      <td>...</td>\n",
       "      <td>0.0</td>\n",
       "      <td>0.0</td>\n",
       "      <td>0.0</td>\n",
       "      <td>1.0</td>\n",
       "      <td>1.0</td>\n",
       "      <td>1.0</td>\n",
       "      <td>0.0</td>\n",
       "      <td>1.0</td>\n",
       "      <td>0.0</td>\n",
       "      <td>1.0</td>\n",
       "    </tr>\n",
       "    <tr>\n",
       "      <th>79</th>\n",
       "      <td>70.0</td>\n",
       "      <td>1.015000</td>\n",
       "      <td>2.0</td>\n",
       "      <td>0.0</td>\n",
       "      <td>226.0</td>\n",
       "      <td>217.000000</td>\n",
       "      <td>10.200000</td>\n",
       "      <td>137.528754</td>\n",
       "      <td>4.627244</td>\n",
       "      <td>10.200000</td>\n",
       "      <td>...</td>\n",
       "      <td>1.0</td>\n",
       "      <td>0.0</td>\n",
       "      <td>1.0</td>\n",
       "      <td>0.0</td>\n",
       "      <td>1.0</td>\n",
       "      <td>0.0</td>\n",
       "      <td>0.0</td>\n",
       "      <td>1.0</td>\n",
       "      <td>1.0</td>\n",
       "      <td>0.0</td>\n",
       "    </tr>\n",
       "  </tbody>\n",
       "</table>\n",
       "<p>80 rows × 23 columns</p>\n",
       "</div>"
      ],
      "text/plain": [
       "       bp        sg   al   su    bgr          bu         sc         sod  \\\n",
       "0    90.0  1.017408  0.0  0.0   84.0  145.000000   7.100000  135.000000   \n",
       "1    70.0  1.010000  0.0  0.0  121.0   57.425722   3.072454  137.528754   \n",
       "2    60.0  1.020000  0.0  0.0  113.0   23.000000   1.100000  139.000000   \n",
       "3    60.0  1.025000  0.0  0.0   96.0   33.000000   0.900000  147.000000   \n",
       "4    60.0  1.017408  3.0  0.0  125.0   21.000000   1.300000  137.000000   \n",
       "..    ...       ...  ...  ...    ...         ...        ...         ...   \n",
       "75   70.0  1.020000  3.0  0.0  123.0   40.000000   1.800000  137.528754   \n",
       "76   60.0  1.010000  2.0  0.0  192.0   17.000000   1.700000  130.000000   \n",
       "77   80.0  1.025000  0.0  0.0   89.0   19.000000   1.100000  144.000000   \n",
       "78  100.0  1.015000  4.0  2.0  163.0   54.000000   7.200000  140.000000   \n",
       "79   70.0  1.015000  2.0  0.0  226.0  217.000000  10.200000  137.528754   \n",
       "\n",
       "         pot       hemo  ...  rbc_normal  pc_normal  pcc_present  ba_present  \\\n",
       "0   5.300000  12.526437  ...         1.0        1.0          0.0         0.0   \n",
       "1   4.627244  12.526437  ...         1.0        1.0          0.0         0.0   \n",
       "2   3.500000  15.300000  ...         1.0        1.0          0.0         0.0   \n",
       "3   4.500000  16.900000  ...         1.0        1.0          0.0         0.0   \n",
       "4   3.400000  15.000000  ...         1.0        1.0          0.0         0.0   \n",
       "..       ...        ...  ...         ...        ...          ...         ...   \n",
       "75  4.627244  11.100000  ...         0.0        1.0          1.0         1.0   \n",
       "76  4.300000  12.526437  ...         1.0        0.0          1.0         0.0   \n",
       "77  5.000000  15.000000  ...         1.0        1.0          0.0         0.0   \n",
       "78  4.600000   7.900000  ...         0.0        0.0          0.0         1.0   \n",
       "79  4.627244  10.200000  ...         1.0        0.0          1.0         0.0   \n",
       "\n",
       "    htn_yes  dm_yes  cad_yes  pe_yes  ane_yes  appet  \n",
       "0       0.0     1.0      0.0     0.0      0.0    1.0  \n",
       "1       0.0     0.0      0.0     0.0      1.0    0.0  \n",
       "2       0.0     0.0      0.0     0.0      0.0    1.0  \n",
       "3       0.0     0.0      0.0     0.0      0.0    1.0  \n",
       "4       1.0     1.0      0.0     1.0      0.0    1.0  \n",
       "..      ...     ...      ...     ...      ...    ...  \n",
       "75      0.0     0.0      0.0     0.0      0.0    1.0  \n",
       "76      1.0     1.0      0.0     0.0      0.0    0.0  \n",
       "77      0.0     0.0      0.0     0.0      0.0    1.0  \n",
       "78      1.0     1.0      0.0     1.0      0.0    1.0  \n",
       "79      1.0     0.0      0.0     1.0      1.0    0.0  \n",
       "\n",
       "[80 rows x 23 columns]"
      ]
     },
     "execution_count": 109,
     "metadata": {},
     "output_type": "execute_result"
    }
   ],
   "source": [
    "X_test_encoded"
   ]
  },
  {
   "cell_type": "code",
   "execution_count": 110,
   "id": "6b9966c0",
   "metadata": {},
   "outputs": [
    {
     "data": {
      "text/plain": [
       "370    notckd\n",
       "224       ckd\n",
       "86        ckd\n",
       "355    notckd\n",
       "67        ckd\n",
       "        ...  \n",
       "246       ckd\n",
       "329    notckd\n",
       "176       ckd\n",
       "46        ckd\n",
       "34        ckd\n",
       "Name: classification, Length: 320, dtype: object"
      ]
     },
     "execution_count": 110,
     "metadata": {},
     "output_type": "execute_result"
    }
   ],
   "source": [
    "y_train"
   ]
  },
  {
   "cell_type": "code",
   "execution_count": 111,
   "id": "00774e77",
   "metadata": {},
   "outputs": [],
   "source": [
    "from sklearn.preprocessing import LabelEncoder\n",
    "label_encoder = LabelEncoder()\n",
    "label_encoder.fit(y_train)\n",
    "y_train_encoded = label_encoder.transform(y_train)\n",
    "y_test_encoded = label_encoder.transform(y_test)"
   ]
  },
  {
   "cell_type": "code",
   "execution_count": 112,
   "id": "55ccfcd3",
   "metadata": {},
   "outputs": [
    {
     "data": {
      "text/plain": [
       "array(['ckd', 'notckd'], dtype=object)"
      ]
     },
     "execution_count": 112,
     "metadata": {},
     "output_type": "execute_result"
    }
   ],
   "source": [
    "label_encoder.classes_"
   ]
  },
  {
   "cell_type": "code",
   "execution_count": 113,
   "id": "93968e6c",
   "metadata": {},
   "outputs": [
    {
     "data": {
      "text/html": [
       "<div>\n",
       "<style scoped>\n",
       "    .dataframe tbody tr th:only-of-type {\n",
       "        vertical-align: middle;\n",
       "    }\n",
       "\n",
       "    .dataframe tbody tr th {\n",
       "        vertical-align: top;\n",
       "    }\n",
       "\n",
       "    .dataframe thead th {\n",
       "        text-align: right;\n",
       "    }\n",
       "</style>\n",
       "<table border=\"1\" class=\"dataframe\">\n",
       "  <thead>\n",
       "    <tr style=\"text-align: right;\">\n",
       "      <th></th>\n",
       "      <th>bp</th>\n",
       "      <th>sg</th>\n",
       "      <th>al</th>\n",
       "      <th>su</th>\n",
       "      <th>bgr</th>\n",
       "      <th>bu</th>\n",
       "      <th>sc</th>\n",
       "      <th>sod</th>\n",
       "      <th>pot</th>\n",
       "      <th>hemo</th>\n",
       "      <th>...</th>\n",
       "      <th>rbc_normal</th>\n",
       "      <th>pc_normal</th>\n",
       "      <th>pcc_present</th>\n",
       "      <th>ba_present</th>\n",
       "      <th>htn_yes</th>\n",
       "      <th>dm_yes</th>\n",
       "      <th>cad_yes</th>\n",
       "      <th>pe_yes</th>\n",
       "      <th>ane_yes</th>\n",
       "      <th>appet</th>\n",
       "    </tr>\n",
       "  </thead>\n",
       "  <tbody>\n",
       "    <tr>\n",
       "      <th>count</th>\n",
       "      <td>320.000000</td>\n",
       "      <td>320.000000</td>\n",
       "      <td>320.000000</td>\n",
       "      <td>320.000000</td>\n",
       "      <td>320.000000</td>\n",
       "      <td>320.000000</td>\n",
       "      <td>320.000000</td>\n",
       "      <td>320.000000</td>\n",
       "      <td>320.000000</td>\n",
       "      <td>320.000000</td>\n",
       "      <td>...</td>\n",
       "      <td>320.000000</td>\n",
       "      <td>320.000000</td>\n",
       "      <td>320.000000</td>\n",
       "      <td>320.000000</td>\n",
       "      <td>320.000000</td>\n",
       "      <td>320.000000</td>\n",
       "      <td>320.000000</td>\n",
       "      <td>320.000000</td>\n",
       "      <td>320.000000</td>\n",
       "      <td>320.000000</td>\n",
       "    </tr>\n",
       "    <tr>\n",
       "      <th>mean</th>\n",
       "      <td>76.781250</td>\n",
       "      <td>1.017395</td>\n",
       "      <td>0.909375</td>\n",
       "      <td>0.409375</td>\n",
       "      <td>144.493750</td>\n",
       "      <td>58.450500</td>\n",
       "      <td>3.012787</td>\n",
       "      <td>137.382493</td>\n",
       "      <td>4.668204</td>\n",
       "      <td>12.452680</td>\n",
       "      <td>...</td>\n",
       "      <td>0.890625</td>\n",
       "      <td>0.796875</td>\n",
       "      <td>0.109375</td>\n",
       "      <td>0.053125</td>\n",
       "      <td>0.371875</td>\n",
       "      <td>0.343750</td>\n",
       "      <td>0.093750</td>\n",
       "      <td>0.209375</td>\n",
       "      <td>0.156250</td>\n",
       "      <td>0.784375</td>\n",
       "    </tr>\n",
       "    <tr>\n",
       "      <th>std</th>\n",
       "      <td>13.803898</td>\n",
       "      <td>0.005373</td>\n",
       "      <td>1.303927</td>\n",
       "      <td>1.055471</td>\n",
       "      <td>75.247804</td>\n",
       "      <td>51.415228</td>\n",
       "      <td>5.540472</td>\n",
       "      <td>9.870619</td>\n",
       "      <td>3.135119</td>\n",
       "      <td>2.794863</td>\n",
       "      <td>...</td>\n",
       "      <td>0.312598</td>\n",
       "      <td>0.402955</td>\n",
       "      <td>0.312598</td>\n",
       "      <td>0.224634</td>\n",
       "      <td>0.484062</td>\n",
       "      <td>0.475703</td>\n",
       "      <td>0.291937</td>\n",
       "      <td>0.407500</td>\n",
       "      <td>0.363661</td>\n",
       "      <td>0.411899</td>\n",
       "    </tr>\n",
       "    <tr>\n",
       "      <th>min</th>\n",
       "      <td>50.000000</td>\n",
       "      <td>1.005000</td>\n",
       "      <td>0.000000</td>\n",
       "      <td>0.000000</td>\n",
       "      <td>22.000000</td>\n",
       "      <td>1.500000</td>\n",
       "      <td>0.400000</td>\n",
       "      <td>4.500000</td>\n",
       "      <td>2.700000</td>\n",
       "      <td>3.100000</td>\n",
       "      <td>...</td>\n",
       "      <td>0.000000</td>\n",
       "      <td>0.000000</td>\n",
       "      <td>0.000000</td>\n",
       "      <td>0.000000</td>\n",
       "      <td>0.000000</td>\n",
       "      <td>0.000000</td>\n",
       "      <td>0.000000</td>\n",
       "      <td>0.000000</td>\n",
       "      <td>0.000000</td>\n",
       "      <td>0.000000</td>\n",
       "    </tr>\n",
       "    <tr>\n",
       "      <th>25%</th>\n",
       "      <td>70.000000</td>\n",
       "      <td>1.015000</td>\n",
       "      <td>0.000000</td>\n",
       "      <td>0.000000</td>\n",
       "      <td>100.750000</td>\n",
       "      <td>27.750000</td>\n",
       "      <td>0.900000</td>\n",
       "      <td>135.000000</td>\n",
       "      <td>4.000000</td>\n",
       "      <td>10.625000</td>\n",
       "      <td>...</td>\n",
       "      <td>1.000000</td>\n",
       "      <td>1.000000</td>\n",
       "      <td>0.000000</td>\n",
       "      <td>0.000000</td>\n",
       "      <td>0.000000</td>\n",
       "      <td>0.000000</td>\n",
       "      <td>0.000000</td>\n",
       "      <td>0.000000</td>\n",
       "      <td>0.000000</td>\n",
       "      <td>1.000000</td>\n",
       "    </tr>\n",
       "    <tr>\n",
       "      <th>50%</th>\n",
       "      <td>80.000000</td>\n",
       "      <td>1.017408</td>\n",
       "      <td>0.000000</td>\n",
       "      <td>0.000000</td>\n",
       "      <td>121.000000</td>\n",
       "      <td>45.000000</td>\n",
       "      <td>1.400000</td>\n",
       "      <td>137.528754</td>\n",
       "      <td>4.627244</td>\n",
       "      <td>12.526437</td>\n",
       "      <td>...</td>\n",
       "      <td>1.000000</td>\n",
       "      <td>1.000000</td>\n",
       "      <td>0.000000</td>\n",
       "      <td>0.000000</td>\n",
       "      <td>0.000000</td>\n",
       "      <td>0.000000</td>\n",
       "      <td>0.000000</td>\n",
       "      <td>0.000000</td>\n",
       "      <td>0.000000</td>\n",
       "      <td>1.000000</td>\n",
       "    </tr>\n",
       "    <tr>\n",
       "      <th>75%</th>\n",
       "      <td>80.000000</td>\n",
       "      <td>1.020000</td>\n",
       "      <td>2.000000</td>\n",
       "      <td>0.000000</td>\n",
       "      <td>150.750000</td>\n",
       "      <td>64.250000</td>\n",
       "      <td>3.072454</td>\n",
       "      <td>141.000000</td>\n",
       "      <td>4.800000</td>\n",
       "      <td>14.525000</td>\n",
       "      <td>...</td>\n",
       "      <td>1.000000</td>\n",
       "      <td>1.000000</td>\n",
       "      <td>0.000000</td>\n",
       "      <td>0.000000</td>\n",
       "      <td>1.000000</td>\n",
       "      <td>1.000000</td>\n",
       "      <td>0.000000</td>\n",
       "      <td>0.000000</td>\n",
       "      <td>0.000000</td>\n",
       "      <td>1.000000</td>\n",
       "    </tr>\n",
       "    <tr>\n",
       "      <th>max</th>\n",
       "      <td>180.000000</td>\n",
       "      <td>1.025000</td>\n",
       "      <td>5.000000</td>\n",
       "      <td>5.000000</td>\n",
       "      <td>490.000000</td>\n",
       "      <td>391.000000</td>\n",
       "      <td>76.000000</td>\n",
       "      <td>163.000000</td>\n",
       "      <td>47.000000</td>\n",
       "      <td>17.800000</td>\n",
       "      <td>...</td>\n",
       "      <td>1.000000</td>\n",
       "      <td>1.000000</td>\n",
       "      <td>1.000000</td>\n",
       "      <td>1.000000</td>\n",
       "      <td>1.000000</td>\n",
       "      <td>1.000000</td>\n",
       "      <td>1.000000</td>\n",
       "      <td>1.000000</td>\n",
       "      <td>1.000000</td>\n",
       "      <td>1.000000</td>\n",
       "    </tr>\n",
       "  </tbody>\n",
       "</table>\n",
       "<p>8 rows × 23 columns</p>\n",
       "</div>"
      ],
      "text/plain": [
       "               bp          sg          al          su         bgr          bu  \\\n",
       "count  320.000000  320.000000  320.000000  320.000000  320.000000  320.000000   \n",
       "mean    76.781250    1.017395    0.909375    0.409375  144.493750   58.450500   \n",
       "std     13.803898    0.005373    1.303927    1.055471   75.247804   51.415228   \n",
       "min     50.000000    1.005000    0.000000    0.000000   22.000000    1.500000   \n",
       "25%     70.000000    1.015000    0.000000    0.000000  100.750000   27.750000   \n",
       "50%     80.000000    1.017408    0.000000    0.000000  121.000000   45.000000   \n",
       "75%     80.000000    1.020000    2.000000    0.000000  150.750000   64.250000   \n",
       "max    180.000000    1.025000    5.000000    5.000000  490.000000  391.000000   \n",
       "\n",
       "               sc         sod         pot        hemo  ...  rbc_normal  \\\n",
       "count  320.000000  320.000000  320.000000  320.000000  ...  320.000000   \n",
       "mean     3.012787  137.382493    4.668204   12.452680  ...    0.890625   \n",
       "std      5.540472    9.870619    3.135119    2.794863  ...    0.312598   \n",
       "min      0.400000    4.500000    2.700000    3.100000  ...    0.000000   \n",
       "25%      0.900000  135.000000    4.000000   10.625000  ...    1.000000   \n",
       "50%      1.400000  137.528754    4.627244   12.526437  ...    1.000000   \n",
       "75%      3.072454  141.000000    4.800000   14.525000  ...    1.000000   \n",
       "max     76.000000  163.000000   47.000000   17.800000  ...    1.000000   \n",
       "\n",
       "        pc_normal  pcc_present  ba_present     htn_yes      dm_yes  \\\n",
       "count  320.000000   320.000000  320.000000  320.000000  320.000000   \n",
       "mean     0.796875     0.109375    0.053125    0.371875    0.343750   \n",
       "std      0.402955     0.312598    0.224634    0.484062    0.475703   \n",
       "min      0.000000     0.000000    0.000000    0.000000    0.000000   \n",
       "25%      1.000000     0.000000    0.000000    0.000000    0.000000   \n",
       "50%      1.000000     0.000000    0.000000    0.000000    0.000000   \n",
       "75%      1.000000     0.000000    0.000000    1.000000    1.000000   \n",
       "max      1.000000     1.000000    1.000000    1.000000    1.000000   \n",
       "\n",
       "          cad_yes      pe_yes     ane_yes       appet  \n",
       "count  320.000000  320.000000  320.000000  320.000000  \n",
       "mean     0.093750    0.209375    0.156250    0.784375  \n",
       "std      0.291937    0.407500    0.363661    0.411899  \n",
       "min      0.000000    0.000000    0.000000    0.000000  \n",
       "25%      0.000000    0.000000    0.000000    1.000000  \n",
       "50%      0.000000    0.000000    0.000000    1.000000  \n",
       "75%      0.000000    0.000000    0.000000    1.000000  \n",
       "max      1.000000    1.000000    1.000000    1.000000  \n",
       "\n",
       "[8 rows x 23 columns]"
      ]
     },
     "execution_count": 113,
     "metadata": {},
     "output_type": "execute_result"
    }
   ],
   "source": [
    "# describe() before scaling\n",
    "X_train_encoded.describe()"
   ]
  },
  {
   "cell_type": "code",
   "execution_count": 114,
   "id": "b6123a11",
   "metadata": {},
   "outputs": [],
   "source": [
    "from sklearn.preprocessing import StandardScaler\n",
    "std_scaler = StandardScaler()\n",
    "std_scaler.fit(X_train_encoded)\n",
    "\n",
    "X_train_scaled = pd.DataFrame(std_scaler.transform(X_train_encoded),\n",
    "                              columns=X_train_encoded.columns)\n",
    "\n",
    "X_test_scaled = pd.DataFrame(std_scaler.transform(X_test_encoded),\n",
    "                             columns= X_test_encoded.columns)"
   ]
  },
  {
   "cell_type": "code",
   "execution_count": 115,
   "id": "4656d2a4",
   "metadata": {},
   "outputs": [
    {
     "data": {
      "text/html": [
       "<div>\n",
       "<style scoped>\n",
       "    .dataframe tbody tr th:only-of-type {\n",
       "        vertical-align: middle;\n",
       "    }\n",
       "\n",
       "    .dataframe tbody tr th {\n",
       "        vertical-align: top;\n",
       "    }\n",
       "\n",
       "    .dataframe thead th {\n",
       "        text-align: right;\n",
       "    }\n",
       "</style>\n",
       "<table border=\"1\" class=\"dataframe\">\n",
       "  <thead>\n",
       "    <tr style=\"text-align: right;\">\n",
       "      <th></th>\n",
       "      <th>bp</th>\n",
       "      <th>sg</th>\n",
       "      <th>al</th>\n",
       "      <th>su</th>\n",
       "      <th>bgr</th>\n",
       "      <th>bu</th>\n",
       "      <th>sc</th>\n",
       "      <th>sod</th>\n",
       "      <th>pot</th>\n",
       "      <th>hemo</th>\n",
       "      <th>...</th>\n",
       "      <th>rbc_normal</th>\n",
       "      <th>pc_normal</th>\n",
       "      <th>pcc_present</th>\n",
       "      <th>ba_present</th>\n",
       "      <th>htn_yes</th>\n",
       "      <th>dm_yes</th>\n",
       "      <th>cad_yes</th>\n",
       "      <th>pe_yes</th>\n",
       "      <th>ane_yes</th>\n",
       "      <th>appet</th>\n",
       "    </tr>\n",
       "  </thead>\n",
       "  <tbody>\n",
       "    <tr>\n",
       "      <th>0</th>\n",
       "      <td>-0.492026</td>\n",
       "      <td>0.485530</td>\n",
       "      <td>-0.698505</td>\n",
       "      <td>-0.388468</td>\n",
       "      <td>-0.818496</td>\n",
       "      <td>-0.320455</td>\n",
       "      <td>-0.327702</td>\n",
       "      <td>0.164128</td>\n",
       "      <td>-0.309309</td>\n",
       "      <td>1.342889</td>\n",
       "      <td>...</td>\n",
       "      <td>0.350438</td>\n",
       "      <td>0.504878</td>\n",
       "      <td>-0.350438</td>\n",
       "      <td>-0.236866</td>\n",
       "      <td>-0.769441</td>\n",
       "      <td>-0.723747</td>\n",
       "      <td>-0.321634</td>\n",
       "      <td>-0.514609</td>\n",
       "      <td>-0.430331</td>\n",
       "      <td>0.524309</td>\n",
       "    </tr>\n",
       "    <tr>\n",
       "      <th>1</th>\n",
       "      <td>-1.217593</td>\n",
       "      <td>0.485530</td>\n",
       "      <td>-0.698505</td>\n",
       "      <td>-0.388468</td>\n",
       "      <td>-0.365948</td>\n",
       "      <td>-0.593174</td>\n",
       "      <td>-0.146930</td>\n",
       "      <td>0.062658</td>\n",
       "      <td>-0.277362</td>\n",
       "      <td>0.026432</td>\n",
       "      <td>...</td>\n",
       "      <td>0.350438</td>\n",
       "      <td>0.504878</td>\n",
       "      <td>-0.350438</td>\n",
       "      <td>-0.236866</td>\n",
       "      <td>-0.769441</td>\n",
       "      <td>-0.723747</td>\n",
       "      <td>-0.321634</td>\n",
       "      <td>1.943224</td>\n",
       "      <td>-0.430331</td>\n",
       "      <td>0.524309</td>\n",
       "    </tr>\n",
       "    <tr>\n",
       "      <th>2</th>\n",
       "      <td>0.233542</td>\n",
       "      <td>0.002352</td>\n",
       "      <td>-0.698505</td>\n",
       "      <td>-0.388468</td>\n",
       "      <td>3.600503</td>\n",
       "      <td>-0.417855</td>\n",
       "      <td>-0.201162</td>\n",
       "      <td>0.014841</td>\n",
       "      <td>-0.013086</td>\n",
       "      <td>0.026432</td>\n",
       "      <td>...</td>\n",
       "      <td>0.350438</td>\n",
       "      <td>0.504878</td>\n",
       "      <td>-0.350438</td>\n",
       "      <td>-0.236866</td>\n",
       "      <td>-0.769441</td>\n",
       "      <td>1.381699</td>\n",
       "      <td>-0.321634</td>\n",
       "      <td>-0.514609</td>\n",
       "      <td>-0.430331</td>\n",
       "      <td>0.524309</td>\n",
       "    </tr>\n",
       "    <tr>\n",
       "      <th>3</th>\n",
       "      <td>-1.217593</td>\n",
       "      <td>0.485530</td>\n",
       "      <td>-0.698505</td>\n",
       "      <td>-0.388468</td>\n",
       "      <td>-0.658774</td>\n",
       "      <td>-0.671094</td>\n",
       "      <td>-0.400012</td>\n",
       "      <td>0.772944</td>\n",
       "      <td>0.105998</td>\n",
       "      <td>0.912857</td>\n",
       "      <td>...</td>\n",
       "      <td>0.350438</td>\n",
       "      <td>0.504878</td>\n",
       "      <td>-0.350438</td>\n",
       "      <td>-0.236866</td>\n",
       "      <td>-0.769441</td>\n",
       "      <td>-0.723747</td>\n",
       "      <td>-0.321634</td>\n",
       "      <td>-0.514609</td>\n",
       "      <td>-0.430331</td>\n",
       "      <td>0.524309</td>\n",
       "    </tr>\n",
       "    <tr>\n",
       "      <th>4</th>\n",
       "      <td>0.233542</td>\n",
       "      <td>0.485530</td>\n",
       "      <td>1.605841</td>\n",
       "      <td>-0.388468</td>\n",
       "      <td>3.733605</td>\n",
       "      <td>-0.019963</td>\n",
       "      <td>0.010786</td>\n",
       "      <td>0.014841</td>\n",
       "      <td>-0.013086</td>\n",
       "      <td>0.026432</td>\n",
       "      <td>...</td>\n",
       "      <td>0.350438</td>\n",
       "      <td>-1.980676</td>\n",
       "      <td>-0.350438</td>\n",
       "      <td>-0.236866</td>\n",
       "      <td>-0.769441</td>\n",
       "      <td>-0.723747</td>\n",
       "      <td>-0.321634</td>\n",
       "      <td>-0.514609</td>\n",
       "      <td>-0.430331</td>\n",
       "      <td>-1.907271</td>\n",
       "    </tr>\n",
       "    <tr>\n",
       "      <th>...</th>\n",
       "      <td>...</td>\n",
       "      <td>...</td>\n",
       "      <td>...</td>\n",
       "      <td>...</td>\n",
       "      <td>...</td>\n",
       "      <td>...</td>\n",
       "      <td>...</td>\n",
       "      <td>...</td>\n",
       "      <td>...</td>\n",
       "      <td>...</td>\n",
       "      <td>...</td>\n",
       "      <td>...</td>\n",
       "      <td>...</td>\n",
       "      <td>...</td>\n",
       "      <td>...</td>\n",
       "      <td>...</td>\n",
       "      <td>...</td>\n",
       "      <td>...</td>\n",
       "      <td>...</td>\n",
       "      <td>...</td>\n",
       "      <td>...</td>\n",
       "    </tr>\n",
       "    <tr>\n",
       "      <th>315</th>\n",
       "      <td>2.410245</td>\n",
       "      <td>-0.446503</td>\n",
       "      <td>1.605841</td>\n",
       "      <td>-0.388468</td>\n",
       "      <td>-0.512361</td>\n",
       "      <td>3.049577</td>\n",
       "      <td>2.203116</td>\n",
       "      <td>-1.763792</td>\n",
       "      <td>0.329624</td>\n",
       "      <td>-1.380645</td>\n",
       "      <td>...</td>\n",
       "      <td>-2.853569</td>\n",
       "      <td>0.504878</td>\n",
       "      <td>2.853569</td>\n",
       "      <td>-0.236866</td>\n",
       "      <td>1.299644</td>\n",
       "      <td>-0.723747</td>\n",
       "      <td>3.109126</td>\n",
       "      <td>-0.514609</td>\n",
       "      <td>2.323790</td>\n",
       "      <td>0.524309</td>\n",
       "    </tr>\n",
       "    <tr>\n",
       "      <th>316</th>\n",
       "      <td>-1.217593</td>\n",
       "      <td>1.417563</td>\n",
       "      <td>-0.698505</td>\n",
       "      <td>-0.388468</td>\n",
       "      <td>-0.858427</td>\n",
       "      <td>-0.651614</td>\n",
       "      <td>-0.381934</td>\n",
       "      <td>0.874414</td>\n",
       "      <td>-0.373202</td>\n",
       "      <td>0.590333</td>\n",
       "      <td>...</td>\n",
       "      <td>0.350438</td>\n",
       "      <td>0.504878</td>\n",
       "      <td>-0.350438</td>\n",
       "      <td>-0.236866</td>\n",
       "      <td>-0.769441</td>\n",
       "      <td>-0.723747</td>\n",
       "      <td>-0.321634</td>\n",
       "      <td>-0.514609</td>\n",
       "      <td>-0.430331</td>\n",
       "      <td>0.524309</td>\n",
       "    </tr>\n",
       "    <tr>\n",
       "      <th>317</th>\n",
       "      <td>0.959110</td>\n",
       "      <td>-1.378536</td>\n",
       "      <td>2.373956</td>\n",
       "      <td>-0.388468</td>\n",
       "      <td>-0.499051</td>\n",
       "      <td>-0.359415</td>\n",
       "      <td>-0.237316</td>\n",
       "      <td>-1.256445</td>\n",
       "      <td>-0.373202</td>\n",
       "      <td>-1.488153</td>\n",
       "      <td>...</td>\n",
       "      <td>0.350438</td>\n",
       "      <td>-1.980676</td>\n",
       "      <td>2.853569</td>\n",
       "      <td>4.221792</td>\n",
       "      <td>-0.769441</td>\n",
       "      <td>-0.723747</td>\n",
       "      <td>-0.321634</td>\n",
       "      <td>-0.514609</td>\n",
       "      <td>2.323790</td>\n",
       "      <td>0.524309</td>\n",
       "    </tr>\n",
       "    <tr>\n",
       "      <th>318</th>\n",
       "      <td>-0.492026</td>\n",
       "      <td>-0.446503</td>\n",
       "      <td>-0.698505</td>\n",
       "      <td>-0.388468</td>\n",
       "      <td>-0.272777</td>\n",
       "      <td>-0.671094</td>\n",
       "      <td>-0.327702</td>\n",
       "      <td>0.468536</td>\n",
       "      <td>-0.149576</td>\n",
       "      <td>-0.018878</td>\n",
       "      <td>...</td>\n",
       "      <td>0.350438</td>\n",
       "      <td>0.504878</td>\n",
       "      <td>-0.350438</td>\n",
       "      <td>-0.236866</td>\n",
       "      <td>-0.769441</td>\n",
       "      <td>1.381699</td>\n",
       "      <td>-0.321634</td>\n",
       "      <td>-0.514609</td>\n",
       "      <td>-0.430331</td>\n",
       "      <td>0.524309</td>\n",
       "    </tr>\n",
       "    <tr>\n",
       "      <th>319</th>\n",
       "      <td>-0.492026</td>\n",
       "      <td>-1.378536</td>\n",
       "      <td>0.069610</td>\n",
       "      <td>-0.388468</td>\n",
       "      <td>0.352804</td>\n",
       "      <td>1.841820</td>\n",
       "      <td>0.395388</td>\n",
       "      <td>0.014841</td>\n",
       "      <td>-0.013086</td>\n",
       "      <td>0.026432</td>\n",
       "      <td>...</td>\n",
       "      <td>0.350438</td>\n",
       "      <td>0.504878</td>\n",
       "      <td>2.853569</td>\n",
       "      <td>4.221792</td>\n",
       "      <td>-0.769441</td>\n",
       "      <td>1.381699</td>\n",
       "      <td>-0.321634</td>\n",
       "      <td>-0.514609</td>\n",
       "      <td>-0.430331</td>\n",
       "      <td>-1.907271</td>\n",
       "    </tr>\n",
       "  </tbody>\n",
       "</table>\n",
       "<p>320 rows × 23 columns</p>\n",
       "</div>"
      ],
      "text/plain": [
       "           bp        sg        al        su       bgr        bu        sc  \\\n",
       "0   -0.492026  0.485530 -0.698505 -0.388468 -0.818496 -0.320455 -0.327702   \n",
       "1   -1.217593  0.485530 -0.698505 -0.388468 -0.365948 -0.593174 -0.146930   \n",
       "2    0.233542  0.002352 -0.698505 -0.388468  3.600503 -0.417855 -0.201162   \n",
       "3   -1.217593  0.485530 -0.698505 -0.388468 -0.658774 -0.671094 -0.400012   \n",
       "4    0.233542  0.485530  1.605841 -0.388468  3.733605 -0.019963  0.010786   \n",
       "..        ...       ...       ...       ...       ...       ...       ...   \n",
       "315  2.410245 -0.446503  1.605841 -0.388468 -0.512361  3.049577  2.203116   \n",
       "316 -1.217593  1.417563 -0.698505 -0.388468 -0.858427 -0.651614 -0.381934   \n",
       "317  0.959110 -1.378536  2.373956 -0.388468 -0.499051 -0.359415 -0.237316   \n",
       "318 -0.492026 -0.446503 -0.698505 -0.388468 -0.272777 -0.671094 -0.327702   \n",
       "319 -0.492026 -1.378536  0.069610 -0.388468  0.352804  1.841820  0.395388   \n",
       "\n",
       "          sod       pot      hemo  ...  rbc_normal  pc_normal  pcc_present  \\\n",
       "0    0.164128 -0.309309  1.342889  ...    0.350438   0.504878    -0.350438   \n",
       "1    0.062658 -0.277362  0.026432  ...    0.350438   0.504878    -0.350438   \n",
       "2    0.014841 -0.013086  0.026432  ...    0.350438   0.504878    -0.350438   \n",
       "3    0.772944  0.105998  0.912857  ...    0.350438   0.504878    -0.350438   \n",
       "4    0.014841 -0.013086  0.026432  ...    0.350438  -1.980676    -0.350438   \n",
       "..        ...       ...       ...  ...         ...        ...          ...   \n",
       "315 -1.763792  0.329624 -1.380645  ...   -2.853569   0.504878     2.853569   \n",
       "316  0.874414 -0.373202  0.590333  ...    0.350438   0.504878    -0.350438   \n",
       "317 -1.256445 -0.373202 -1.488153  ...    0.350438  -1.980676     2.853569   \n",
       "318  0.468536 -0.149576 -0.018878  ...    0.350438   0.504878    -0.350438   \n",
       "319  0.014841 -0.013086  0.026432  ...    0.350438   0.504878     2.853569   \n",
       "\n",
       "     ba_present   htn_yes    dm_yes   cad_yes    pe_yes   ane_yes     appet  \n",
       "0     -0.236866 -0.769441 -0.723747 -0.321634 -0.514609 -0.430331  0.524309  \n",
       "1     -0.236866 -0.769441 -0.723747 -0.321634  1.943224 -0.430331  0.524309  \n",
       "2     -0.236866 -0.769441  1.381699 -0.321634 -0.514609 -0.430331  0.524309  \n",
       "3     -0.236866 -0.769441 -0.723747 -0.321634 -0.514609 -0.430331  0.524309  \n",
       "4     -0.236866 -0.769441 -0.723747 -0.321634 -0.514609 -0.430331 -1.907271  \n",
       "..          ...       ...       ...       ...       ...       ...       ...  \n",
       "315   -0.236866  1.299644 -0.723747  3.109126 -0.514609  2.323790  0.524309  \n",
       "316   -0.236866 -0.769441 -0.723747 -0.321634 -0.514609 -0.430331  0.524309  \n",
       "317    4.221792 -0.769441 -0.723747 -0.321634 -0.514609  2.323790  0.524309  \n",
       "318   -0.236866 -0.769441  1.381699 -0.321634 -0.514609 -0.430331  0.524309  \n",
       "319    4.221792 -0.769441  1.381699 -0.321634 -0.514609 -0.430331 -1.907271  \n",
       "\n",
       "[320 rows x 23 columns]"
      ]
     },
     "execution_count": 115,
     "metadata": {},
     "output_type": "execute_result"
    }
   ],
   "source": [
    "X_train_scaled # X_train after standard scaler"
   ]
  },
  {
   "cell_type": "code",
   "execution_count": 116,
   "id": "6f550e17",
   "metadata": {},
   "outputs": [
    {
     "data": {
      "text/html": [
       "<div>\n",
       "<style scoped>\n",
       "    .dataframe tbody tr th:only-of-type {\n",
       "        vertical-align: middle;\n",
       "    }\n",
       "\n",
       "    .dataframe tbody tr th {\n",
       "        vertical-align: top;\n",
       "    }\n",
       "\n",
       "    .dataframe thead th {\n",
       "        text-align: right;\n",
       "    }\n",
       "</style>\n",
       "<table border=\"1\" class=\"dataframe\">\n",
       "  <thead>\n",
       "    <tr style=\"text-align: right;\">\n",
       "      <th></th>\n",
       "      <th>bp</th>\n",
       "      <th>sg</th>\n",
       "      <th>al</th>\n",
       "      <th>su</th>\n",
       "      <th>bgr</th>\n",
       "      <th>bu</th>\n",
       "      <th>sc</th>\n",
       "      <th>sod</th>\n",
       "      <th>pot</th>\n",
       "      <th>hemo</th>\n",
       "      <th>...</th>\n",
       "      <th>rbc_normal</th>\n",
       "      <th>pc_normal</th>\n",
       "      <th>pcc_present</th>\n",
       "      <th>ba_present</th>\n",
       "      <th>htn_yes</th>\n",
       "      <th>dm_yes</th>\n",
       "      <th>cad_yes</th>\n",
       "      <th>pe_yes</th>\n",
       "      <th>ane_yes</th>\n",
       "      <th>appet</th>\n",
       "    </tr>\n",
       "  </thead>\n",
       "  <tbody>\n",
       "    <tr>\n",
       "      <th>count</th>\n",
       "      <td>320.00</td>\n",
       "      <td>320.00</td>\n",
       "      <td>320.00</td>\n",
       "      <td>320.00</td>\n",
       "      <td>320.00</td>\n",
       "      <td>320.00</td>\n",
       "      <td>320.00</td>\n",
       "      <td>320.00</td>\n",
       "      <td>320.00</td>\n",
       "      <td>320.00</td>\n",
       "      <td>...</td>\n",
       "      <td>320.00</td>\n",
       "      <td>320.00</td>\n",
       "      <td>320.00</td>\n",
       "      <td>320.00</td>\n",
       "      <td>320.00</td>\n",
       "      <td>320.00</td>\n",
       "      <td>320.00</td>\n",
       "      <td>320.00</td>\n",
       "      <td>320.00</td>\n",
       "      <td>320.00</td>\n",
       "    </tr>\n",
       "    <tr>\n",
       "      <th>mean</th>\n",
       "      <td>0.00</td>\n",
       "      <td>-0.00</td>\n",
       "      <td>0.00</td>\n",
       "      <td>-0.00</td>\n",
       "      <td>-0.00</td>\n",
       "      <td>-0.00</td>\n",
       "      <td>0.00</td>\n",
       "      <td>-0.00</td>\n",
       "      <td>0.00</td>\n",
       "      <td>0.00</td>\n",
       "      <td>...</td>\n",
       "      <td>0.00</td>\n",
       "      <td>0.00</td>\n",
       "      <td>-0.00</td>\n",
       "      <td>-0.00</td>\n",
       "      <td>0.00</td>\n",
       "      <td>-0.00</td>\n",
       "      <td>-0.00</td>\n",
       "      <td>0.00</td>\n",
       "      <td>0.00</td>\n",
       "      <td>-0.00</td>\n",
       "    </tr>\n",
       "    <tr>\n",
       "      <th>std</th>\n",
       "      <td>1.00</td>\n",
       "      <td>1.00</td>\n",
       "      <td>1.00</td>\n",
       "      <td>1.00</td>\n",
       "      <td>1.00</td>\n",
       "      <td>1.00</td>\n",
       "      <td>1.00</td>\n",
       "      <td>1.00</td>\n",
       "      <td>1.00</td>\n",
       "      <td>1.00</td>\n",
       "      <td>...</td>\n",
       "      <td>1.00</td>\n",
       "      <td>1.00</td>\n",
       "      <td>1.00</td>\n",
       "      <td>1.00</td>\n",
       "      <td>1.00</td>\n",
       "      <td>1.00</td>\n",
       "      <td>1.00</td>\n",
       "      <td>1.00</td>\n",
       "      <td>1.00</td>\n",
       "      <td>1.00</td>\n",
       "    </tr>\n",
       "    <tr>\n",
       "      <th>min</th>\n",
       "      <td>-1.94</td>\n",
       "      <td>-2.31</td>\n",
       "      <td>-0.70</td>\n",
       "      <td>-0.39</td>\n",
       "      <td>-1.63</td>\n",
       "      <td>-1.11</td>\n",
       "      <td>-0.47</td>\n",
       "      <td>-13.48</td>\n",
       "      <td>-0.63</td>\n",
       "      <td>-3.35</td>\n",
       "      <td>...</td>\n",
       "      <td>-2.85</td>\n",
       "      <td>-1.98</td>\n",
       "      <td>-0.35</td>\n",
       "      <td>-0.24</td>\n",
       "      <td>-0.77</td>\n",
       "      <td>-0.72</td>\n",
       "      <td>-0.32</td>\n",
       "      <td>-0.51</td>\n",
       "      <td>-0.43</td>\n",
       "      <td>-1.91</td>\n",
       "    </tr>\n",
       "    <tr>\n",
       "      <th>25%</th>\n",
       "      <td>-0.49</td>\n",
       "      <td>-0.45</td>\n",
       "      <td>-0.70</td>\n",
       "      <td>-0.39</td>\n",
       "      <td>-0.58</td>\n",
       "      <td>-0.60</td>\n",
       "      <td>-0.38</td>\n",
       "      <td>-0.24</td>\n",
       "      <td>-0.21</td>\n",
       "      <td>-0.65</td>\n",
       "      <td>...</td>\n",
       "      <td>0.35</td>\n",
       "      <td>0.50</td>\n",
       "      <td>-0.35</td>\n",
       "      <td>-0.24</td>\n",
       "      <td>-0.77</td>\n",
       "      <td>-0.72</td>\n",
       "      <td>-0.32</td>\n",
       "      <td>-0.51</td>\n",
       "      <td>-0.43</td>\n",
       "      <td>0.52</td>\n",
       "    </tr>\n",
       "    <tr>\n",
       "      <th>50%</th>\n",
       "      <td>0.23</td>\n",
       "      <td>0.00</td>\n",
       "      <td>-0.70</td>\n",
       "      <td>-0.39</td>\n",
       "      <td>-0.31</td>\n",
       "      <td>-0.26</td>\n",
       "      <td>-0.29</td>\n",
       "      <td>0.01</td>\n",
       "      <td>-0.01</td>\n",
       "      <td>0.03</td>\n",
       "      <td>...</td>\n",
       "      <td>0.35</td>\n",
       "      <td>0.50</td>\n",
       "      <td>-0.35</td>\n",
       "      <td>-0.24</td>\n",
       "      <td>-0.77</td>\n",
       "      <td>-0.72</td>\n",
       "      <td>-0.32</td>\n",
       "      <td>-0.51</td>\n",
       "      <td>-0.43</td>\n",
       "      <td>0.52</td>\n",
       "    </tr>\n",
       "    <tr>\n",
       "      <th>75%</th>\n",
       "      <td>0.23</td>\n",
       "      <td>0.49</td>\n",
       "      <td>0.84</td>\n",
       "      <td>-0.39</td>\n",
       "      <td>0.08</td>\n",
       "      <td>0.11</td>\n",
       "      <td>0.01</td>\n",
       "      <td>0.37</td>\n",
       "      <td>0.04</td>\n",
       "      <td>0.74</td>\n",
       "      <td>...</td>\n",
       "      <td>0.35</td>\n",
       "      <td>0.50</td>\n",
       "      <td>-0.35</td>\n",
       "      <td>-0.24</td>\n",
       "      <td>1.30</td>\n",
       "      <td>1.38</td>\n",
       "      <td>-0.32</td>\n",
       "      <td>-0.51</td>\n",
       "      <td>-0.43</td>\n",
       "      <td>0.52</td>\n",
       "    </tr>\n",
       "    <tr>\n",
       "      <th>max</th>\n",
       "      <td>7.49</td>\n",
       "      <td>1.42</td>\n",
       "      <td>3.14</td>\n",
       "      <td>4.36</td>\n",
       "      <td>4.60</td>\n",
       "      <td>6.48</td>\n",
       "      <td>13.19</td>\n",
       "      <td>2.60</td>\n",
       "      <td>13.52</td>\n",
       "      <td>1.92</td>\n",
       "      <td>...</td>\n",
       "      <td>0.35</td>\n",
       "      <td>0.50</td>\n",
       "      <td>2.85</td>\n",
       "      <td>4.22</td>\n",
       "      <td>1.30</td>\n",
       "      <td>1.38</td>\n",
       "      <td>3.11</td>\n",
       "      <td>1.94</td>\n",
       "      <td>2.32</td>\n",
       "      <td>0.52</td>\n",
       "    </tr>\n",
       "  </tbody>\n",
       "</table>\n",
       "<p>8 rows × 23 columns</p>\n",
       "</div>"
      ],
      "text/plain": [
       "           bp      sg      al      su     bgr      bu      sc     sod     pot  \\\n",
       "count  320.00  320.00  320.00  320.00  320.00  320.00  320.00  320.00  320.00   \n",
       "mean     0.00   -0.00    0.00   -0.00   -0.00   -0.00    0.00   -0.00    0.00   \n",
       "std      1.00    1.00    1.00    1.00    1.00    1.00    1.00    1.00    1.00   \n",
       "min     -1.94   -2.31   -0.70   -0.39   -1.63   -1.11   -0.47  -13.48   -0.63   \n",
       "25%     -0.49   -0.45   -0.70   -0.39   -0.58   -0.60   -0.38   -0.24   -0.21   \n",
       "50%      0.23    0.00   -0.70   -0.39   -0.31   -0.26   -0.29    0.01   -0.01   \n",
       "75%      0.23    0.49    0.84   -0.39    0.08    0.11    0.01    0.37    0.04   \n",
       "max      7.49    1.42    3.14    4.36    4.60    6.48   13.19    2.60   13.52   \n",
       "\n",
       "         hemo  ...  rbc_normal  pc_normal  pcc_present  ba_present  htn_yes  \\\n",
       "count  320.00  ...      320.00     320.00       320.00      320.00   320.00   \n",
       "mean     0.00  ...        0.00       0.00        -0.00       -0.00     0.00   \n",
       "std      1.00  ...        1.00       1.00         1.00        1.00     1.00   \n",
       "min     -3.35  ...       -2.85      -1.98        -0.35       -0.24    -0.77   \n",
       "25%     -0.65  ...        0.35       0.50        -0.35       -0.24    -0.77   \n",
       "50%      0.03  ...        0.35       0.50        -0.35       -0.24    -0.77   \n",
       "75%      0.74  ...        0.35       0.50        -0.35       -0.24     1.30   \n",
       "max      1.92  ...        0.35       0.50         2.85        4.22     1.30   \n",
       "\n",
       "       dm_yes  cad_yes  pe_yes  ane_yes   appet  \n",
       "count  320.00   320.00  320.00   320.00  320.00  \n",
       "mean    -0.00    -0.00    0.00     0.00   -0.00  \n",
       "std      1.00     1.00    1.00     1.00    1.00  \n",
       "min     -0.72    -0.32   -0.51    -0.43   -1.91  \n",
       "25%     -0.72    -0.32   -0.51    -0.43    0.52  \n",
       "50%     -0.72    -0.32   -0.51    -0.43    0.52  \n",
       "75%      1.38    -0.32   -0.51    -0.43    0.52  \n",
       "max      1.38     3.11    1.94     2.32    0.52  \n",
       "\n",
       "[8 rows x 23 columns]"
      ]
     },
     "execution_count": 116,
     "metadata": {},
     "output_type": "execute_result"
    }
   ],
   "source": [
    "# describe() after standard scaler\n",
    "np.round(X_train_scaled.describe(), 2)"
   ]
  },
  {
   "cell_type": "code",
   "execution_count": 117,
   "id": "e505d287",
   "metadata": {},
   "outputs": [],
   "source": [
    "from sklearn.preprocessing import MinMaxScaler\n",
    "mm_scaler = MinMaxScaler()\n",
    "\n",
    "X_train_mm_scaled = pd.DataFrame(mm_scaler.fit_transform(X_train_encoded),\n",
    "                                 columns= X_train_encoded.columns)\n",
    "\n",
    "X_test_mm_scaled = pd.DataFrame(mm_scaler.transform(X_test_encoded),\n",
    "                                columns= X_test_encoded.columns)"
   ]
  },
  {
   "cell_type": "code",
   "execution_count": 118,
   "id": "1d9599cf",
   "metadata": {},
   "outputs": [
    {
     "data": {
      "text/html": [
       "<div>\n",
       "<style scoped>\n",
       "    .dataframe tbody tr th:only-of-type {\n",
       "        vertical-align: middle;\n",
       "    }\n",
       "\n",
       "    .dataframe tbody tr th {\n",
       "        vertical-align: top;\n",
       "    }\n",
       "\n",
       "    .dataframe thead th {\n",
       "        text-align: right;\n",
       "    }\n",
       "</style>\n",
       "<table border=\"1\" class=\"dataframe\">\n",
       "  <thead>\n",
       "    <tr style=\"text-align: right;\">\n",
       "      <th></th>\n",
       "      <th>bp</th>\n",
       "      <th>sg</th>\n",
       "      <th>al</th>\n",
       "      <th>su</th>\n",
       "      <th>bgr</th>\n",
       "      <th>bu</th>\n",
       "      <th>sc</th>\n",
       "      <th>sod</th>\n",
       "      <th>pot</th>\n",
       "      <th>hemo</th>\n",
       "      <th>...</th>\n",
       "      <th>rbc_normal</th>\n",
       "      <th>pc_normal</th>\n",
       "      <th>pcc_present</th>\n",
       "      <th>ba_present</th>\n",
       "      <th>htn_yes</th>\n",
       "      <th>dm_yes</th>\n",
       "      <th>cad_yes</th>\n",
       "      <th>pe_yes</th>\n",
       "      <th>ane_yes</th>\n",
       "      <th>appet</th>\n",
       "    </tr>\n",
       "  </thead>\n",
       "  <tbody>\n",
       "    <tr>\n",
       "      <th>count</th>\n",
       "      <td>320.00</td>\n",
       "      <td>320.00</td>\n",
       "      <td>320.00</td>\n",
       "      <td>320.00</td>\n",
       "      <td>320.00</td>\n",
       "      <td>320.00</td>\n",
       "      <td>320.00</td>\n",
       "      <td>320.00</td>\n",
       "      <td>320.00</td>\n",
       "      <td>320.00</td>\n",
       "      <td>...</td>\n",
       "      <td>320.00</td>\n",
       "      <td>320.0</td>\n",
       "      <td>320.00</td>\n",
       "      <td>320.00</td>\n",
       "      <td>320.00</td>\n",
       "      <td>320.00</td>\n",
       "      <td>320.00</td>\n",
       "      <td>320.00</td>\n",
       "      <td>320.00</td>\n",
       "      <td>320.00</td>\n",
       "    </tr>\n",
       "    <tr>\n",
       "      <th>mean</th>\n",
       "      <td>0.21</td>\n",
       "      <td>0.62</td>\n",
       "      <td>0.18</td>\n",
       "      <td>0.08</td>\n",
       "      <td>0.26</td>\n",
       "      <td>0.15</td>\n",
       "      <td>0.03</td>\n",
       "      <td>0.84</td>\n",
       "      <td>0.04</td>\n",
       "      <td>0.64</td>\n",
       "      <td>...</td>\n",
       "      <td>0.89</td>\n",
       "      <td>0.8</td>\n",
       "      <td>0.11</td>\n",
       "      <td>0.05</td>\n",
       "      <td>0.37</td>\n",
       "      <td>0.34</td>\n",
       "      <td>0.09</td>\n",
       "      <td>0.21</td>\n",
       "      <td>0.16</td>\n",
       "      <td>0.78</td>\n",
       "    </tr>\n",
       "    <tr>\n",
       "      <th>std</th>\n",
       "      <td>0.11</td>\n",
       "      <td>0.27</td>\n",
       "      <td>0.26</td>\n",
       "      <td>0.21</td>\n",
       "      <td>0.16</td>\n",
       "      <td>0.13</td>\n",
       "      <td>0.07</td>\n",
       "      <td>0.06</td>\n",
       "      <td>0.07</td>\n",
       "      <td>0.19</td>\n",
       "      <td>...</td>\n",
       "      <td>0.31</td>\n",
       "      <td>0.4</td>\n",
       "      <td>0.31</td>\n",
       "      <td>0.22</td>\n",
       "      <td>0.48</td>\n",
       "      <td>0.48</td>\n",
       "      <td>0.29</td>\n",
       "      <td>0.41</td>\n",
       "      <td>0.36</td>\n",
       "      <td>0.41</td>\n",
       "    </tr>\n",
       "    <tr>\n",
       "      <th>min</th>\n",
       "      <td>0.00</td>\n",
       "      <td>0.00</td>\n",
       "      <td>0.00</td>\n",
       "      <td>0.00</td>\n",
       "      <td>0.00</td>\n",
       "      <td>0.00</td>\n",
       "      <td>0.00</td>\n",
       "      <td>0.00</td>\n",
       "      <td>0.00</td>\n",
       "      <td>0.00</td>\n",
       "      <td>...</td>\n",
       "      <td>0.00</td>\n",
       "      <td>0.0</td>\n",
       "      <td>0.00</td>\n",
       "      <td>0.00</td>\n",
       "      <td>0.00</td>\n",
       "      <td>0.00</td>\n",
       "      <td>0.00</td>\n",
       "      <td>0.00</td>\n",
       "      <td>0.00</td>\n",
       "      <td>0.00</td>\n",
       "    </tr>\n",
       "    <tr>\n",
       "      <th>25%</th>\n",
       "      <td>0.15</td>\n",
       "      <td>0.50</td>\n",
       "      <td>0.00</td>\n",
       "      <td>0.00</td>\n",
       "      <td>0.17</td>\n",
       "      <td>0.07</td>\n",
       "      <td>0.01</td>\n",
       "      <td>0.82</td>\n",
       "      <td>0.03</td>\n",
       "      <td>0.51</td>\n",
       "      <td>...</td>\n",
       "      <td>1.00</td>\n",
       "      <td>1.0</td>\n",
       "      <td>0.00</td>\n",
       "      <td>0.00</td>\n",
       "      <td>0.00</td>\n",
       "      <td>0.00</td>\n",
       "      <td>0.00</td>\n",
       "      <td>0.00</td>\n",
       "      <td>0.00</td>\n",
       "      <td>1.00</td>\n",
       "    </tr>\n",
       "    <tr>\n",
       "      <th>50%</th>\n",
       "      <td>0.23</td>\n",
       "      <td>0.62</td>\n",
       "      <td>0.00</td>\n",
       "      <td>0.00</td>\n",
       "      <td>0.21</td>\n",
       "      <td>0.11</td>\n",
       "      <td>0.01</td>\n",
       "      <td>0.84</td>\n",
       "      <td>0.04</td>\n",
       "      <td>0.64</td>\n",
       "      <td>...</td>\n",
       "      <td>1.00</td>\n",
       "      <td>1.0</td>\n",
       "      <td>0.00</td>\n",
       "      <td>0.00</td>\n",
       "      <td>0.00</td>\n",
       "      <td>0.00</td>\n",
       "      <td>0.00</td>\n",
       "      <td>0.00</td>\n",
       "      <td>0.00</td>\n",
       "      <td>1.00</td>\n",
       "    </tr>\n",
       "    <tr>\n",
       "      <th>75%</th>\n",
       "      <td>0.23</td>\n",
       "      <td>0.75</td>\n",
       "      <td>0.40</td>\n",
       "      <td>0.00</td>\n",
       "      <td>0.28</td>\n",
       "      <td>0.16</td>\n",
       "      <td>0.04</td>\n",
       "      <td>0.86</td>\n",
       "      <td>0.05</td>\n",
       "      <td>0.78</td>\n",
       "      <td>...</td>\n",
       "      <td>1.00</td>\n",
       "      <td>1.0</td>\n",
       "      <td>0.00</td>\n",
       "      <td>0.00</td>\n",
       "      <td>1.00</td>\n",
       "      <td>1.00</td>\n",
       "      <td>0.00</td>\n",
       "      <td>0.00</td>\n",
       "      <td>0.00</td>\n",
       "      <td>1.00</td>\n",
       "    </tr>\n",
       "    <tr>\n",
       "      <th>max</th>\n",
       "      <td>1.00</td>\n",
       "      <td>1.00</td>\n",
       "      <td>1.00</td>\n",
       "      <td>1.00</td>\n",
       "      <td>1.00</td>\n",
       "      <td>1.00</td>\n",
       "      <td>1.00</td>\n",
       "      <td>1.00</td>\n",
       "      <td>1.00</td>\n",
       "      <td>1.00</td>\n",
       "      <td>...</td>\n",
       "      <td>1.00</td>\n",
       "      <td>1.0</td>\n",
       "      <td>1.00</td>\n",
       "      <td>1.00</td>\n",
       "      <td>1.00</td>\n",
       "      <td>1.00</td>\n",
       "      <td>1.00</td>\n",
       "      <td>1.00</td>\n",
       "      <td>1.00</td>\n",
       "      <td>1.00</td>\n",
       "    </tr>\n",
       "  </tbody>\n",
       "</table>\n",
       "<p>8 rows × 23 columns</p>\n",
       "</div>"
      ],
      "text/plain": [
       "           bp      sg      al      su     bgr      bu      sc     sod     pot  \\\n",
       "count  320.00  320.00  320.00  320.00  320.00  320.00  320.00  320.00  320.00   \n",
       "mean     0.21    0.62    0.18    0.08    0.26    0.15    0.03    0.84    0.04   \n",
       "std      0.11    0.27    0.26    0.21    0.16    0.13    0.07    0.06    0.07   \n",
       "min      0.00    0.00    0.00    0.00    0.00    0.00    0.00    0.00    0.00   \n",
       "25%      0.15    0.50    0.00    0.00    0.17    0.07    0.01    0.82    0.03   \n",
       "50%      0.23    0.62    0.00    0.00    0.21    0.11    0.01    0.84    0.04   \n",
       "75%      0.23    0.75    0.40    0.00    0.28    0.16    0.04    0.86    0.05   \n",
       "max      1.00    1.00    1.00    1.00    1.00    1.00    1.00    1.00    1.00   \n",
       "\n",
       "         hemo  ...  rbc_normal  pc_normal  pcc_present  ba_present  htn_yes  \\\n",
       "count  320.00  ...      320.00      320.0       320.00      320.00   320.00   \n",
       "mean     0.64  ...        0.89        0.8         0.11        0.05     0.37   \n",
       "std      0.19  ...        0.31        0.4         0.31        0.22     0.48   \n",
       "min      0.00  ...        0.00        0.0         0.00        0.00     0.00   \n",
       "25%      0.51  ...        1.00        1.0         0.00        0.00     0.00   \n",
       "50%      0.64  ...        1.00        1.0         0.00        0.00     0.00   \n",
       "75%      0.78  ...        1.00        1.0         0.00        0.00     1.00   \n",
       "max      1.00  ...        1.00        1.0         1.00        1.00     1.00   \n",
       "\n",
       "       dm_yes  cad_yes  pe_yes  ane_yes   appet  \n",
       "count  320.00   320.00  320.00   320.00  320.00  \n",
       "mean     0.34     0.09    0.21     0.16    0.78  \n",
       "std      0.48     0.29    0.41     0.36    0.41  \n",
       "min      0.00     0.00    0.00     0.00    0.00  \n",
       "25%      0.00     0.00    0.00     0.00    1.00  \n",
       "50%      0.00     0.00    0.00     0.00    1.00  \n",
       "75%      1.00     0.00    0.00     0.00    1.00  \n",
       "max      1.00     1.00    1.00     1.00    1.00  \n",
       "\n",
       "[8 rows x 23 columns]"
      ]
     },
     "execution_count": 118,
     "metadata": {},
     "output_type": "execute_result"
    }
   ],
   "source": [
    "# describe after minmaxscaler\n",
    "np.round(X_train_mm_scaled.describe(),2)\n",
    "\n",
    "# we will get minimum 0 and maximum 1 means data scale will be bbetween 0 and 1"
   ]
  },
  {
   "cell_type": "code",
   "execution_count": 119,
   "id": "f9b65cdc",
   "metadata": {},
   "outputs": [],
   "source": [
    "from sklearn.preprocessing import RobustScaler\n",
    "rb_scaler = RobustScaler()\n",
    "\n",
    "X_train_rb_scaled = pd.DataFrame(rb_scaler.fit_transform(X_train_encoded), \n",
    "                                 columns=X_train_encoded.columns)\n",
    "\n",
    "X_test_rb_scaled = pd.DataFrame(rb_scaler.transform(X_test_encoded),\n",
    "                                columns= X_test_encoded.columns)"
   ]
  },
  {
   "cell_type": "code",
   "execution_count": 120,
   "id": "2625d515",
   "metadata": {},
   "outputs": [
    {
     "data": {
      "text/html": [
       "<div>\n",
       "<style scoped>\n",
       "    .dataframe tbody tr th:only-of-type {\n",
       "        vertical-align: middle;\n",
       "    }\n",
       "\n",
       "    .dataframe tbody tr th {\n",
       "        vertical-align: top;\n",
       "    }\n",
       "\n",
       "    .dataframe thead th {\n",
       "        text-align: right;\n",
       "    }\n",
       "</style>\n",
       "<table border=\"1\" class=\"dataframe\">\n",
       "  <thead>\n",
       "    <tr style=\"text-align: right;\">\n",
       "      <th></th>\n",
       "      <th>bp</th>\n",
       "      <th>sg</th>\n",
       "      <th>al</th>\n",
       "      <th>su</th>\n",
       "      <th>bgr</th>\n",
       "      <th>bu</th>\n",
       "      <th>sc</th>\n",
       "      <th>sod</th>\n",
       "      <th>pot</th>\n",
       "      <th>hemo</th>\n",
       "      <th>...</th>\n",
       "      <th>rbc_normal</th>\n",
       "      <th>pc_normal</th>\n",
       "      <th>pcc_present</th>\n",
       "      <th>ba_present</th>\n",
       "      <th>htn_yes</th>\n",
       "      <th>dm_yes</th>\n",
       "      <th>cad_yes</th>\n",
       "      <th>pe_yes</th>\n",
       "      <th>ane_yes</th>\n",
       "      <th>appet</th>\n",
       "    </tr>\n",
       "  </thead>\n",
       "  <tbody>\n",
       "    <tr>\n",
       "      <th>count</th>\n",
       "      <td>320.00</td>\n",
       "      <td>320.00</td>\n",
       "      <td>320.00</td>\n",
       "      <td>320.00</td>\n",
       "      <td>320.00</td>\n",
       "      <td>320.00</td>\n",
       "      <td>320.00</td>\n",
       "      <td>320.00</td>\n",
       "      <td>320.00</td>\n",
       "      <td>320.00</td>\n",
       "      <td>...</td>\n",
       "      <td>320.00</td>\n",
       "      <td>320.0</td>\n",
       "      <td>320.00</td>\n",
       "      <td>320.00</td>\n",
       "      <td>320.00</td>\n",
       "      <td>320.00</td>\n",
       "      <td>320.00</td>\n",
       "      <td>320.00</td>\n",
       "      <td>320.00</td>\n",
       "      <td>320.00</td>\n",
       "    </tr>\n",
       "    <tr>\n",
       "      <th>mean</th>\n",
       "      <td>-0.32</td>\n",
       "      <td>-0.00</td>\n",
       "      <td>0.45</td>\n",
       "      <td>0.41</td>\n",
       "      <td>0.47</td>\n",
       "      <td>0.37</td>\n",
       "      <td>0.74</td>\n",
       "      <td>-0.02</td>\n",
       "      <td>0.05</td>\n",
       "      <td>-0.02</td>\n",
       "      <td>...</td>\n",
       "      <td>-0.11</td>\n",
       "      <td>-0.2</td>\n",
       "      <td>0.11</td>\n",
       "      <td>0.05</td>\n",
       "      <td>0.37</td>\n",
       "      <td>0.34</td>\n",
       "      <td>0.09</td>\n",
       "      <td>0.21</td>\n",
       "      <td>0.16</td>\n",
       "      <td>-0.22</td>\n",
       "    </tr>\n",
       "    <tr>\n",
       "      <th>std</th>\n",
       "      <td>1.38</td>\n",
       "      <td>1.07</td>\n",
       "      <td>0.65</td>\n",
       "      <td>1.06</td>\n",
       "      <td>1.50</td>\n",
       "      <td>1.41</td>\n",
       "      <td>2.55</td>\n",
       "      <td>1.65</td>\n",
       "      <td>3.92</td>\n",
       "      <td>0.72</td>\n",
       "      <td>...</td>\n",
       "      <td>0.31</td>\n",
       "      <td>0.4</td>\n",
       "      <td>0.31</td>\n",
       "      <td>0.22</td>\n",
       "      <td>0.48</td>\n",
       "      <td>0.48</td>\n",
       "      <td>0.29</td>\n",
       "      <td>0.41</td>\n",
       "      <td>0.36</td>\n",
       "      <td>0.41</td>\n",
       "    </tr>\n",
       "    <tr>\n",
       "      <th>min</th>\n",
       "      <td>-3.00</td>\n",
       "      <td>-2.48</td>\n",
       "      <td>0.00</td>\n",
       "      <td>0.00</td>\n",
       "      <td>-1.98</td>\n",
       "      <td>-1.19</td>\n",
       "      <td>-0.46</td>\n",
       "      <td>-22.17</td>\n",
       "      <td>-2.41</td>\n",
       "      <td>-2.42</td>\n",
       "      <td>...</td>\n",
       "      <td>-1.00</td>\n",
       "      <td>-1.0</td>\n",
       "      <td>0.00</td>\n",
       "      <td>0.00</td>\n",
       "      <td>0.00</td>\n",
       "      <td>0.00</td>\n",
       "      <td>0.00</td>\n",
       "      <td>0.00</td>\n",
       "      <td>0.00</td>\n",
       "      <td>-1.00</td>\n",
       "    </tr>\n",
       "    <tr>\n",
       "      <th>25%</th>\n",
       "      <td>-1.00</td>\n",
       "      <td>-0.48</td>\n",
       "      <td>0.00</td>\n",
       "      <td>0.00</td>\n",
       "      <td>-0.40</td>\n",
       "      <td>-0.47</td>\n",
       "      <td>-0.23</td>\n",
       "      <td>-0.42</td>\n",
       "      <td>-0.78</td>\n",
       "      <td>-0.49</td>\n",
       "      <td>...</td>\n",
       "      <td>0.00</td>\n",
       "      <td>0.0</td>\n",
       "      <td>0.00</td>\n",
       "      <td>0.00</td>\n",
       "      <td>0.00</td>\n",
       "      <td>0.00</td>\n",
       "      <td>0.00</td>\n",
       "      <td>0.00</td>\n",
       "      <td>0.00</td>\n",
       "      <td>0.00</td>\n",
       "    </tr>\n",
       "    <tr>\n",
       "      <th>50%</th>\n",
       "      <td>0.00</td>\n",
       "      <td>0.00</td>\n",
       "      <td>0.00</td>\n",
       "      <td>0.00</td>\n",
       "      <td>0.00</td>\n",
       "      <td>0.00</td>\n",
       "      <td>0.00</td>\n",
       "      <td>0.00</td>\n",
       "      <td>0.00</td>\n",
       "      <td>0.00</td>\n",
       "      <td>...</td>\n",
       "      <td>0.00</td>\n",
       "      <td>0.0</td>\n",
       "      <td>0.00</td>\n",
       "      <td>0.00</td>\n",
       "      <td>0.00</td>\n",
       "      <td>0.00</td>\n",
       "      <td>0.00</td>\n",
       "      <td>0.00</td>\n",
       "      <td>0.00</td>\n",
       "      <td>0.00</td>\n",
       "    </tr>\n",
       "    <tr>\n",
       "      <th>75%</th>\n",
       "      <td>0.00</td>\n",
       "      <td>0.52</td>\n",
       "      <td>1.00</td>\n",
       "      <td>0.00</td>\n",
       "      <td>0.60</td>\n",
       "      <td>0.53</td>\n",
       "      <td>0.77</td>\n",
       "      <td>0.58</td>\n",
       "      <td>0.22</td>\n",
       "      <td>0.51</td>\n",
       "      <td>...</td>\n",
       "      <td>0.00</td>\n",
       "      <td>0.0</td>\n",
       "      <td>0.00</td>\n",
       "      <td>0.00</td>\n",
       "      <td>1.00</td>\n",
       "      <td>1.00</td>\n",
       "      <td>0.00</td>\n",
       "      <td>0.00</td>\n",
       "      <td>0.00</td>\n",
       "      <td>0.00</td>\n",
       "    </tr>\n",
       "    <tr>\n",
       "      <th>max</th>\n",
       "      <td>10.00</td>\n",
       "      <td>1.52</td>\n",
       "      <td>2.50</td>\n",
       "      <td>5.00</td>\n",
       "      <td>7.38</td>\n",
       "      <td>9.48</td>\n",
       "      <td>34.34</td>\n",
       "      <td>4.25</td>\n",
       "      <td>52.97</td>\n",
       "      <td>1.35</td>\n",
       "      <td>...</td>\n",
       "      <td>0.00</td>\n",
       "      <td>0.0</td>\n",
       "      <td>1.00</td>\n",
       "      <td>1.00</td>\n",
       "      <td>1.00</td>\n",
       "      <td>1.00</td>\n",
       "      <td>1.00</td>\n",
       "      <td>1.00</td>\n",
       "      <td>1.00</td>\n",
       "      <td>0.00</td>\n",
       "    </tr>\n",
       "  </tbody>\n",
       "</table>\n",
       "<p>8 rows × 23 columns</p>\n",
       "</div>"
      ],
      "text/plain": [
       "           bp      sg      al      su     bgr      bu      sc     sod     pot  \\\n",
       "count  320.00  320.00  320.00  320.00  320.00  320.00  320.00  320.00  320.00   \n",
       "mean    -0.32   -0.00    0.45    0.41    0.47    0.37    0.74   -0.02    0.05   \n",
       "std      1.38    1.07    0.65    1.06    1.50    1.41    2.55    1.65    3.92   \n",
       "min     -3.00   -2.48    0.00    0.00   -1.98   -1.19   -0.46  -22.17   -2.41   \n",
       "25%     -1.00   -0.48    0.00    0.00   -0.40   -0.47   -0.23   -0.42   -0.78   \n",
       "50%      0.00    0.00    0.00    0.00    0.00    0.00    0.00    0.00    0.00   \n",
       "75%      0.00    0.52    1.00    0.00    0.60    0.53    0.77    0.58    0.22   \n",
       "max     10.00    1.52    2.50    5.00    7.38    9.48   34.34    4.25   52.97   \n",
       "\n",
       "         hemo  ...  rbc_normal  pc_normal  pcc_present  ba_present  htn_yes  \\\n",
       "count  320.00  ...      320.00      320.0       320.00      320.00   320.00   \n",
       "mean    -0.02  ...       -0.11       -0.2         0.11        0.05     0.37   \n",
       "std      0.72  ...        0.31        0.4         0.31        0.22     0.48   \n",
       "min     -2.42  ...       -1.00       -1.0         0.00        0.00     0.00   \n",
       "25%     -0.49  ...        0.00        0.0         0.00        0.00     0.00   \n",
       "50%      0.00  ...        0.00        0.0         0.00        0.00     0.00   \n",
       "75%      0.51  ...        0.00        0.0         0.00        0.00     1.00   \n",
       "max      1.35  ...        0.00        0.0         1.00        1.00     1.00   \n",
       "\n",
       "       dm_yes  cad_yes  pe_yes  ane_yes   appet  \n",
       "count  320.00   320.00  320.00   320.00  320.00  \n",
       "mean     0.34     0.09    0.21     0.16   -0.22  \n",
       "std      0.48     0.29    0.41     0.36    0.41  \n",
       "min      0.00     0.00    0.00     0.00   -1.00  \n",
       "25%      0.00     0.00    0.00     0.00    0.00  \n",
       "50%      0.00     0.00    0.00     0.00    0.00  \n",
       "75%      1.00     0.00    0.00     0.00    0.00  \n",
       "max      1.00     1.00    1.00     1.00    0.00  \n",
       "\n",
       "[8 rows x 23 columns]"
      ]
     },
     "execution_count": 120,
     "metadata": {},
     "output_type": "execute_result"
    }
   ],
   "source": [
    "np.round(X_train_rb_scaled.describe(), 2)"
   ]
  },
  {
   "cell_type": "code",
   "execution_count": 121,
   "id": "8df1c998",
   "metadata": {},
   "outputs": [],
   "source": [
    "from sklearn.linear_model import LogisticRegression\n",
    "from sklearn.metrics import confusion_matrix, accuracy_score\n",
    "\n",
    "# on standard scaled \n",
    "lg_std = LogisticRegression()\n",
    "lg_std.fit(X_train_scaled, y_train_encoded)\n",
    "y_pred_lg_std  = lg_std.predict(X_test_scaled) \n",
    "lg_std_cm = confusion_matrix(y_test_encoded, y_pred_lg_std)\n",
    "lg_std_accuracy = accuracy_score(y_test_encoded, y_pred_lg_std)\n",
    "\n",
    "# on MinMaxscaled data\n",
    "lg_mm = LogisticRegression()\n",
    "lg_mm.fit(X_train_mm_scaled, y_train_encoded)\n",
    "y_pred_lg_mm  = lg_mm.predict(X_test_scaled) \n",
    "lg_mm_cm = confusion_matrix(y_test_encoded, y_pred_lg_mm)\n",
    "lg_mm_accuracy = accuracy_score(y_test_encoded, y_pred_lg_mm)\n",
    "\n",
    "\n",
    "\n",
    "# on Robust Scaled data\n",
    "lg_rb = LogisticRegression()\n",
    "lg_rb.fit(X_train_rb_scaled, y_train_encoded)\n",
    "y_pred_lg_rb  = lg_rb.predict(X_test_scaled) \n",
    "lg_rb_cm = confusion_matrix(y_test_encoded, y_pred_lg_rb)\n",
    "lg_rb_accuracy = accuracy_score(y_test_encoded, y_pred_lg_rb)\n",
    "\n"
   ]
  },
  {
   "cell_type": "code",
   "execution_count": 122,
   "id": "5e30127a",
   "metadata": {},
   "outputs": [
    {
     "name": "stdout",
     "output_type": "stream",
     "text": [
      "Logistic Regression with Standard scaler: \n",
      "[[50  0]\n",
      " [ 0 30]]\n",
      "accuracy score for standard scaled logistic regression :  1.0\n",
      "--------\n",
      "Logistic Regression with MinMax scaler: \n",
      "[[48  2]\n",
      " [ 0 30]]\n",
      "accuracy score for MinMax scaled logistic regression :  0.975\n",
      "------\n",
      "Logistic Regression with robust scaler: \n",
      "[[44  6]\n",
      " [ 0 30]]\n",
      "accuracy score for robust scaled logistic regression :  0.925\n"
     ]
    }
   ],
   "source": [
    "# for standard sclaed data\n",
    "print('Logistic Regression with Standard scaler: ')\n",
    "print(lg_std_cm)\n",
    "print('accuracy score for standard scaled logistic regression : ', lg_std_accuracy)\n",
    "print('--------')    \n",
    " \n",
    "# for minmax sclaed data\n",
    "print('Logistic Regression with MinMax scaler: ')\n",
    "print(lg_mm_cm)\n",
    "print('accuracy score for MinMax scaled logistic regression : ', lg_mm_accuracy)\n",
    "print('------')\n",
    "\n",
    "# for robust sclaed data\n",
    "print('Logistic Regression with robust scaler: ')\n",
    "print(lg_rb_cm)\n",
    "print('accuracy score for robust scaled logistic regression : ', lg_rb_accuracy)"
   ]
  },
  {
   "cell_type": "code",
   "execution_count": 123,
   "id": "aa7c89a5",
   "metadata": {},
   "outputs": [],
   "source": [
    "from sklearn.svm import SVC\n",
    "from sklearn.metrics import confusion_matrix, accuracy_score\n",
    "\n",
    "# on standard scaled \n",
    "svm_std = SVC()\n",
    "svm_std.fit(X_train_scaled, y_train_encoded)\n",
    "y_pred_svm_std  = svm_std.predict(X_test_scaled) \n",
    "svm_std_cm = confusion_matrix(y_test_encoded, y_pred_svm_std)\n",
    "svm_std_accuracy = accuracy_score(y_test_encoded, y_pred_svm_std)\n",
    "\n",
    "# on MinMaxscaled data\n",
    "svm_mm = SVC()\n",
    "svm_mm.fit(X_train_mm_scaled, y_train_encoded)\n",
    "y_pred_svm_mm  = svm_mm.predict(X_test_scaled) \n",
    "svm_mm_cm = confusion_matrix(y_test_encoded, y_pred_svm_mm)\n",
    "svm_mm_accuracy = accuracy_score(y_test_encoded, y_pred_svm_mm)\n",
    "\n",
    "\n",
    "\n",
    "# on Robust Scaled data\n",
    "svm_rb = SVC()\n",
    "svm_rb.fit(X_train_rb_scaled, y_train_encoded)\n",
    "y_pred_svm_rb  = svm_rb.predict(X_test_scaled) \n",
    "svm_rb_cm = confusion_matrix(y_test_encoded, y_pred_svm_rb)\n",
    "svm_rb_accuracy = accuracy_score(y_test_encoded, y_pred_svm_rb)"
   ]
  },
  {
   "cell_type": "code",
   "execution_count": 124,
   "id": "1ab642f3",
   "metadata": {},
   "outputs": [
    {
     "name": "stdout",
     "output_type": "stream",
     "text": [
      "Support vector machine with Standard scaler: \n",
      "[[48  2]\n",
      " [ 0 30]]\n",
      "accuracy score for standard scaled Support vector machine :  0.975\n",
      "--------\n",
      "Support vector machine with MinMax scaler: \n",
      "[[50  0]\n",
      " [30  0]]\n",
      "accuracy score for MinMax scaled Support vector machine :  0.625\n",
      "------\n",
      "Support vector machine with robust scaler: \n",
      "[[45  5]\n",
      " [ 0 30]]\n",
      "accuracy score for robust scaled Support vector machine :  0.9375\n"
     ]
    }
   ],
   "source": [
    "# for standard sclaed data\n",
    "print('Support vector machine with Standard scaler: ')\n",
    "print(svm_std_cm)\n",
    "print('accuracy score for standard scaled Support vector machine : ', svm_std_accuracy)\n",
    "print('--------')    \n",
    " \n",
    "# for minmax sclaed data\n",
    "print('Support vector machine with MinMax scaler: ')\n",
    "print(svm_mm_cm)\n",
    "print('accuracy score for MinMax scaled Support vector machine : ', svm_mm_accuracy)\n",
    "print('------')\n",
    "\n",
    "# for robust sclaed data\n",
    "print('Support vector machine with robust scaler: ')\n",
    "print(svm_rb_cm)\n",
    "print('accuracy score for robust scaled Support vector machine : ', svm_rb_accuracy)"
   ]
  },
  {
   "cell_type": "code",
   "execution_count": 125,
   "id": "63d426d7",
   "metadata": {},
   "outputs": [],
   "source": [
    "from sklearn.tree import DecisionTreeClassifier\n",
    "from sklearn.metrics import confusion_matrix, accuracy_score\n",
    "\n",
    "# on standard scaled \n",
    "dt_std = DecisionTreeClassifier()\n",
    "dt_std.fit(X_train_scaled, y_train_encoded)\n",
    "y_pred_dt_std  = dt_std.predict(X_test_scaled) \n",
    "dt_std_cm = confusion_matrix(y_test_encoded, y_pred_dt_std)\n",
    "dt_std_accuracy = accuracy_score(y_test_encoded, y_pred_dt_std)\n",
    "\n",
    "# on MinMaxscaled data\n",
    "dt_mm = DecisionTreeClassifier()\n",
    "dt_mm.fit(X_train_mm_scaled, y_train_encoded)\n",
    "y_pred_dt_mm  = dt_mm.predict(X_test_scaled) \n",
    "dt_mm_cm = confusion_matrix(y_test_encoded, y_pred_dt_mm)\n",
    "dt_mm_accuracy = accuracy_score(y_test_encoded, y_pred_dt_mm)\n",
    "\n",
    "\n",
    "\n",
    "# on Robust Scaled data\n",
    "dt_rb = DecisionTreeClassifier()\n",
    "dt_rb.fit(X_train_rb_scaled, y_train_encoded)\n",
    "y_pred_dt_rb  = dt_rb.predict(X_test_scaled) \n",
    "dt_rb_cm = confusion_matrix(y_test_encoded, y_pred_dt_rb)\n",
    "dt_rb_accuracy = accuracy_score(y_test_encoded, y_pred_dt_rb)"
   ]
  },
  {
   "cell_type": "code",
   "execution_count": 126,
   "id": "db712c8f",
   "metadata": {},
   "outputs": [
    {
     "name": "stdout",
     "output_type": "stream",
     "text": [
      "Decision Tree classifier with Standard scaler: \n",
      "[[50  0]\n",
      " [ 2 28]]\n",
      "accuracy score for standard scaled Decision Tree classifier :  0.975\n",
      "--------\n",
      "Decision Tree classifier with MinMax scaler: \n",
      "[[50  0]\n",
      " [16 14]]\n",
      "accuracy score for MinMax scaled Decision Tree classifier :  0.8\n",
      "------\n",
      "Decision Tree classifier with robust scaler: \n",
      "[[50  0]\n",
      " [ 2 28]]\n",
      "accuracy score for robust scaled Decision Tree classifier :  0.975\n"
     ]
    }
   ],
   "source": [
    "# for standard sclaed data\n",
    "print('Decision Tree classifier with Standard scaler: ')\n",
    "print(dt_std_cm)\n",
    "print('accuracy score for standard scaled Decision Tree classifier : ', dt_std_accuracy)\n",
    "print('--------')    \n",
    " \n",
    "# for minmax sclaed data\n",
    "print('Decision Tree classifier with MinMax scaler: ')\n",
    "print(dt_mm_cm)\n",
    "print('accuracy score for MinMax scaled Decision Tree classifier : ', dt_mm_accuracy)\n",
    "print('------')\n",
    "\n",
    "# for robust scaled data\n",
    "print('Decision Tree classifier with robust scaler: ')\n",
    "print(dt_rb_cm)\n",
    "print('accuracy score for robust scaled Decision Tree classifier : ', dt_rb_accuracy)"
   ]
  },
  {
   "cell_type": "code",
   "execution_count": 127,
   "id": "2c7f578d",
   "metadata": {},
   "outputs": [
    {
     "data": {
      "text/html": [
       "<div>\n",
       "<style scoped>\n",
       "    .dataframe tbody tr th:only-of-type {\n",
       "        vertical-align: middle;\n",
       "    }\n",
       "\n",
       "    .dataframe tbody tr th {\n",
       "        vertical-align: top;\n",
       "    }\n",
       "\n",
       "    .dataframe thead th {\n",
       "        text-align: right;\n",
       "    }\n",
       "</style>\n",
       "<table border=\"1\" class=\"dataframe\">\n",
       "  <thead>\n",
       "    <tr style=\"text-align: right;\">\n",
       "      <th></th>\n",
       "      <th>ML models</th>\n",
       "      <th>Standard_sclaled</th>\n",
       "      <th>MinMax-Scaled</th>\n",
       "      <th>Robust-Scaled</th>\n",
       "    </tr>\n",
       "  </thead>\n",
       "  <tbody>\n",
       "    <tr>\n",
       "      <th>0</th>\n",
       "      <td>Lodistic Regression</td>\n",
       "      <td>1.000</td>\n",
       "      <td>0.975</td>\n",
       "      <td>0.9250</td>\n",
       "    </tr>\n",
       "    <tr>\n",
       "      <th>1</th>\n",
       "      <td>SVM</td>\n",
       "      <td>0.975</td>\n",
       "      <td>0.625</td>\n",
       "      <td>0.9375</td>\n",
       "    </tr>\n",
       "    <tr>\n",
       "      <th>2</th>\n",
       "      <td>Decision Tree</td>\n",
       "      <td>0.975</td>\n",
       "      <td>0.800</td>\n",
       "      <td>0.9750</td>\n",
       "    </tr>\n",
       "  </tbody>\n",
       "</table>\n",
       "</div>"
      ],
      "text/plain": [
       "             ML models  Standard_sclaled  MinMax-Scaled  Robust-Scaled\n",
       "0  Lodistic Regression             1.000          0.975         0.9250\n",
       "1                  SVM             0.975          0.625         0.9375\n",
       "2        Decision Tree             0.975          0.800         0.9750"
      ]
     },
     "execution_count": 127,
     "metadata": {},
     "output_type": "execute_result"
    }
   ],
   "source": [
    "# create score dataframe for ml models with each scaled data\n",
    "scores = {'ML models' : ['Lodistic Regression', 'SVM', 'Decision Tree'],\n",
    "        'Standard_sclaled': [lg_std_accuracy, svm_std_accuracy, dt_std_accuracy],\n",
    "        'MinMax-Scaled' : [lg_mm_accuracy, svm_mm_accuracy, dt_mm_accuracy],\n",
    "        'Robust-Scaled' : [lg_rb_accuracy, svm_rb_accuracy, dt_rb_accuracy]\n",
    "        }\n",
    "\n",
    "\n",
    "score_df = pd.DataFrame(scores)\n",
    "score_df"
   ]
  },
  {
   "cell_type": "markdown",
   "id": "814b33cc",
   "metadata": {},
   "source": [
    "Best Result:\n",
    "1. Logistic regression with Standard scaled data and MinMax scaled data\n",
    "2. Support vector machine with only standard scaling data which gives best result."
   ]
  },
  {
   "cell_type": "code",
   "execution_count": 128,
   "id": "11ef8681",
   "metadata": {},
   "outputs": [
    {
     "name": "stdout",
     "output_type": "stream",
     "text": [
      "Selected Feature Indices: [ 1  2  9 10 12 14 17 18 20 22]\n",
      "Accuracy: 1.0\n",
      "Confusion Matrix:\n",
      "[[41  0]\n",
      " [ 0 23]]\n",
      "Classification Report:\n",
      "              precision    recall  f1-score   support\n",
      "\n",
      "           0       1.00      1.00      1.00        41\n",
      "           1       1.00      1.00      1.00        23\n",
      "\n",
      "    accuracy                           1.00        64\n",
      "   macro avg       1.00      1.00      1.00        64\n",
      "weighted avg       1.00      1.00      1.00        64\n",
      "\n",
      "Cross-Validation Scores: [1.         1.         0.94117647 0.98039216 1.        ]\n"
     ]
    }
   ],
   "source": [
    "from sklearn.feature_selection import SelectKBest, f_classif\n",
    "from sklearn.model_selection import train_test_split, cross_val_score\n",
    "from sklearn.preprocessing import MinMaxScaler\n",
    "from sklearn.linear_model import LogisticRegression\n",
    "from sklearn.metrics import accuracy_score, confusion_matrix, classification_report\n",
    "\n",
    "# Assuming you have your training data (replace this with your actual data)\n",
    "X_train_mm_scaled, y_train_encoded\n",
    "\n",
    "# Split the data into training and testing sets\n",
    "X_train, X_test, y_train, y_test = train_test_split(X_train_mm_scaled, y_train_encoded, test_size=0.2, random_state=42)\n",
    "\n",
    "# Select top k features based on univariate statistical test (f_classif)\n",
    "k = 10  # You can choose the number of features you want\n",
    "selector = SelectKBest(f_classif, k=k)\n",
    "X_train_selected = selector.fit_transform(X_train, y_train)\n",
    "X_test_selected = selector.transform(X_test)\n",
    "\n",
    "# Print the indices of the selected features\n",
    "selected_indices = selector.get_support(indices=True)\n",
    "print(f'Selected Feature Indices: {selected_indices}')\n",
    "\n",
    "# Train your model (e.g., Logistic Regression) using the selected features\n",
    "model = LogisticRegression()\n",
    "model.fit(X_train_selected, y_train)\n",
    "\n",
    "# Make predictions on the test set\n",
    "y_pred = model.predict(X_test_selected)\n",
    "\n",
    "# Evaluate the model\n",
    "accuracy = accuracy_score(y_test, y_pred)\n",
    "print(f'Accuracy: {accuracy}')\n",
    "\n",
    "# Confusion Matrix\n",
    "conf_matrix = confusion_matrix(y_test, y_pred)\n",
    "print(f'Confusion Matrix:\\n{conf_matrix}')\n",
    "\n",
    "# Classification Report\n",
    "class_report = classification_report(y_test, y_pred)\n",
    "print(f'Classification Report:\\n{class_report}')\n",
    "\n",
    "# Cross-Validation\n",
    "cv_scores = cross_val_score(model, X_train_selected, y_train, cv=5)\n",
    "print(f'Cross-Validation Scores: {cv_scores}')"
   ]
  },
  {
   "cell_type": "code",
   "execution_count": 129,
   "id": "73314635",
   "metadata": {},
   "outputs": [
    {
     "name": "stdout",
     "output_type": "stream",
     "text": [
      "Index(['sg', 'al', 'bgr', 'sod', 'hemo', 'pcv', 'rc', 'htn_yes', 'dm_yes',\n",
      "       'appet'],\n",
      "      dtype='object')\n"
     ]
    }
   ],
   "source": [
    "selected_indices = [1, 2, 4, 7, 9, 10, 12, 17, 18, 22]\n",
    "selected_columns = X_train.columns[selected_indices]\n",
    "print(selected_columns)"
   ]
  },
  {
   "cell_type": "code",
   "execution_count": 130,
   "id": "4d828ed0",
   "metadata": {},
   "outputs": [
    {
     "name": "stdout",
     "output_type": "stream",
     "text": [
      "Enter sg: 1\n",
      "Enter al: 0\n",
      "Enter bgr: 7\n",
      "Enter sod: 0\n",
      "Enter hemo: 1\n",
      "Enter pcv: 1\n",
      "Enter rc: 1\n",
      "Enter htn_yes: 1\n",
      "Enter dm_yes: 1\n",
      "Enter appet: 1\n",
      "Predicted Label: 0\n"
     ]
    },
    {
     "name": "stderr",
     "output_type": "stream",
     "text": [
      "C:\\Users\\Saesh\\anaconda3\\lib\\site-packages\\sklearn\\base.py:465: UserWarning: X does not have valid feature names, but MinMaxScaler was fitted with feature names\n",
      "  warnings.warn(\n"
     ]
    }
   ],
   "source": [
    "from sklearn.preprocessing import MinMaxScaler\n",
    "from sklearn.linear_model import LogisticRegression\n",
    "import pandas as pd\n",
    "import numpy as np\n",
    "\n",
    "#MinMax Scaler\n",
    "scaler = MinMaxScaler()\n",
    "scaler.fit(X_train_mm_scaled)  # Fit the scaler on your MinMax scaled training data\n",
    "\n",
    "# Collect user input for all 10 columns\n",
    "user_input = {}\n",
    "for column in ['sg', 'al', 'bgr', 'sod', 'hemo', 'pcv', 'rc', 'htn_yes', 'dm_yes','appet']:\n",
    "    user_input[column] = float(input(f'Enter {column}: '))\n",
    "\n",
    "# Create a DataFrame from user input\n",
    "user_df = pd.DataFrame([user_input])\n",
    "\n",
    "# Add missing columns with default values (0 in this case)\n",
    "missing_columns = set(X_train_mm_scaled.columns) - set(user_df.columns)\n",
    "for column in missing_columns:\n",
    "    user_df[column] = 0\n",
    "\n",
    "# Ensure columns are in the same order\n",
    "user_df = user_df[X_train_mm_scaled.columns]\n",
    "\n",
    "# Scale/Normalize User Input using the same scaler\n",
    "user_df_scaled = pd.DataFrame(\n",
    "    data=scaler.transform(user_df.values),\n",
    "    columns=user_df.columns\n",
    ")\n",
    "\n",
    "# Logistic Regression model trained with MinMax scaled data\n",
    "lg_mm = LogisticRegression()\n",
    "lg_mm.fit(X_train_mm_scaled, y_train_encoded)\n",
    "\n",
    "# Make predictions on the scaled user input\n",
    "y_pred = lg_mm.predict(user_df_scaled)\n",
    "\n",
    "# Now 'y_pred' contains the predicted labels for the user input\n",
    "print(f'Predicted Label: {y_pred[0]}')"
   ]
  },
  {
   "cell_type": "markdown",
   "id": "2c1b0fec",
   "metadata": {},
   "source": [
    "# Plotting Experimental Data"
   ]
  },
  {
   "cell_type": "markdown",
   "id": "02b4a809",
   "metadata": {},
   "source": [
    "1.Logistic Regression "
   ]
  },
  {
   "cell_type": "code",
   "execution_count": 131,
   "id": "45a38949",
   "metadata": {},
   "outputs": [
    {
     "name": "stdout",
     "output_type": "stream",
     "text": [
      "Requirement already satisfied: scikit-learn in c:\\users\\saesh\\anaconda3\\lib\\site-packages (1.3.2)\n",
      "Requirement already satisfied: joblib>=1.1.1 in c:\\users\\saesh\\anaconda3\\lib\\site-packages (from scikit-learn) (1.1.1)\n",
      "Requirement already satisfied: threadpoolctl>=2.0.0 in c:\\users\\saesh\\anaconda3\\lib\\site-packages (from scikit-learn) (2.2.0)\n",
      "Requirement already satisfied: scipy>=1.5.0 in c:\\users\\saesh\\anaconda3\\lib\\site-packages (from scikit-learn) (1.10.0)\n",
      "Requirement already satisfied: numpy<2.0,>=1.17.3 in c:\\users\\saesh\\anaconda3\\lib\\site-packages (from scikit-learn) (1.23.5)\n",
      "Note: you may need to restart the kernel to use updated packages.\n"
     ]
    }
   ],
   "source": [
    "pip install scikit-learn\n"
   ]
  },
  {
   "cell_type": "code",
   "execution_count": 132,
   "id": "c728d59b",
   "metadata": {},
   "outputs": [
    {
     "name": "stdout",
     "output_type": "stream",
     "text": [
      "Requirement already satisfied: scikit-learn in c:\\users\\saesh\\anaconda3\\lib\\site-packages (1.3.2)\n",
      "Requirement already satisfied: numpy<2.0,>=1.17.3 in c:\\users\\saesh\\anaconda3\\lib\\site-packages (from scikit-learn) (1.23.5)\n",
      "Requirement already satisfied: threadpoolctl>=2.0.0 in c:\\users\\saesh\\anaconda3\\lib\\site-packages (from scikit-learn) (2.2.0)\n",
      "Requirement already satisfied: joblib>=1.1.1 in c:\\users\\saesh\\anaconda3\\lib\\site-packages (from scikit-learn) (1.1.1)\n",
      "Requirement already satisfied: scipy>=1.5.0 in c:\\users\\saesh\\anaconda3\\lib\\site-packages (from scikit-learn) (1.10.0)\n",
      "Note: you may need to restart the kernel to use updated packages.\n"
     ]
    }
   ],
   "source": [
    "pip install --upgrade scikit-learn\n"
   ]
  },
  {
   "cell_type": "code",
   "execution_count": 133,
   "id": "3abfd258",
   "metadata": {
    "scrolled": true
   },
   "outputs": [],
   "source": [
    "import pandas as pd\n",
    "import math\n",
    "import numpy as np\n",
    "import matplotlib.pyplot as plt\n",
    "import seaborn as sns\n",
    "from sklearn.model_selection import train_test_split\n",
    "from sklearn.svm import SVC\n",
    "from sklearn.metrics import roc_curve, auc, precision_recall_curve, confusion_matrix\n",
    "from sklearn.preprocessing import LabelEncoder, StandardScaler\n",
    "from sklearn.impute import SimpleImputer\n",
    "from sklearn.linear_model import LogisticRegression\n",
    "from sklearn.metrics import precision_recall_curve, average_precision_score\n",
    "from sklearn.calibration import calibration_curve\n",
    "from sklearn.tree import DecisionTreeClassifier\n",
    "from sklearn.tree import plot_tree\n",
    "from sklearn.preprocessing import StandardScaler\n",
    "from sklearn.model_selection import GridSearchCV\n",
    "from sklearn.model_selection import cross_val_score\n",
    "from sklearn.model_selection import learning_curve\n",
    "\n",
    "\n"
   ]
  },
  {
   "cell_type": "code",
   "execution_count": 134,
   "id": "b7633720",
   "metadata": {},
   "outputs": [],
   "source": [
    "# Load your dataset\n",
    "data = pd.read_csv('kidney_disease.csv')\n"
   ]
  },
  {
   "cell_type": "code",
   "execution_count": 135,
   "id": "fbe20639",
   "metadata": {},
   "outputs": [],
   "source": [
    "# Assuming your data has a binary target variable named 'classification'\n",
    "X = data.drop('classification', axis=1)\n",
    "y = data['classification']\n"
   ]
  },
  {
   "cell_type": "code",
   "execution_count": 136,
   "id": "b691bb26",
   "metadata": {},
   "outputs": [],
   "source": [
    "# Label encode categorical variables\n",
    "label_encoder = LabelEncoder()\n",
    "categorical_columns = X.select_dtypes(include=['object']).columns\n",
    "X[categorical_columns] = X[categorical_columns].apply(label_encoder.fit_transform)\n"
   ]
  },
  {
   "cell_type": "code",
   "execution_count": 137,
   "id": "c9ca2786",
   "metadata": {},
   "outputs": [],
   "source": [
    "# Split the data into training and testing sets\n",
    "X_train, X_test, y_train, y_test = train_test_split(X, y, test_size=0.2, random_state=42)\n"
   ]
  },
  {
   "cell_type": "code",
   "execution_count": 138,
   "id": "eeb9cb54",
   "metadata": {},
   "outputs": [],
   "source": [
    "# Impute missing values (replace with your preferred strategy)\n",
    "imputer = SimpleImputer(strategy='mean')\n",
    "X_train_imputed = imputer.fit_transform(X_train)\n",
    "X_test_imputed = imputer.transform(X_test)\n"
   ]
  },
  {
   "cell_type": "code",
   "execution_count": 139,
   "id": "bec8e32b",
   "metadata": {},
   "outputs": [],
   "source": [
    "# Handle missing values (replace NaN with the mean)\n",
    "X_train = X_train.fillna(X_train.mean())\n",
    "X_test = X_test.fillna(X_test.mean())\n"
   ]
  },
  {
   "cell_type": "code",
   "execution_count": 140,
   "id": "e7924879",
   "metadata": {},
   "outputs": [],
   "source": [
    "# Standardize features\n",
    "scaler = StandardScaler()\n",
    "X_train_scaled = scaler.fit_transform(X_train_imputed)\n",
    "X_test_scaled = scaler.transform(X_test_imputed)\n"
   ]
  },
  {
   "cell_type": "code",
   "execution_count": 141,
   "id": "5030fe4e",
   "metadata": {},
   "outputs": [],
   "source": [
    "# Logistic Regression with balanced class weights\n",
    "logreg_model = LogisticRegression(class_weight='balanced', max_iter=5000)  # Increase max_iter to 5000 or a higher value\n"
   ]
  },
  {
   "cell_type": "code",
   "execution_count": 142,
   "id": "f69258cf",
   "metadata": {},
   "outputs": [],
   "source": [
    "# Logistic Regression with balanced class weights\n",
    "logreg_model = LogisticRegression(class_weight='balanced', max_iter=1000)\n"
   ]
  },
  {
   "cell_type": "code",
   "execution_count": 143,
   "id": "7b879259",
   "metadata": {},
   "outputs": [
    {
     "data": {
      "text/html": [
       "<style>#sk-container-id-1 {color: black;}#sk-container-id-1 pre{padding: 0;}#sk-container-id-1 div.sk-toggleable {background-color: white;}#sk-container-id-1 label.sk-toggleable__label {cursor: pointer;display: block;width: 100%;margin-bottom: 0;padding: 0.3em;box-sizing: border-box;text-align: center;}#sk-container-id-1 label.sk-toggleable__label-arrow:before {content: \"▸\";float: left;margin-right: 0.25em;color: #696969;}#sk-container-id-1 label.sk-toggleable__label-arrow:hover:before {color: black;}#sk-container-id-1 div.sk-estimator:hover label.sk-toggleable__label-arrow:before {color: black;}#sk-container-id-1 div.sk-toggleable__content {max-height: 0;max-width: 0;overflow: hidden;text-align: left;background-color: #f0f8ff;}#sk-container-id-1 div.sk-toggleable__content pre {margin: 0.2em;color: black;border-radius: 0.25em;background-color: #f0f8ff;}#sk-container-id-1 input.sk-toggleable__control:checked~div.sk-toggleable__content {max-height: 200px;max-width: 100%;overflow: auto;}#sk-container-id-1 input.sk-toggleable__control:checked~label.sk-toggleable__label-arrow:before {content: \"▾\";}#sk-container-id-1 div.sk-estimator input.sk-toggleable__control:checked~label.sk-toggleable__label {background-color: #d4ebff;}#sk-container-id-1 div.sk-label input.sk-toggleable__control:checked~label.sk-toggleable__label {background-color: #d4ebff;}#sk-container-id-1 input.sk-hidden--visually {border: 0;clip: rect(1px 1px 1px 1px);clip: rect(1px, 1px, 1px, 1px);height: 1px;margin: -1px;overflow: hidden;padding: 0;position: absolute;width: 1px;}#sk-container-id-1 div.sk-estimator {font-family: monospace;background-color: #f0f8ff;border: 1px dotted black;border-radius: 0.25em;box-sizing: border-box;margin-bottom: 0.5em;}#sk-container-id-1 div.sk-estimator:hover {background-color: #d4ebff;}#sk-container-id-1 div.sk-parallel-item::after {content: \"\";width: 100%;border-bottom: 1px solid gray;flex-grow: 1;}#sk-container-id-1 div.sk-label:hover label.sk-toggleable__label {background-color: #d4ebff;}#sk-container-id-1 div.sk-serial::before {content: \"\";position: absolute;border-left: 1px solid gray;box-sizing: border-box;top: 0;bottom: 0;left: 50%;z-index: 0;}#sk-container-id-1 div.sk-serial {display: flex;flex-direction: column;align-items: center;background-color: white;padding-right: 0.2em;padding-left: 0.2em;position: relative;}#sk-container-id-1 div.sk-item {position: relative;z-index: 1;}#sk-container-id-1 div.sk-parallel {display: flex;align-items: stretch;justify-content: center;background-color: white;position: relative;}#sk-container-id-1 div.sk-item::before, #sk-container-id-1 div.sk-parallel-item::before {content: \"\";position: absolute;border-left: 1px solid gray;box-sizing: border-box;top: 0;bottom: 0;left: 50%;z-index: -1;}#sk-container-id-1 div.sk-parallel-item {display: flex;flex-direction: column;z-index: 1;position: relative;background-color: white;}#sk-container-id-1 div.sk-parallel-item:first-child::after {align-self: flex-end;width: 50%;}#sk-container-id-1 div.sk-parallel-item:last-child::after {align-self: flex-start;width: 50%;}#sk-container-id-1 div.sk-parallel-item:only-child::after {width: 0;}#sk-container-id-1 div.sk-dashed-wrapped {border: 1px dashed gray;margin: 0 0.4em 0.5em 0.4em;box-sizing: border-box;padding-bottom: 0.4em;background-color: white;}#sk-container-id-1 div.sk-label label {font-family: monospace;font-weight: bold;display: inline-block;line-height: 1.2em;}#sk-container-id-1 div.sk-label-container {text-align: center;}#sk-container-id-1 div.sk-container {/* jupyter's `normalize.less` sets `[hidden] { display: none; }` but bootstrap.min.css set `[hidden] { display: none !important; }` so we also need the `!important` here to be able to override the default hidden behavior on the sphinx rendered scikit-learn.org. See: https://github.com/scikit-learn/scikit-learn/issues/21755 */display: inline-block !important;position: relative;}#sk-container-id-1 div.sk-text-repr-fallback {display: none;}</style><div id=\"sk-container-id-1\" class=\"sk-top-container\"><div class=\"sk-text-repr-fallback\"><pre>LogisticRegression(class_weight=&#x27;balanced&#x27;, max_iter=1000)</pre><b>In a Jupyter environment, please rerun this cell to show the HTML representation or trust the notebook. <br />On GitHub, the HTML representation is unable to render, please try loading this page with nbviewer.org.</b></div><div class=\"sk-container\" hidden><div class=\"sk-item\"><div class=\"sk-estimator sk-toggleable\"><input class=\"sk-toggleable__control sk-hidden--visually\" id=\"sk-estimator-id-1\" type=\"checkbox\" checked><label for=\"sk-estimator-id-1\" class=\"sk-toggleable__label sk-toggleable__label-arrow\">LogisticRegression</label><div class=\"sk-toggleable__content\"><pre>LogisticRegression(class_weight=&#x27;balanced&#x27;, max_iter=1000)</pre></div></div></div></div></div>"
      ],
      "text/plain": [
       "LogisticRegression(class_weight='balanced', max_iter=1000)"
      ]
     },
     "execution_count": 143,
     "metadata": {},
     "output_type": "execute_result"
    }
   ],
   "source": [
    "# Fit the model\n",
    "logreg_model.fit(X_train_scaled, y_train)\n"
   ]
  },
  {
   "cell_type": "code",
   "execution_count": 144,
   "id": "3af287c2",
   "metadata": {},
   "outputs": [],
   "source": [
    "# Predict probabilities on the test set\n",
    "y_probs = logreg_model.predict_proba(X_test_scaled)[:, 1]\n"
   ]
  },
  {
   "cell_type": "code",
   "execution_count": 145,
   "id": "7adb7ce4",
   "metadata": {},
   "outputs": [
    {
     "data": {
      "text/plain": [
       "<matplotlib.legend.Legend at 0x29a4f0b1570>"
      ]
     },
     "execution_count": 145,
     "metadata": {},
     "output_type": "execute_result"
    },
    {
     "data": {
      "image/png": "[encoded data removed]",
      "text/plain": [
       "<Figure size 800x600 with 1 Axes>"
      ]
     },
     "metadata": {},
     "output_type": "display_data"
    }
   ],
   "source": [
    "# 1.Calibration Curve with matplotlib\n",
    "bins = 10\n",
    "fraction_of_positives, mean_predicted_value = [], []\n",
    "\n",
    "for threshold in np.linspace(0, 1, bins + 1):\n",
    "    bin_mask = (y_probs >= threshold) & (y_probs <= threshold + 1 / bins)\n",
    "    if np.sum(bin_mask) > 0:\n",
    "        fraction_of_positives.append(np.sum(y_test[bin_mask] == 1) / np.sum(bin_mask))\n",
    "        mean_predicted_value.append(np.mean(y_probs[bin_mask]))\n",
    "\n",
    "plt.figure(figsize=(8, 6))\n",
    "plt.plot(mean_predicted_value, fraction_of_positives, marker='o', linestyle='--', color='darkorange', label='Calibration Curve')\n",
    "plt.plot([0, 1], [0, 1], linestyle='--', color='navy', label='Perfectly Calibrated')\n",
    "plt.xlabel('Mean Predicted Probability')\n",
    "plt.ylabel('Fraction of Positives')\n",
    "plt.title('Calibration Curve')\n",
    "plt.legend(loc='best')\n"
   ]
  },
  {
   "cell_type": "code",
   "execution_count": 146,
   "id": "f0bdc128",
   "metadata": {},
   "outputs": [],
   "source": [
    "# Convert 'classification' to binary (assuming 'ckd' is the positive class)\n",
    "y_true_binary = (y_test == 'ckd').astype(int)\n"
   ]
  },
  {
   "cell_type": "code",
   "execution_count": 147,
   "id": "d08d95f2",
   "metadata": {},
   "outputs": [],
   "source": [
    "# Calculate ROC curve and AUC\n",
    "fpr, tpr, thresholds = roc_curve(y_true_binary, y_probs)\n",
    "roc_auc = auc(fpr, tpr)\n"
   ]
  },
  {
   "cell_type": "code",
   "execution_count": 148,
   "id": "186460e4",
   "metadata": {},
   "outputs": [
    {
     "data": {
      "image/png": "[encoded data removed]",
      "text/plain": [
       "<Figure size 800x600 with 1 Axes>"
      ]
     },
     "metadata": {},
     "output_type": "display_data"
    }
   ],
   "source": [
    "# 2.Plot ROC Curve\n",
    "plt.figure(figsize=(8, 6))\n",
    "plt.plot(fpr, tpr, color='darkorange', lw=2, label=f'AUC = {roc_auc:.2f}')\n",
    "plt.plot([0, 1], [0, 1], color='navy', lw=2, linestyle='--')\n",
    "plt.xlabel('False Positive Rate')\n",
    "plt.ylabel('True Positive Rate')\n",
    "plt.title('ROC Curve')\n",
    "plt.legend(loc=\"lower right\")\n",
    "plt.show()"
   ]
  },
  {
   "cell_type": "code",
   "execution_count": 149,
   "id": "b54a6e8d",
   "metadata": {},
   "outputs": [
    {
     "data": {
      "image/png": "[encoded data removed]",
      "text/plain": [
       "<Figure size 800x600 with 1 Axes>"
      ]
     },
     "metadata": {},
     "output_type": "display_data"
    }
   ],
   "source": [
    "# 3. Precision-Recall Curve\n",
    "# Convert 'classification' to binary (assuming 'ckd' is the positive class)\n",
    "y_test_binary = (y_test == 'ckd').astype(int)\n",
    "precision, recall, thresholds = precision_recall_curve(y_test_binary, y_probs)\n",
    "\n",
    "plt.figure(figsize=(8, 6))\n",
    "plt.plot(recall, precision, color='darkorange', lw=2, label='Precision-Recall Curve')\n",
    "plt.xlabel('Recall')\n",
    "plt.ylabel('Precision')\n",
    "plt.title('Precision-Recall Curve')\n",
    "plt.legend(loc='best')\n",
    "plt.show()\n"
   ]
  },
  {
   "cell_type": "code",
   "execution_count": 150,
   "id": "3f570dad",
   "metadata": {},
   "outputs": [
    {
     "data": {
      "image/png": "[encoded data removed]",
      "text/plain": [
       "<Figure size 800x600 with 2 Axes>"
      ]
     },
     "metadata": {},
     "output_type": "display_data"
    }
   ],
   "source": [
    "# 4. Confusion Matrix Heatmap\n",
    "y_pred = logreg_model.predict(X_test_scaled)\n",
    "conf_mat = confusion_matrix(y_test, y_pred)\n",
    "\n",
    "plt.figure(figsize=(8, 6))\n",
    "sns.heatmap(conf_mat, annot=True, fmt='d', cmap=\"Blues\", xticklabels=['Class 0', 'Class 1'], yticklabels=['Class 0', 'Class 1'])\n",
    "plt.title(\"Confusion Matrix (Test Set)\")\n",
    "plt.xlabel('Predicted Label')\n",
    "plt.ylabel('True Label')\n",
    "plt.show()"
   ]
  },
  {
   "cell_type": "markdown",
   "id": "5c4e6a4d",
   "metadata": {},
   "source": [
    "2.Support Vector Machine"
   ]
  },
  {
   "cell_type": "code",
   "execution_count": 151,
   "id": "6b95a37a",
   "metadata": {},
   "outputs": [],
   "source": [
    "# Support Vector Machine (SVM)\n",
    "svm_model = SVC(probability=True)\n"
   ]
  },
  {
   "cell_type": "code",
   "execution_count": 152,
   "id": "9aae9fab",
   "metadata": {},
   "outputs": [
    {
     "data": {
      "text/html": [
       "<style>#sk-container-id-2 {color: black;}#sk-container-id-2 pre{padding: 0;}#sk-container-id-2 div.sk-toggleable {background-color: white;}#sk-container-id-2 label.sk-toggleable__label {cursor: pointer;display: block;width: 100%;margin-bottom: 0;padding: 0.3em;box-sizing: border-box;text-align: center;}#sk-container-id-2 label.sk-toggleable__label-arrow:before {content: \"▸\";float: left;margin-right: 0.25em;color: #696969;}#sk-container-id-2 label.sk-toggleable__label-arrow:hover:before {color: black;}#sk-container-id-2 div.sk-estimator:hover label.sk-toggleable__label-arrow:before {color: black;}#sk-container-id-2 div.sk-toggleable__content {max-height: 0;max-width: 0;overflow: hidden;text-align: left;background-color: #f0f8ff;}#sk-container-id-2 div.sk-toggleable__content pre {margin: 0.2em;color: black;border-radius: 0.25em;background-color: #f0f8ff;}#sk-container-id-2 input.sk-toggleable__control:checked~div.sk-toggleable__content {max-height: 200px;max-width: 100%;overflow: auto;}#sk-container-id-2 input.sk-toggleable__control:checked~label.sk-toggleable__label-arrow:before {content: \"▾\";}#sk-container-id-2 div.sk-estimator input.sk-toggleable__control:checked~label.sk-toggleable__label {background-color: #d4ebff;}#sk-container-id-2 div.sk-label input.sk-toggleable__control:checked~label.sk-toggleable__label {background-color: #d4ebff;}#sk-container-id-2 input.sk-hidden--visually {border: 0;clip: rect(1px 1px 1px 1px);clip: rect(1px, 1px, 1px, 1px);height: 1px;margin: -1px;overflow: hidden;padding: 0;position: absolute;width: 1px;}#sk-container-id-2 div.sk-estimator {font-family: monospace;background-color: #f0f8ff;border: 1px dotted black;border-radius: 0.25em;box-sizing: border-box;margin-bottom: 0.5em;}#sk-container-id-2 div.sk-estimator:hover {background-color: #d4ebff;}#sk-container-id-2 div.sk-parallel-item::after {content: \"\";width: 100%;border-bottom: 1px solid gray;flex-grow: 1;}#sk-container-id-2 div.sk-label:hover label.sk-toggleable__label {background-color: #d4ebff;}#sk-container-id-2 div.sk-serial::before {content: \"\";position: absolute;border-left: 1px solid gray;box-sizing: border-box;top: 0;bottom: 0;left: 50%;z-index: 0;}#sk-container-id-2 div.sk-serial {display: flex;flex-direction: column;align-items: center;background-color: white;padding-right: 0.2em;padding-left: 0.2em;position: relative;}#sk-container-id-2 div.sk-item {position: relative;z-index: 1;}#sk-container-id-2 div.sk-parallel {display: flex;align-items: stretch;justify-content: center;background-color: white;position: relative;}#sk-container-id-2 div.sk-item::before, #sk-container-id-2 div.sk-parallel-item::before {content: \"\";position: absolute;border-left: 1px solid gray;box-sizing: border-box;top: 0;bottom: 0;left: 50%;z-index: -1;}#sk-container-id-2 div.sk-parallel-item {display: flex;flex-direction: column;z-index: 1;position: relative;background-color: white;}#sk-container-id-2 div.sk-parallel-item:first-child::after {align-self: flex-end;width: 50%;}#sk-container-id-2 div.sk-parallel-item:last-child::after {align-self: flex-start;width: 50%;}#sk-container-id-2 div.sk-parallel-item:only-child::after {width: 0;}#sk-container-id-2 div.sk-dashed-wrapped {border: 1px dashed gray;margin: 0 0.4em 0.5em 0.4em;box-sizing: border-box;padding-bottom: 0.4em;background-color: white;}#sk-container-id-2 div.sk-label label {font-family: monospace;font-weight: bold;display: inline-block;line-height: 1.2em;}#sk-container-id-2 div.sk-label-container {text-align: center;}#sk-container-id-2 div.sk-container {/* jupyter's `normalize.less` sets `[hidden] { display: none; }` but bootstrap.min.css set `[hidden] { display: none !important; }` so we also need the `!important` here to be able to override the default hidden behavior on the sphinx rendered scikit-learn.org. See: https://github.com/scikit-learn/scikit-learn/issues/21755 */display: inline-block !important;position: relative;}#sk-container-id-2 div.sk-text-repr-fallback {display: none;}</style><div id=\"sk-container-id-2\" class=\"sk-top-container\"><div class=\"sk-text-repr-fallback\"><pre>SVC(probability=True)</pre><b>In a Jupyter environment, please rerun this cell to show the HTML representation or trust the notebook. <br />On GitHub, the HTML representation is unable to render, please try loading this page with nbviewer.org.</b></div><div class=\"sk-container\" hidden><div class=\"sk-item\"><div class=\"sk-estimator sk-toggleable\"><input class=\"sk-toggleable__control sk-hidden--visually\" id=\"sk-estimator-id-2\" type=\"checkbox\" checked><label for=\"sk-estimator-id-2\" class=\"sk-toggleable__label sk-toggleable__label-arrow\">SVC</label><div class=\"sk-toggleable__content\"><pre>SVC(probability=True)</pre></div></div></div></div></div>"
      ],
      "text/plain": [
       "SVC(probability=True)"
      ]
     },
     "execution_count": 152,
     "metadata": {},
     "output_type": "execute_result"
    }
   ],
   "source": [
    "# Fit the model\n",
    "svm_model.fit(X_train_scaled, y_train)\n"
   ]
  },
  {
   "cell_type": "code",
   "execution_count": 153,
   "id": "b362413b",
   "metadata": {},
   "outputs": [],
   "source": [
    "# Predicted probabilities on the test set\n",
    "y_probs_svm = svm_model.predict_proba(X_test_scaled)[:, 1]\n"
   ]
  },
  {
   "cell_type": "code",
   "execution_count": 154,
   "id": "245c4b86",
   "metadata": {},
   "outputs": [],
   "source": [
    "# Convert 'classification' to binary (assuming 'ckd' is the positive class)\n",
    "y_test_binary = (y_test == 'ckd').astype(int)\n"
   ]
  },
  {
   "cell_type": "code",
   "execution_count": 155,
   "id": "c20af2fc",
   "metadata": {},
   "outputs": [],
   "source": [
    "# Convert predicted probabilities to binary predictions\n",
    "y_pred_svm = (y_probs_svm >= 0.5).astype(int)\n"
   ]
  },
  {
   "cell_type": "code",
   "execution_count": 156,
   "id": "a16943fe",
   "metadata": {},
   "outputs": [],
   "source": [
    "# Reshape arrays if needed\n",
    "y_test_binary = np.squeeze(np.asarray(y_test_binary))\n",
    "y_pred_svm = np.squeeze(np.asarray(y_pred_svm))\n"
   ]
  },
  {
   "cell_type": "code",
   "execution_count": 157,
   "id": "b8287413",
   "metadata": {},
   "outputs": [
    {
     "name": "stdout",
     "output_type": "stream",
     "text": [
      "[1 0 1 1 1 1 0 1 0 1 1 0 1 1 1 1 0 0 1 0 1 1 0 0 1 0 1 1 0 1 0 1 0 1 1 1 1\n",
      " 0 1 1 0 1 1 1 1 0 1 1 1 1 1 0 0 1 0 1 1 1 1 1 1 0 0 1 1 1 0 0 0 1 0 1 1 1\n",
      " 0 1 1 0 1 0]\n",
      "[0 0 0 0 0 0 0 0 0 0 0 0 0 0 0 0 0 0 0 0 0 0 0 0 0 0 0 0 0 0 0 0 0 0 0 0 0\n",
      " 0 0 0 0 0 0 0 0 0 0 0 0 0 0 0 0 0 0 0 0 0 0 0 0 0 0 0 0 0 0 0 0 0 0 0 0 0\n",
      " 0 0 0 0 0 0]\n"
     ]
    }
   ],
   "source": [
    "print(y_test_binary)\n",
    "print(y_pred_svm)\n"
   ]
  },
  {
   "cell_type": "code",
   "execution_count": 158,
   "id": "7bae9a52",
   "metadata": {},
   "outputs": [
    {
     "name": "stdout",
     "output_type": "stream",
     "text": [
      "Any NaN values in y_pred_svm: False\n"
     ]
    }
   ],
   "source": [
    "# Check for NaN values in y_pred_svm\n",
    "any_nan = any(math.isnan(val) for val in y_pred_svm)\n",
    "print(f\"Any NaN values in y_pred_svm: {any_nan}\")\n"
   ]
  },
  {
   "cell_type": "code",
   "execution_count": 159,
   "id": "f685b8b3",
   "metadata": {},
   "outputs": [
    {
     "name": "stdout",
     "output_type": "stream",
     "text": [
      "Any infinite values in y_pred_svm: False\n"
     ]
    }
   ],
   "source": [
    "# Check for infinite values in y_pred_svm\n",
    "any_inf = any(math.isinf(val) for val in y_pred_svm)\n",
    "print(f\"Any infinite values in y_pred_svm: {any_inf}\")\n"
   ]
  },
  {
   "cell_type": "code",
   "execution_count": 160,
   "id": "4c5436b9",
   "metadata": {},
   "outputs": [],
   "source": [
    "# Calculate confusion matrix\n",
    "conf_mat_svm = confusion_matrix(y_test_binary, y_pred_svm)\n"
   ]
  },
  {
   "cell_type": "code",
   "execution_count": 161,
   "id": "5bebeb8c",
   "metadata": {},
   "outputs": [
    {
     "data": {
      "image/png": "[encoded data removed]",
      "text/plain": [
       "<Figure size 800x600 with 1 Axes>"
      ]
     },
     "metadata": {},
     "output_type": "display_data"
    }
   ],
   "source": [
    "# 1. SVM Precision-Recall Curve\n",
    "precision_svm, recall_svm, thresholds_svm = precision_recall_curve(y_test_binary, y_probs_svm)\n",
    "\n",
    "plt.figure(figsize=(8, 6))\n",
    "plt.plot(recall_svm, precision_svm, color='darkorange', lw=2, label='SVM Precision-Recall Curve')\n",
    "plt.xlabel('Recall')\n",
    "plt.ylabel('Precision')\n",
    "plt.title('SVM Precision-Recall Curve')\n",
    "plt.legend(loc='best')\n",
    "plt.show()\n",
    "\n"
   ]
  },
  {
   "cell_type": "code",
   "execution_count": 162,
   "id": "cd06bf2a",
   "metadata": {},
   "outputs": [
    {
     "data": {
      "image/png": "[encoded data removed]",
      "text/plain": [
       "<Figure size 800x600 with 2 Axes>"
      ]
     },
     "metadata": {},
     "output_type": "display_data"
    }
   ],
   "source": [
    "#2.Plot Confusion Matrix Heatmap\n",
    "plt.figure(figsize=(8, 6))\n",
    "sns.heatmap(conf_mat_svm, annot=True, fmt='d', cmap=\"Blues\", xticklabels=['Class 0', 'Class 1'], yticklabels=['Class 0', 'Class 1'])\n",
    "plt.title(\"SVM Confusion Matrix (Test Set)\")\n",
    "plt.xlabel('Predicted Label')\n",
    "plt.ylabel('True Label')\n",
    "plt.show()\n"
   ]
  },
  {
   "cell_type": "code",
   "execution_count": 163,
   "id": "9a59605b",
   "metadata": {},
   "outputs": [],
   "source": [
    "# Calculate precision and recall\n",
    "precision_svm, recall_svm, thresholds_svm = precision_recall_curve(y_test_binary, y_probs_svm)\n"
   ]
  },
  {
   "cell_type": "code",
   "execution_count": 164,
   "id": "0ad88610",
   "metadata": {},
   "outputs": [],
   "source": [
    "# Calculate calibration curve\n",
    "prob_true, prob_pred = calibration_curve(y_test_binary, y_probs_svm, n_bins=10)\n"
   ]
  },
  {
   "cell_type": "code",
   "execution_count": 165,
   "id": "d5d16d36",
   "metadata": {},
   "outputs": [],
   "source": [
    "# Convert 'classification' to binary (assuming 'ckd' is the positive class)\n",
    "y_true_binary = (y_test == 'ckd').astype(int)\n"
   ]
  },
  {
   "cell_type": "code",
   "execution_count": 166,
   "id": "2d6ad851",
   "metadata": {},
   "outputs": [],
   "source": [
    "# Ensure 'y_probs' is the predicted probabilities for the positive class\n",
    "fpr_svm, tpr_svm, thresholds_svm = roc_curve(y_true_binary, y_probs_svm)\n",
    "roc_auc_svm = auc(fpr_svm, tpr_svm)\n"
   ]
  },
  {
   "cell_type": "code",
   "execution_count": 167,
   "id": "996d5409",
   "metadata": {},
   "outputs": [],
   "source": [
    "# Get calibrated probabilities\n",
    "prob_true_svm, prob_pred_svm = calibration_curve(y_true_binary, y_probs_svm, n_bins=10)\n"
   ]
  },
  {
   "cell_type": "code",
   "execution_count": 168,
   "id": "dd54914b",
   "metadata": {},
   "outputs": [
    {
     "data": {
      "image/png": "[encoded data removed]",
      "text/plain": [
       "<Figure size 800x600 with 1 Axes>"
      ]
     },
     "metadata": {},
     "output_type": "display_data"
    }
   ],
   "source": [
    "# 3.Plot ROC Curve\n",
    "plt.figure(figsize=(8, 6))\n",
    "plt.plot(fpr_svm, tpr_svm, color='darkorange', lw=2, label=f'AUC = {roc_auc_svm:.2f}')\n",
    "plt.plot([0, 1], [0, 1], color='navy', lw=2, linestyle='--')\n",
    "plt.xlabel('False Positive Rate')\n",
    "plt.ylabel('True Positive Rate')\n",
    "plt.title('SVM ROC Curve')\n",
    "plt.legend(loc=\"lower right\")\n",
    "plt.show()\n"
   ]
  },
  {
   "cell_type": "code",
   "execution_count": 169,
   "id": "5ae6f9a2",
   "metadata": {},
   "outputs": [
    {
     "data": {
      "image/png": "[encoded data removed]",
      "text/plain": [
       "<Figure size 800x600 with 1 Axes>"
      ]
     },
     "metadata": {},
     "output_type": "display_data"
    }
   ],
   "source": [
    "# 4.Plot Calibration Curve\n",
    "plt.figure(figsize=(8, 6))\n",
    "plt.plot(prob_pred_svm, prob_true_svm, marker='o', linestyle='-', color='darkorange', label='SVM Calibration Curve')\n",
    "plt.plot([0, 1], [0, 1], linestyle='--', color='navy', label='Perfectly Calibrated')\n",
    "plt.xlabel('Mean Predicted Probability')\n",
    "plt.ylabel('Fraction of Positives')\n",
    "plt.title('SVM Calibration Curve')\n",
    "plt.legend(loc='best')\n",
    "plt.show()"
   ]
  },
  {
   "cell_type": "markdown",
   "id": "04504c76",
   "metadata": {},
   "source": [
    "3.Decision Tree"
   ]
  },
  {
   "cell_type": "code",
   "execution_count": 170,
   "id": "939eb6a7",
   "metadata": {},
   "outputs": [],
   "source": [
    "# Decision Tree\n",
    "dt_model = DecisionTreeClassifier(random_state=42)\n"
   ]
  },
  {
   "cell_type": "code",
   "execution_count": 171,
   "id": "69ac35c0",
   "metadata": {},
   "outputs": [],
   "source": [
    "# Assuming your data has a binary target variable named 'classification'\n",
    "X = data.drop('classification', axis=1)\n",
    "y = data['classification']\n"
   ]
  },
  {
   "cell_type": "code",
   "execution_count": 172,
   "id": "cb2ce7e0",
   "metadata": {},
   "outputs": [],
   "source": [
    "# Label encode categorical variables\n",
    "label_encoder = LabelEncoder()\n",
    "categorical_columns = X.select_dtypes(include=['object']).columns\n",
    "X[categorical_columns] = X[categorical_columns].apply(label_encoder.fit_transform)\n"
   ]
  },
  {
   "cell_type": "code",
   "execution_count": 173,
   "id": "8f475c82",
   "metadata": {},
   "outputs": [],
   "source": [
    "# Convert 'classification' to binary (assuming 'ckd' is the positive class)\n",
    "y_binary = (y == 'ckd').astype(int)\n"
   ]
  },
  {
   "cell_type": "code",
   "execution_count": 174,
   "id": "b3ec7ed9",
   "metadata": {},
   "outputs": [],
   "source": [
    "# Split the data into training and testing sets\n",
    "X_train, X_test, y_train, y_test = train_test_split(X, y_binary, test_size=0.2, random_state=42)\n"
   ]
  },
  {
   "cell_type": "code",
   "execution_count": 175,
   "id": "af084746",
   "metadata": {},
   "outputs": [],
   "source": [
    "# Handle missing values (replace NaN with the mean)\n",
    "X_train = X_train.fillna(X_train.mean())\n",
    "X_test = X_test.fillna(X_test.mean())\n"
   ]
  },
  {
   "cell_type": "code",
   "execution_count": 176,
   "id": "901123de",
   "metadata": {},
   "outputs": [
    {
     "data": {
      "text/html": [
       "<style>#sk-container-id-3 {color: black;}#sk-container-id-3 pre{padding: 0;}#sk-container-id-3 div.sk-toggleable {background-color: white;}#sk-container-id-3 label.sk-toggleable__label {cursor: pointer;display: block;width: 100%;margin-bottom: 0;padding: 0.3em;box-sizing: border-box;text-align: center;}#sk-container-id-3 label.sk-toggleable__label-arrow:before {content: \"▸\";float: left;margin-right: 0.25em;color: #696969;}#sk-container-id-3 label.sk-toggleable__label-arrow:hover:before {color: black;}#sk-container-id-3 div.sk-estimator:hover label.sk-toggleable__label-arrow:before {color: black;}#sk-container-id-3 div.sk-toggleable__content {max-height: 0;max-width: 0;overflow: hidden;text-align: left;background-color: #f0f8ff;}#sk-container-id-3 div.sk-toggleable__content pre {margin: 0.2em;color: black;border-radius: 0.25em;background-color: #f0f8ff;}#sk-container-id-3 input.sk-toggleable__control:checked~div.sk-toggleable__content {max-height: 200px;max-width: 100%;overflow: auto;}#sk-container-id-3 input.sk-toggleable__control:checked~label.sk-toggleable__label-arrow:before {content: \"▾\";}#sk-container-id-3 div.sk-estimator input.sk-toggleable__control:checked~label.sk-toggleable__label {background-color: #d4ebff;}#sk-container-id-3 div.sk-label input.sk-toggleable__control:checked~label.sk-toggleable__label {background-color: #d4ebff;}#sk-container-id-3 input.sk-hidden--visually {border: 0;clip: rect(1px 1px 1px 1px);clip: rect(1px, 1px, 1px, 1px);height: 1px;margin: -1px;overflow: hidden;padding: 0;position: absolute;width: 1px;}#sk-container-id-3 div.sk-estimator {font-family: monospace;background-color: #f0f8ff;border: 1px dotted black;border-radius: 0.25em;box-sizing: border-box;margin-bottom: 0.5em;}#sk-container-id-3 div.sk-estimator:hover {background-color: #d4ebff;}#sk-container-id-3 div.sk-parallel-item::after {content: \"\";width: 100%;border-bottom: 1px solid gray;flex-grow: 1;}#sk-container-id-3 div.sk-label:hover label.sk-toggleable__label {background-color: #d4ebff;}#sk-container-id-3 div.sk-serial::before {content: \"\";position: absolute;border-left: 1px solid gray;box-sizing: border-box;top: 0;bottom: 0;left: 50%;z-index: 0;}#sk-container-id-3 div.sk-serial {display: flex;flex-direction: column;align-items: center;background-color: white;padding-right: 0.2em;padding-left: 0.2em;position: relative;}#sk-container-id-3 div.sk-item {position: relative;z-index: 1;}#sk-container-id-3 div.sk-parallel {display: flex;align-items: stretch;justify-content: center;background-color: white;position: relative;}#sk-container-id-3 div.sk-item::before, #sk-container-id-3 div.sk-parallel-item::before {content: \"\";position: absolute;border-left: 1px solid gray;box-sizing: border-box;top: 0;bottom: 0;left: 50%;z-index: -1;}#sk-container-id-3 div.sk-parallel-item {display: flex;flex-direction: column;z-index: 1;position: relative;background-color: white;}#sk-container-id-3 div.sk-parallel-item:first-child::after {align-self: flex-end;width: 50%;}#sk-container-id-3 div.sk-parallel-item:last-child::after {align-self: flex-start;width: 50%;}#sk-container-id-3 div.sk-parallel-item:only-child::after {width: 0;}#sk-container-id-3 div.sk-dashed-wrapped {border: 1px dashed gray;margin: 0 0.4em 0.5em 0.4em;box-sizing: border-box;padding-bottom: 0.4em;background-color: white;}#sk-container-id-3 div.sk-label label {font-family: monospace;font-weight: bold;display: inline-block;line-height: 1.2em;}#sk-container-id-3 div.sk-label-container {text-align: center;}#sk-container-id-3 div.sk-container {/* jupyter's `normalize.less` sets `[hidden] { display: none; }` but bootstrap.min.css set `[hidden] { display: none !important; }` so we also need the `!important` here to be able to override the default hidden behavior on the sphinx rendered scikit-learn.org. See: https://github.com/scikit-learn/scikit-learn/issues/21755 */display: inline-block !important;position: relative;}#sk-container-id-3 div.sk-text-repr-fallback {display: none;}</style><div id=\"sk-container-id-3\" class=\"sk-top-container\"><div class=\"sk-text-repr-fallback\"><pre>DecisionTreeClassifier(random_state=42)</pre><b>In a Jupyter environment, please rerun this cell to show the HTML representation or trust the notebook. <br />On GitHub, the HTML representation is unable to render, please try loading this page with nbviewer.org.</b></div><div class=\"sk-container\" hidden><div class=\"sk-item\"><div class=\"sk-estimator sk-toggleable\"><input class=\"sk-toggleable__control sk-hidden--visually\" id=\"sk-estimator-id-3\" type=\"checkbox\" checked><label for=\"sk-estimator-id-3\" class=\"sk-toggleable__label sk-toggleable__label-arrow\">DecisionTreeClassifier</label><div class=\"sk-toggleable__content\"><pre>DecisionTreeClassifier(random_state=42)</pre></div></div></div></div></div>"
      ],
      "text/plain": [
       "DecisionTreeClassifier(random_state=42)"
      ]
     },
     "execution_count": 176,
     "metadata": {},
     "output_type": "execute_result"
    }
   ],
   "source": [
    "# Fit the model\n",
    "dt_model.fit(X_train, y_train)\n"
   ]
  },
  {
   "cell_type": "code",
   "execution_count": 177,
   "id": "20cb319c",
   "metadata": {},
   "outputs": [],
   "source": [
    "# Predicted probabilities on the test set\n",
    "y_probs_dt = dt_model.predict_proba(X_test)[:, 1]\n"
   ]
  },
  {
   "cell_type": "code",
   "execution_count": 178,
   "id": "7beae96c",
   "metadata": {},
   "outputs": [],
   "source": [
    "# Predicted labels\n",
    "y_pred_dt = dt_model.predict(X_test)\n"
   ]
  },
  {
   "cell_type": "code",
   "execution_count": 179,
   "id": "222041ab",
   "metadata": {},
   "outputs": [],
   "source": [
    "# Decision Tree ROC Curve\n",
    "fpr_dt, tpr_dt, thresholds_dt = roc_curve(y_true_binary, y_probs_dt)\n",
    "roc_auc_dt = auc(fpr_dt, tpr_dt)\n"
   ]
  },
  {
   "cell_type": "code",
   "execution_count": 180,
   "id": "7724c648",
   "metadata": {},
   "outputs": [],
   "source": [
    "# Decision Tree Calibration Curve\n",
    "prob_true_dt, prob_pred_dt = calibration_curve(y_true_binary, y_probs_dt, n_bins=10)\n"
   ]
  },
  {
   "cell_type": "code",
   "execution_count": 181,
   "id": "fcf3cc51",
   "metadata": {},
   "outputs": [
    {
     "data": {
      "text/plain": [
       "<Figure size 1200x600 with 0 Axes>"
      ]
     },
     "execution_count": 181,
     "metadata": {},
     "output_type": "execute_result"
    },
    {
     "data": {
      "text/plain": [
       "<Figure size 1200x600 with 0 Axes>"
      ]
     },
     "metadata": {},
     "output_type": "display_data"
    }
   ],
   "source": [
    "# Plot ROC Curve and Calibration Curve\n",
    "plt.figure(figsize=(12, 6))\n"
   ]
  },
  {
   "cell_type": "code",
   "execution_count": 182,
   "id": "c5dd54fb",
   "metadata": {},
   "outputs": [
    {
     "data": {
      "image/png": "[encoded data removed]",
      "text/plain": [
       "<Figure size 800x600 with 1 Axes>"
      ]
     },
     "metadata": {},
     "output_type": "display_data"
    }
   ],
   "source": [
    "# 1.Calibration Curve\n",
    "plt.figure(figsize=(8, 6))\n",
    "plt.plot(prob_pred_dt, prob_true_dt, marker='o', linestyle='-', color='darkorange', label='DT Calibration Curve')\n",
    "plt.plot([0, 1], [0, 1], linestyle='--', color='navy', label='Perfectly Calibrated')\n",
    "plt.xlabel('Mean Predicted Probability')\n",
    "plt.ylabel('Fraction of Positives')\n",
    "plt.title('Decision Tree Calibration Curve')\n",
    "plt.legend(loc='best')\n",
    "\n",
    "plt.tight_layout()\n",
    "plt.show()"
   ]
  },
  {
   "cell_type": "code",
   "execution_count": 183,
   "id": "70edc6a4",
   "metadata": {},
   "outputs": [
    {
     "data": {
      "image/png": "[encoded data removed]",
      "text/plain": [
       "<Figure size 800x600 with 1 Axes>"
      ]
     },
     "metadata": {},
     "output_type": "display_data"
    }
   ],
   "source": [
    "# 2. Decision Tree ROC Curve\n",
    "fpr_dt, tpr_dt, thresholds_dt = roc_curve(y_test_binary, y_probs_dt)\n",
    "roc_auc_dt = auc(fpr_dt, tpr_dt)\n",
    "\n",
    "plt.figure(figsize=(8, 6))\n",
    "plt.plot(fpr_dt, tpr_dt, color='darkorange', lw=2, label=f'AUC = {roc_auc_dt:.2f}')\n",
    "plt.plot([0, 1], [0, 1], color='navy', lw=2, linestyle='--')\n",
    "plt.xlabel('False Positive Rate')\n",
    "plt.ylabel('True Positive Rate')\n",
    "plt.title('Decision Tree ROC Curve')\n",
    "plt.legend(loc=\"lower right\")\n",
    "plt.show()\n",
    "\n"
   ]
  },
  {
   "cell_type": "code",
   "execution_count": 184,
   "id": "057fa756",
   "metadata": {},
   "outputs": [],
   "source": [
    "#Decision Tree Precision-Recall Curve\n",
    "precision_dt, recall_dt, thresholds_dt = precision_recall_curve(y_test_binary, y_probs_dt)\n"
   ]
  },
  {
   "cell_type": "code",
   "execution_count": 185,
   "id": "bde4ad88",
   "metadata": {},
   "outputs": [],
   "source": [
    "#Calculate AUC and AP\n",
    "auc_dt = auc(recall_dt, precision_dt)\n",
    "ap_dt = average_precision_score(y_test_binary, y_probs_dt)\n"
   ]
  },
  {
   "cell_type": "code",
   "execution_count": 186,
   "id": "53d52bb4",
   "metadata": {},
   "outputs": [
    {
     "data": {
      "image/png": "[encoded data removed]",
      "text/plain": [
       "<Figure size 800x600 with 1 Axes>"
      ]
     },
     "metadata": {},
     "output_type": "display_data"
    }
   ],
   "source": [
    "# 3. Plot Precision-Recall Curve with AUC and AP\n",
    "plt.figure(figsize=(8, 6))\n",
    "plt.plot(recall_dt, precision_dt, color='darkorange', lw=2, label=f'DT Precision-Recall Curve (AUC = {auc_dt:.2f}, AP = {ap_dt:.2f})')\n",
    "plt.xlabel('Recall')\n",
    "plt.ylabel('Precision')\n",
    "plt.title('Decision Tree Precision-Recall Curve')\n",
    "plt.legend(loc='best')\n",
    "plt.show()"
   ]
  },
  {
   "cell_type": "code",
   "execution_count": 187,
   "id": "1e2e6a9f",
   "metadata": {},
   "outputs": [
    {
     "data": {
      "image/png": "[encoded data removed]",
      "text/plain": [
       "<Figure size 800x600 with 2 Axes>"
      ]
     },
     "metadata": {},
     "output_type": "display_data"
    }
   ],
   "source": [
    "# 4. Decision Tree Confusion Matrix Heatmap\n",
    "conf_mat_dt = confusion_matrix(y_test, y_pred_dt)\n",
    "\n",
    "plt.figure(figsize=(8, 6))\n",
    "sns.heatmap(conf_mat_dt, annot=True, fmt='d', cmap=\"Blues\", xticklabels=['Class 0', 'Class 1'], yticklabels=['Class 0', 'Class 1'])\n",
    "plt.title(\"Decision Tree Confusion Matrix (Test Set)\")\n",
    "plt.xlabel('Predicted Label')\n",
    "plt.ylabel('True Label')\n",
    "plt.show()\n"
   ]
  },
  {
   "cell_type": "markdown",
   "id": "960356b1",
   "metadata": {},
   "source": [
    "4.Comparison "
   ]
  },
  {
   "cell_type": "code",
   "execution_count": 188,
   "id": "59439797",
   "metadata": {},
   "outputs": [],
   "source": [
    "# Assuming your data has a binary target variable named 'classification'\n",
    "X = data.drop('classification', axis=1)\n",
    "y = data['classification']\n"
   ]
  },
  {
   "cell_type": "code",
   "execution_count": 189,
   "id": "66b8d948",
   "metadata": {
    "scrolled": true
   },
   "outputs": [],
   "source": [
    "# Separate numeric and categorical columns\n",
    "numeric_columns = X.select_dtypes(include=np.number).columns\n",
    "categorical_columns = X.select_dtypes(exclude=np.number).columns\n"
   ]
  },
  {
   "cell_type": "code",
   "execution_count": 190,
   "id": "5ad6afc5",
   "metadata": {},
   "outputs": [],
   "source": [
    "# Handle missing values for numeric columns (replace NaN with the mean)\n",
    "numeric_imputer = SimpleImputer(strategy='mean')\n",
    "X[numeric_columns] = numeric_imputer.fit_transform(X[numeric_columns])\n"
   ]
  },
  {
   "cell_type": "code",
   "execution_count": 191,
   "id": "7339ac4e",
   "metadata": {},
   "outputs": [],
   "source": [
    "# Handle missing values for categorical columns (replace NaN with the most frequent value)\n",
    "categorical_imputer = SimpleImputer(strategy='most_frequent')\n",
    "X[categorical_columns] = categorical_imputer.fit_transform(X[categorical_columns])\n"
   ]
  },
  {
   "cell_type": "code",
   "execution_count": 192,
   "id": "edf38f24",
   "metadata": {},
   "outputs": [],
   "source": [
    "# Assuming your data has categorical columns, encode them\n",
    "X_encoded = pd.get_dummies(X, columns=categorical_columns)\n"
   ]
  },
  {
   "cell_type": "code",
   "execution_count": 193,
   "id": "42598273",
   "metadata": {},
   "outputs": [],
   "source": [
    "# Feature scaling\n",
    "scaler = StandardScaler()\n",
    "X_scaled = scaler.fit_transform(X_encoded)\n"
   ]
  },
  {
   "cell_type": "code",
   "execution_count": 194,
   "id": "d996c358",
   "metadata": {},
   "outputs": [],
   "source": [
    "# Convert 'classification' to binary (assuming 'ckd' is the positive class)\n",
    "y_binary = (y == 'ckd').astype(int)\n"
   ]
  },
  {
   "cell_type": "code",
   "execution_count": 195,
   "id": "cf286a37",
   "metadata": {},
   "outputs": [],
   "source": [
    "# Convert 'classification' to binary (assuming 'ckd' is the positive class)\n",
    "y_binary = (y == 'ckd').astype(int)\n"
   ]
  },
  {
   "cell_type": "code",
   "execution_count": 196,
   "id": "1b5d3cce",
   "metadata": {},
   "outputs": [],
   "source": [
    "# Split the data into training and testing sets\n",
    "X_train, X_test, y_train, y_test = train_test_split(X_scaled, y_binary, test_size=0.2, random_state=42)\n"
   ]
  },
  {
   "cell_type": "code",
   "execution_count": 197,
   "id": "f4505836",
   "metadata": {},
   "outputs": [
    {
     "ename": "ValueError",
     "evalue": "X has 221 features, but LogisticRegression is expecting 25 features as input.",
     "output_type": "error",
     "traceback": [
      "\u001b[1;31m---------------------------------------------------------------------------\u001b[0m",
      "\u001b[1;31mValueError\u001b[0m                                Traceback (most recent call last)",
      "Cell \u001b[1;32mIn[197], line 2\u001b[0m\n\u001b[0;32m      1\u001b[0m \u001b[38;5;66;03m# Predicted probabilities on the test set\u001b[39;00m\n\u001b[1;32m----> 2\u001b[0m y_probs_logreg \u001b[38;5;241m=\u001b[39m \u001b[43mlogreg_model\u001b[49m\u001b[38;5;241;43m.\u001b[39;49m\u001b[43mpredict_proba\u001b[49m\u001b[43m(\u001b[49m\u001b[43mX_test\u001b[49m\u001b[43m)\u001b[49m[:, \u001b[38;5;241m1\u001b[39m]\n\u001b[0;32m      3\u001b[0m y_pred_logreg \u001b[38;5;241m=\u001b[39m logreg_model\u001b[38;5;241m.\u001b[39mpredict(X_test)\n",
      "File \u001b[1;32m~\\anaconda3\\lib\\site-packages\\sklearn\\linear_model\\_logistic.py:1386\u001b[0m, in \u001b[0;36mLogisticRegression.predict_proba\u001b[1;34m(self, X)\u001b[0m\n\u001b[0;32m   1384\u001b[0m     \u001b[38;5;28;01mreturn\u001b[39;00m \u001b[38;5;28msuper\u001b[39m()\u001b[38;5;241m.\u001b[39m_predict_proba_lr(X)\n\u001b[0;32m   1385\u001b[0m \u001b[38;5;28;01melse\u001b[39;00m:\n\u001b[1;32m-> 1386\u001b[0m     decision \u001b[38;5;241m=\u001b[39m \u001b[38;5;28;43mself\u001b[39;49m\u001b[38;5;241;43m.\u001b[39;49m\u001b[43mdecision_function\u001b[49m\u001b[43m(\u001b[49m\u001b[43mX\u001b[49m\u001b[43m)\u001b[49m\n\u001b[0;32m   1387\u001b[0m     \u001b[38;5;28;01mif\u001b[39;00m decision\u001b[38;5;241m.\u001b[39mndim \u001b[38;5;241m==\u001b[39m \u001b[38;5;241m1\u001b[39m:\n\u001b[0;32m   1388\u001b[0m         \u001b[38;5;66;03m# Workaround for multi_class=\"multinomial\" and binary outcomes\u001b[39;00m\n\u001b[0;32m   1389\u001b[0m         \u001b[38;5;66;03m# which requires softmax prediction with only a 1D decision.\u001b[39;00m\n\u001b[0;32m   1390\u001b[0m         decision_2d \u001b[38;5;241m=\u001b[39m np\u001b[38;5;241m.\u001b[39mc_[\u001b[38;5;241m-\u001b[39mdecision, decision]\n",
      "File \u001b[1;32m~\\anaconda3\\lib\\site-packages\\sklearn\\linear_model\\_base.py:432\u001b[0m, in \u001b[0;36mLinearClassifierMixin.decision_function\u001b[1;34m(self, X)\u001b[0m\n\u001b[0;32m    429\u001b[0m check_is_fitted(\u001b[38;5;28mself\u001b[39m)\n\u001b[0;32m    430\u001b[0m xp, _ \u001b[38;5;241m=\u001b[39m get_namespace(X)\n\u001b[1;32m--> 432\u001b[0m X \u001b[38;5;241m=\u001b[39m \u001b[38;5;28;43mself\u001b[39;49m\u001b[38;5;241;43m.\u001b[39;49m\u001b[43m_validate_data\u001b[49m\u001b[43m(\u001b[49m\u001b[43mX\u001b[49m\u001b[43m,\u001b[49m\u001b[43m \u001b[49m\u001b[43maccept_sparse\u001b[49m\u001b[38;5;241;43m=\u001b[39;49m\u001b[38;5;124;43m\"\u001b[39;49m\u001b[38;5;124;43mcsr\u001b[39;49m\u001b[38;5;124;43m\"\u001b[39;49m\u001b[43m,\u001b[49m\u001b[43m \u001b[49m\u001b[43mreset\u001b[49m\u001b[38;5;241;43m=\u001b[39;49m\u001b[38;5;28;43;01mFalse\u001b[39;49;00m\u001b[43m)\u001b[49m\n\u001b[0;32m    433\u001b[0m scores \u001b[38;5;241m=\u001b[39m safe_sparse_dot(X, \u001b[38;5;28mself\u001b[39m\u001b[38;5;241m.\u001b[39mcoef_\u001b[38;5;241m.\u001b[39mT, dense_output\u001b[38;5;241m=\u001b[39m\u001b[38;5;28;01mTrue\u001b[39;00m) \u001b[38;5;241m+\u001b[39m \u001b[38;5;28mself\u001b[39m\u001b[38;5;241m.\u001b[39mintercept_\n\u001b[0;32m    434\u001b[0m \u001b[38;5;28;01mreturn\u001b[39;00m xp\u001b[38;5;241m.\u001b[39mreshape(scores, (\u001b[38;5;241m-\u001b[39m\u001b[38;5;241m1\u001b[39m,)) \u001b[38;5;28;01mif\u001b[39;00m scores\u001b[38;5;241m.\u001b[39mshape[\u001b[38;5;241m1\u001b[39m] \u001b[38;5;241m==\u001b[39m \u001b[38;5;241m1\u001b[39m \u001b[38;5;28;01melse\u001b[39;00m scores\n",
      "File \u001b[1;32m~\\anaconda3\\lib\\site-packages\\sklearn\\base.py:626\u001b[0m, in \u001b[0;36mBaseEstimator._validate_data\u001b[1;34m(self, X, y, reset, validate_separately, cast_to_ndarray, **check_params)\u001b[0m\n\u001b[0;32m    623\u001b[0m     out \u001b[38;5;241m=\u001b[39m X, y\n\u001b[0;32m    625\u001b[0m \u001b[38;5;28;01mif\u001b[39;00m \u001b[38;5;129;01mnot\u001b[39;00m no_val_X \u001b[38;5;129;01mand\u001b[39;00m check_params\u001b[38;5;241m.\u001b[39mget(\u001b[38;5;124m\"\u001b[39m\u001b[38;5;124mensure_2d\u001b[39m\u001b[38;5;124m\"\u001b[39m, \u001b[38;5;28;01mTrue\u001b[39;00m):\n\u001b[1;32m--> 626\u001b[0m     \u001b[38;5;28;43mself\u001b[39;49m\u001b[38;5;241;43m.\u001b[39;49m\u001b[43m_check_n_features\u001b[49m\u001b[43m(\u001b[49m\u001b[43mX\u001b[49m\u001b[43m,\u001b[49m\u001b[43m \u001b[49m\u001b[43mreset\u001b[49m\u001b[38;5;241;43m=\u001b[39;49m\u001b[43mreset\u001b[49m\u001b[43m)\u001b[49m\n\u001b[0;32m    628\u001b[0m \u001b[38;5;28;01mreturn\u001b[39;00m out\n",
      "File \u001b[1;32m~\\anaconda3\\lib\\site-packages\\sklearn\\base.py:415\u001b[0m, in \u001b[0;36mBaseEstimator._check_n_features\u001b[1;34m(self, X, reset)\u001b[0m\n\u001b[0;32m    412\u001b[0m     \u001b[38;5;28;01mreturn\u001b[39;00m\n\u001b[0;32m    414\u001b[0m \u001b[38;5;28;01mif\u001b[39;00m n_features \u001b[38;5;241m!=\u001b[39m \u001b[38;5;28mself\u001b[39m\u001b[38;5;241m.\u001b[39mn_features_in_:\n\u001b[1;32m--> 415\u001b[0m     \u001b[38;5;28;01mraise\u001b[39;00m \u001b[38;5;167;01mValueError\u001b[39;00m(\n\u001b[0;32m    416\u001b[0m         \u001b[38;5;124mf\u001b[39m\u001b[38;5;124m\"\u001b[39m\u001b[38;5;124mX has \u001b[39m\u001b[38;5;132;01m{\u001b[39;00mn_features\u001b[38;5;132;01m}\u001b[39;00m\u001b[38;5;124m features, but \u001b[39m\u001b[38;5;132;01m{\u001b[39;00m\u001b[38;5;28mself\u001b[39m\u001b[38;5;241m.\u001b[39m\u001b[38;5;18m__class__\u001b[39m\u001b[38;5;241m.\u001b[39m\u001b[38;5;18m__name__\u001b[39m\u001b[38;5;132;01m}\u001b[39;00m\u001b[38;5;124m \u001b[39m\u001b[38;5;124m\"\u001b[39m\n\u001b[0;32m    417\u001b[0m         \u001b[38;5;124mf\u001b[39m\u001b[38;5;124m\"\u001b[39m\u001b[38;5;124mis expecting \u001b[39m\u001b[38;5;132;01m{\u001b[39;00m\u001b[38;5;28mself\u001b[39m\u001b[38;5;241m.\u001b[39mn_features_in_\u001b[38;5;132;01m}\u001b[39;00m\u001b[38;5;124m features as input.\u001b[39m\u001b[38;5;124m\"\u001b[39m\n\u001b[0;32m    418\u001b[0m     )\n",
      "\u001b[1;31mValueError\u001b[0m: X has 221 features, but LogisticRegression is expecting 25 features as input."
     ]
    }
   ],
   "source": [
    "# Predicted probabilities on the test set\n",
    "y_probs_logreg = logreg_model.predict_proba(X_test)[:, 1]\n",
    "y_pred_logreg = logreg_model.predict(X_test)\n"
   ]
  },
  {
   "cell_type": "code",
   "execution_count": null,
   "id": "9e851c44",
   "metadata": {},
   "outputs": [],
   "source": [
    "# Logistic Regression\n",
    "logreg_model = LogisticRegression(max_iter=1000)\n",
    "logreg_model.fit(X_train, y_train)\n",
    "y_probs_logreg = logreg_model.predict_proba(X_test)[:, 1]\n"
   ]
  },
  {
   "cell_type": "code",
   "execution_count": null,
   "id": "a436786e",
   "metadata": {},
   "outputs": [],
   "source": [
    "# Decision Tree\n",
    "dt_model = DecisionTreeClassifier()\n",
    "dt_model.fit(X_train, y_train)\n",
    "y_probs_dt = dt_model.predict_proba(X_test)[:, 1]\n"
   ]
  },
  {
   "cell_type": "code",
   "execution_count": null,
   "id": "a843e583",
   "metadata": {},
   "outputs": [],
   "source": [
    "# Support Vector Machine (SVM)\n",
    "svm_model = SVC(probability=True)\n",
    "svm_model.fit(X_train, y_train)\n",
    "y_probs_svm = svm_model.predict_proba(X_test)[:, 1]\n"
   ]
  },
  {
   "cell_type": "code",
   "execution_count": null,
   "id": "2bc8dd02",
   "metadata": {},
   "outputs": [],
   "source": [
    "# 1. ROC Curves\n",
    "fpr_logreg, tpr_logreg, thresholds_logreg = roc_curve(y_test, y_probs_logreg)\n",
    "roc_auc_logreg = auc(fpr_logreg, tpr_logreg)\n",
    "\n",
    "fpr_dt, tpr_dt, thresholds_dt = roc_curve(y_test, y_probs_dt)\n",
    "roc_auc_dt = auc(fpr_dt, tpr_dt)\n",
    "\n",
    "fpr_svm, tpr_svm, thresholds_svm = roc_curve(y_test, y_probs_svm)\n",
    "roc_auc_svm = auc(fpr_svm, tpr_svm)\n",
    "\n",
    "plt.figure(figsize=(10, 8))\n",
    "plt.plot(fpr_logreg, tpr_logreg, color='darkorange', lw=2, label=f'Logistic Regression AUC = {roc_auc_logreg:.2f}')\n",
    "plt.plot(fpr_dt, tpr_dt, color='green', lw=2, label=f'Decision Tree AUC = {roc_auc_dt:.2f}')\n",
    "plt.plot(fpr_svm, tpr_svm, color='blue', lw=2, label=f'SVM AUC = {roc_auc_svm:.2f}')\n",
    "plt.plot([0, 1], [0, 1], color='navy', lw=2, linestyle='--')\n",
    "plt.xlabel('False Positive Rate')\n",
    "plt.ylabel('True Positive Rate')\n",
    "plt.title('ROC Curves - Logistic Regression, Decision Tree, SVM')\n",
    "plt.legend(loc=\"lower right\")\n",
    "plt.show()\n"
   ]
  },
  {
   "cell_type": "code",
   "execution_count": null,
   "id": "12804acf",
   "metadata": {},
   "outputs": [],
   "source": [
    "# 2. Precision-Recall Curves\n",
    "precision_logreg, recall_logreg, _ = precision_recall_curve(y_test, y_probs_logreg)\n",
    "precision_dt, recall_dt, _ = precision_recall_curve(y_test, y_probs_dt)\n",
    "precision_svm, recall_svm, _ = precision_recall_curve(y_test, y_probs_svm)\n",
    "\n",
    "plt.figure(figsize=(10, 8))\n",
    "plt.plot(recall_logreg, precision_logreg, color='darkorange', lw=2, label='Logistic Regression')\n",
    "plt.plot(recall_dt, precision_dt, color='green', lw=2, label='Decision Tree')\n",
    "plt.plot(recall_svm, precision_svm, color='blue', lw=2, label='SVM')\n",
    "plt.xlabel('Recall')\n",
    "plt.ylabel('Precision')\n",
    "plt.title('Precision-Recall Curves - Logistic Regression, Decision Tree, SVM')\n",
    "plt.legend(loc='best')\n",
    "plt.show()\n",
    "\n"
   ]
  },
  {
   "cell_type": "code",
   "execution_count": null,
   "id": "d1ae516f",
   "metadata": {},
   "outputs": [],
   "source": [
    "# 3. Calibration Curves\n",
    "prob_true_logreg, prob_pred_logreg = calibration_curve(y_test, y_probs_logreg, n_bins=10)\n",
    "prob_true_dt, prob_pred_dt = calibration_curve(y_test, y_probs_dt, n_bins=10)\n",
    "prob_true_svm, prob_pred_svm = calibration_curve(y_test, y_probs_svm, n_bins=10)\n",
    "\n",
    "plt.figure(figsize=(10, 8))\n",
    "plt.plot(prob_pred_logreg, prob_true_logreg, marker='o', linestyle='-', color='darkorange', label='Logistic Regression')\n",
    "plt.plot(prob_pred_dt, prob_true_dt, marker='o', linestyle='-', color='green', label='Decision Tree')\n",
    "plt.plot(prob_pred_svm, prob_true_svm, marker='o', linestyle='-', color='blue', label='SVM')\n",
    "plt.plot([0, 1], [0, 1], linestyle='--', color='navy', label='Perfectly Calibrated')\n",
    "plt.xlabel('Mean Predicted Probability')\n",
    "plt.ylabel('Fraction of Positives')\n",
    "plt.title('Calibration Curves - Logistic Regression, Decision Tree, SVM')\n",
    "plt.legend(loc='best')\n",
    "plt.show()\n"
   ]
  },
  {
   "cell_type": "code",
   "execution_count": null,
   "id": "a9d1de3f",
   "metadata": {},
   "outputs": [],
   "source": [
    "# Define hyperparameter grids\n",
    "param_grid_logreg = {'C': [0.001, 0.01, 0.1, 1, 10, 100]}\n",
    "param_grid_dt = {'max_depth': [None, 10, 20, 30], 'min_samples_split': [2, 5, 10]}\n",
    "param_grid_svm = {'C': [0.1, 1, 10, 100], 'gamma': [0.001, 0.01, 0.1, 1]}\n"
   ]
  },
  {
   "cell_type": "code",
   "execution_count": null,
   "id": "ace8df2f",
   "metadata": {},
   "outputs": [],
   "source": [
    "# Perform Grid Search\n",
    "grid_search_logreg = GridSearchCV(LogisticRegression(max_iter=1000), param_grid_logreg, cv=5, scoring='roc_auc')\n",
    "grid_search_dt = GridSearchCV(DecisionTreeClassifier(), param_grid_dt, cv=5, scoring='roc_auc')\n",
    "grid_search_svm = GridSearchCV(SVC(probability=True), param_grid_svm, cv=5, scoring='roc_auc')\n",
    "\n"
   ]
  },
  {
   "cell_type": "code",
   "execution_count": null,
   "id": "904f449f",
   "metadata": {},
   "outputs": [],
   "source": [
    "# Fit the models with the best hyperparameters\n",
    "grid_search_logreg.fit(X_scaled, y_binary)\n",
    "grid_search_dt.fit(X_scaled, y_binary)\n",
    "grid_search_svm.fit(X_scaled, y_binary)\n"
   ]
  },
  {
   "cell_type": "code",
   "execution_count": null,
   "id": "4da6b4d6",
   "metadata": {},
   "outputs": [],
   "source": [
    "# Display the best hyperparameters\n",
    "print(\"Best Hyperparameters - Logistic Regression:\", grid_search_logreg.best_params_)\n",
    "print(\"Best Hyperparameters - Decision Tree:\", grid_search_dt.best_params_)\n",
    "print(\"Best Hyperparameters - SVM:\", grid_search_svm.best_params_)\n"
   ]
  },
  {
   "cell_type": "code",
   "execution_count": null,
   "id": "9a458d41",
   "metadata": {},
   "outputs": [],
   "source": [
    "# Plot learning curves for each model\n",
    "def plot_learning_curve(model, X, y):\n",
    "    train_sizes, train_scores, test_scores, fit_times, _ = learning_curve(\n",
    "        model, X, y, cv=5, n_jobs=-1, train_sizes=np.linspace(0.1, 1.0, 10), return_times=True\n",
    "    )\n",
    "\n",
    "    train_scores_mean = np.mean(train_scores, axis=1)\n",
    "    train_scores_std = np.std(train_scores, axis=1)\n",
    "    test_scores_mean = np.mean(test_scores, axis=1)\n",
    "    test_scores_std = np.std(test_scores, axis=1)\n",
    "\n",
    "    plt.figure(figsize=(10, 8))\n",
    "    plt.plot(train_sizes, train_scores_mean, label=\"Training score\")\n",
    "    plt.plot(train_sizes, test_scores_mean, label=\"Cross-validation score\")\n",
    "    plt.fill_between(\n",
    "        train_sizes,\n",
    "        train_scores_mean - train_scores_std,\n",
    "        train_scores_mean + train_scores_std,\n",
    "        alpha=0.1,\n",
    "    )\n",
    "    plt.fill_between(\n",
    "        train_sizes,\n",
    "        test_scores_mean - test_scores_std,\n",
    "        test_scores_mean + test_scores_std,\n",
    "        alpha=0.1,\n",
    "    )\n",
    "    plt.xlabel(\"Training examples\")\n",
    "    plt.ylabel(\"Score\")\n",
    "    plt.title(f\"Learning Curve - {type(model).__name__}\")\n",
    "    plt.legend(loc=\"best\")\n",
    "    plt.show()\n",
    "\n"
   ]
  },
  {
   "cell_type": "code",
   "execution_count": null,
   "id": "c45f4747",
   "metadata": {
    "scrolled": false
   },
   "outputs": [],
   "source": [
    "# Plot learning curves for each model\n",
    "plot_learning_curve(logreg_model, X_scaled, y_binary)\n",
    "plot_learning_curve(dt_model, X_scaled, y_binary)\n",
    "plot_learning_curve(svm_model, X_scaled, y_binary)"
   ]
  },
  {
   "cell_type": "code",
   "execution_count": 198,
   "id": "63c41eea",
   "metadata": {},
   "outputs": [],
   "source": [
    "# Cross-validation scores for each model\n",
    "cv_scores_logreg = cross_val_score(logreg_model, X_scaled, y_binary, cv=5, scoring='roc_auc')\n",
    "cv_scores_dt = cross_val_score(dt_model, X_scaled, y_binary, cv=5, scoring='roc_auc')\n",
    "cv_scores_svm = cross_val_score(svm_model, X_scaled, y_binary, cv=5, scoring='roc_auc')\n",
    "\n",
    "\n"
   ]
  },
  {
   "cell_type": "code",
   "execution_count": 199,
   "id": "ca6a1f1e",
   "metadata": {},
   "outputs": [
    {
     "name": "stdout",
     "output_type": "stream",
     "text": [
      "Cross-Validation AUC Scores - Logistic Regression: 0.99\n",
      "Cross-Validation AUC Scores - Decision Tree: 0.88\n",
      "Cross-Validation AUC Scores - SVM: 0.99\n"
     ]
    }
   ],
   "source": [
    "# Print and compare cross-validation scores\n",
    "print(f'Cross-Validation AUC Scores - Logistic Regression: {np.mean(cv_scores_logreg):.2f}')\n",
    "print(f'Cross-Validation AUC Scores - Decision Tree: {np.mean(cv_scores_dt):.2f}')\n",
    "print(f'Cross-Validation AUC Scores - SVM: {np.mean(cv_scores_svm):.2f}')"
   ]
  },
  {
   "cell_type": "code",
   "execution_count": null,
   "id": "c4e71740",
   "metadata": {},
   "outputs": [],
   "source": []
  },
  {
   "cell_type": "code",
   "execution_count": null,
   "id": "97a8131c",
   "metadata": {},
   "outputs": [],
   "source": []
  },
  {
   "cell_type": "code",
   "execution_count": null,
   "id": "b31f7141",
   "metadata": {},
   "outputs": [],
   "source": []
  }
 ],
 "metadata": {
  "kernelspec": {
   "display_name": "Python 3 (ipykernel)",
   "language": "python",
   "name": "python3"
  },
  "language_info": {
   "codemirror_mode": {
    "name": "ipython",
    "version": 3
   },
   "file_extension": ".py",
   "mimetype": "text/x-python",
   "name": "python",
   "nbconvert_exporter": "python",
   "pygments_lexer": "ipython3",
   "version": "3.10.9"
  }
 },
 "nbformat": 4,
 "nbformat_minor": 5
}
